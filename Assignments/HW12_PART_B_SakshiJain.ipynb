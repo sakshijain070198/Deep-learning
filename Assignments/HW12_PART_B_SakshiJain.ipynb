{
  "cells": [
    {
      "cell_type": "markdown",
      "source": [
        "## Part B: Write a chatbot prompt to iteratively create a sequence of chats on one particular custom data.\n",
        "\n",
        "1. The chatbot should be able to answer the questions based on the text data or multiple documents.\n",
        "\n",
        "2. The chatbot should save the conversation in the memory.\n",
        "\n",
        "2. Summarize the chats at the end of the conversation."
      ],
      "metadata": {
        "id": "LTEJ5JmzHwe4"
      }
    },
    {
      "cell_type": "markdown",
      "metadata": {
        "id": "rg8_mMrYw4wV"
      },
      "source": [
        "## Libraries to install\n",
        "\n"
      ]
    },
    {
      "cell_type": "code",
      "source": [
        "!pip install google-cloud-aiplatform\n"
      ],
      "metadata": {
        "colab": {
          "base_uri": "https://localhost:8080/"
        },
        "collapsed": true,
        "id": "qx_UWJVnN99k",
        "outputId": "e44bd72d-f060-43af-c163-d60079e74c88"
      },
      "execution_count": 22,
      "outputs": [
        {
          "output_type": "stream",
          "name": "stdout",
          "text": [
            "Requirement already satisfied: google-cloud-aiplatform in /usr/local/lib/python3.10/dist-packages (1.73.0)\n",
            "Requirement already satisfied: google-api-core!=2.0.*,!=2.1.*,!=2.2.*,!=2.3.*,!=2.4.*,!=2.5.*,!=2.6.*,!=2.7.*,<3.0.0dev,>=1.34.1 in /usr/local/lib/python3.10/dist-packages (from google-api-core[grpc]!=2.0.*,!=2.1.*,!=2.2.*,!=2.3.*,!=2.4.*,!=2.5.*,!=2.6.*,!=2.7.*,<3.0.0dev,>=1.34.1->google-cloud-aiplatform) (2.19.2)\n",
            "Requirement already satisfied: google-auth<3.0.0dev,>=2.14.1 in /usr/local/lib/python3.10/dist-packages (from google-cloud-aiplatform) (2.27.0)\n",
            "Requirement already satisfied: proto-plus<2.0.0dev,>=1.22.3 in /usr/local/lib/python3.10/dist-packages (from google-cloud-aiplatform) (1.25.0)\n",
            "Requirement already satisfied: protobuf!=4.21.0,!=4.21.1,!=4.21.2,!=4.21.3,!=4.21.4,!=4.21.5,<6.0.0dev,>=3.20.2 in /usr/local/lib/python3.10/dist-packages (from google-cloud-aiplatform) (4.25.5)\n",
            "Requirement already satisfied: packaging>=14.3 in /usr/local/lib/python3.10/dist-packages (from google-cloud-aiplatform) (23.2)\n",
            "Requirement already satisfied: google-cloud-storage<3.0.0dev,>=1.32.0 in /usr/local/lib/python3.10/dist-packages (from google-cloud-aiplatform) (2.8.0)\n",
            "Requirement already satisfied: google-cloud-bigquery!=3.20.0,<4.0.0dev,>=1.15.0 in /usr/local/lib/python3.10/dist-packages (from google-cloud-aiplatform) (3.25.0)\n",
            "Requirement already satisfied: google-cloud-resource-manager<3.0.0dev,>=1.3.3 in /usr/local/lib/python3.10/dist-packages (from google-cloud-aiplatform) (1.13.1)\n",
            "Requirement already satisfied: shapely<3.0.0dev in /usr/local/lib/python3.10/dist-packages (from google-cloud-aiplatform) (2.0.6)\n",
            "Requirement already satisfied: pydantic<3 in /usr/local/lib/python3.10/dist-packages (from google-cloud-aiplatform) (2.10.3)\n",
            "Requirement already satisfied: docstring-parser<1 in /usr/local/lib/python3.10/dist-packages (from google-cloud-aiplatform) (0.16)\n",
            "Requirement already satisfied: googleapis-common-protos<2.0.dev0,>=1.56.2 in /usr/local/lib/python3.10/dist-packages (from google-api-core!=2.0.*,!=2.1.*,!=2.2.*,!=2.3.*,!=2.4.*,!=2.5.*,!=2.6.*,!=2.7.*,<3.0.0dev,>=1.34.1->google-api-core[grpc]!=2.0.*,!=2.1.*,!=2.2.*,!=2.3.*,!=2.4.*,!=2.5.*,!=2.6.*,!=2.7.*,<3.0.0dev,>=1.34.1->google-cloud-aiplatform) (1.66.0)\n",
            "Requirement already satisfied: requests<3.0.0.dev0,>=2.18.0 in /usr/local/lib/python3.10/dist-packages (from google-api-core!=2.0.*,!=2.1.*,!=2.2.*,!=2.3.*,!=2.4.*,!=2.5.*,!=2.6.*,!=2.7.*,<3.0.0dev,>=1.34.1->google-api-core[grpc]!=2.0.*,!=2.1.*,!=2.2.*,!=2.3.*,!=2.4.*,!=2.5.*,!=2.6.*,!=2.7.*,<3.0.0dev,>=1.34.1->google-cloud-aiplatform) (2.32.3)\n",
            "Requirement already satisfied: grpcio<2.0dev,>=1.33.2 in /usr/local/lib/python3.10/dist-packages (from google-api-core[grpc]!=2.0.*,!=2.1.*,!=2.2.*,!=2.3.*,!=2.4.*,!=2.5.*,!=2.6.*,!=2.7.*,<3.0.0dev,>=1.34.1->google-cloud-aiplatform) (1.68.1)\n",
            "Requirement already satisfied: grpcio-status<2.0.dev0,>=1.33.2 in /usr/local/lib/python3.10/dist-packages (from google-api-core[grpc]!=2.0.*,!=2.1.*,!=2.2.*,!=2.3.*,!=2.4.*,!=2.5.*,!=2.6.*,!=2.7.*,<3.0.0dev,>=1.34.1->google-cloud-aiplatform) (1.62.3)\n",
            "Requirement already satisfied: cachetools<6.0,>=2.0.0 in /usr/local/lib/python3.10/dist-packages (from google-auth<3.0.0dev,>=2.14.1->google-cloud-aiplatform) (5.5.0)\n",
            "Requirement already satisfied: pyasn1-modules>=0.2.1 in /usr/local/lib/python3.10/dist-packages (from google-auth<3.0.0dev,>=2.14.1->google-cloud-aiplatform) (0.4.1)\n",
            "Requirement already satisfied: rsa<5,>=3.1.4 in /usr/local/lib/python3.10/dist-packages (from google-auth<3.0.0dev,>=2.14.1->google-cloud-aiplatform) (4.9)\n",
            "Requirement already satisfied: google-cloud-core<3.0.0dev,>=1.6.0 in /usr/local/lib/python3.10/dist-packages (from google-cloud-bigquery!=3.20.0,<4.0.0dev,>=1.15.0->google-cloud-aiplatform) (2.4.1)\n",
            "Requirement already satisfied: google-resumable-media<3.0dev,>=0.6.0 in /usr/local/lib/python3.10/dist-packages (from google-cloud-bigquery!=3.20.0,<4.0.0dev,>=1.15.0->google-cloud-aiplatform) (2.7.2)\n",
            "Requirement already satisfied: python-dateutil<3.0dev,>=2.7.2 in /usr/local/lib/python3.10/dist-packages (from google-cloud-bigquery!=3.20.0,<4.0.0dev,>=1.15.0->google-cloud-aiplatform) (2.8.2)\n",
            "Requirement already satisfied: grpc-google-iam-v1<1.0.0dev,>=0.12.4 in /usr/local/lib/python3.10/dist-packages (from google-cloud-resource-manager<3.0.0dev,>=1.3.3->google-cloud-aiplatform) (0.13.1)\n",
            "Requirement already satisfied: annotated-types>=0.6.0 in /usr/local/lib/python3.10/dist-packages (from pydantic<3->google-cloud-aiplatform) (0.7.0)\n",
            "Requirement already satisfied: pydantic-core==2.27.1 in /usr/local/lib/python3.10/dist-packages (from pydantic<3->google-cloud-aiplatform) (2.27.1)\n",
            "Requirement already satisfied: typing-extensions>=4.12.2 in /usr/local/lib/python3.10/dist-packages (from pydantic<3->google-cloud-aiplatform) (4.12.2)\n",
            "Requirement already satisfied: numpy<3,>=1.14 in /usr/local/lib/python3.10/dist-packages (from shapely<3.0.0dev->google-cloud-aiplatform) (1.26.4)\n",
            "Requirement already satisfied: google-crc32c<2.0dev,>=1.0 in /usr/local/lib/python3.10/dist-packages (from google-resumable-media<3.0dev,>=0.6.0->google-cloud-bigquery!=3.20.0,<4.0.0dev,>=1.15.0->google-cloud-aiplatform) (1.6.0)\n",
            "Requirement already satisfied: pyasn1<0.7.0,>=0.4.6 in /usr/local/lib/python3.10/dist-packages (from pyasn1-modules>=0.2.1->google-auth<3.0.0dev,>=2.14.1->google-cloud-aiplatform) (0.6.1)\n",
            "Requirement already satisfied: six>=1.5 in /usr/local/lib/python3.10/dist-packages (from python-dateutil<3.0dev,>=2.7.2->google-cloud-bigquery!=3.20.0,<4.0.0dev,>=1.15.0->google-cloud-aiplatform) (1.16.0)\n",
            "Requirement already satisfied: charset-normalizer<4,>=2 in /usr/local/lib/python3.10/dist-packages (from requests<3.0.0.dev0,>=2.18.0->google-api-core!=2.0.*,!=2.1.*,!=2.2.*,!=2.3.*,!=2.4.*,!=2.5.*,!=2.6.*,!=2.7.*,<3.0.0dev,>=1.34.1->google-api-core[grpc]!=2.0.*,!=2.1.*,!=2.2.*,!=2.3.*,!=2.4.*,!=2.5.*,!=2.6.*,!=2.7.*,<3.0.0dev,>=1.34.1->google-cloud-aiplatform) (3.4.0)\n",
            "Requirement already satisfied: idna<4,>=2.5 in /usr/local/lib/python3.10/dist-packages (from requests<3.0.0.dev0,>=2.18.0->google-api-core!=2.0.*,!=2.1.*,!=2.2.*,!=2.3.*,!=2.4.*,!=2.5.*,!=2.6.*,!=2.7.*,<3.0.0dev,>=1.34.1->google-api-core[grpc]!=2.0.*,!=2.1.*,!=2.2.*,!=2.3.*,!=2.4.*,!=2.5.*,!=2.6.*,!=2.7.*,<3.0.0dev,>=1.34.1->google-cloud-aiplatform) (3.10)\n",
            "Requirement already satisfied: urllib3<3,>=1.21.1 in /usr/local/lib/python3.10/dist-packages (from requests<3.0.0.dev0,>=2.18.0->google-api-core!=2.0.*,!=2.1.*,!=2.2.*,!=2.3.*,!=2.4.*,!=2.5.*,!=2.6.*,!=2.7.*,<3.0.0dev,>=1.34.1->google-api-core[grpc]!=2.0.*,!=2.1.*,!=2.2.*,!=2.3.*,!=2.4.*,!=2.5.*,!=2.6.*,!=2.7.*,<3.0.0dev,>=1.34.1->google-cloud-aiplatform) (2.2.3)\n",
            "Requirement already satisfied: certifi>=2017.4.17 in /usr/local/lib/python3.10/dist-packages (from requests<3.0.0.dev0,>=2.18.0->google-api-core!=2.0.*,!=2.1.*,!=2.2.*,!=2.3.*,!=2.4.*,!=2.5.*,!=2.6.*,!=2.7.*,<3.0.0dev,>=1.34.1->google-api-core[grpc]!=2.0.*,!=2.1.*,!=2.2.*,!=2.3.*,!=2.4.*,!=2.5.*,!=2.6.*,!=2.7.*,<3.0.0dev,>=1.34.1->google-cloud-aiplatform) (2024.8.30)\n"
          ]
        }
      ]
    },
    {
      "cell_type": "code",
      "source": [
        "pip install pymupdf requests"
      ],
      "metadata": {
        "colab": {
          "base_uri": "https://localhost:8080/"
        },
        "collapsed": true,
        "id": "oz5P0SwcN97z",
        "outputId": "83abc07b-fb99-4328-893c-7a8660263daa"
      },
      "execution_count": 23,
      "outputs": [
        {
          "output_type": "stream",
          "name": "stdout",
          "text": [
            "Collecting pymupdf\n",
            "  Downloading pymupdf-1.25.0-cp39-abi3-manylinux2014_x86_64.manylinux_2_17_x86_64.whl.metadata (3.4 kB)\n",
            "Requirement already satisfied: requests in /usr/local/lib/python3.10/dist-packages (2.32.3)\n",
            "Requirement already satisfied: charset-normalizer<4,>=2 in /usr/local/lib/python3.10/dist-packages (from requests) (3.4.0)\n",
            "Requirement already satisfied: idna<4,>=2.5 in /usr/local/lib/python3.10/dist-packages (from requests) (3.10)\n",
            "Requirement already satisfied: urllib3<3,>=1.21.1 in /usr/local/lib/python3.10/dist-packages (from requests) (2.2.3)\n",
            "Requirement already satisfied: certifi>=2017.4.17 in /usr/local/lib/python3.10/dist-packages (from requests) (2024.8.30)\n",
            "Downloading pymupdf-1.25.0-cp39-abi3-manylinux2014_x86_64.manylinux_2_17_x86_64.whl (20.0 MB)\n",
            "\u001b[2K   \u001b[90m━━━━━━━━━━━━━━━━━━━━━━━━━━━━━━━━━━━━━━━━\u001b[0m \u001b[32m20.0/20.0 MB\u001b[0m \u001b[31m93.1 MB/s\u001b[0m eta \u001b[36m0:00:00\u001b[0m\n",
            "\u001b[?25hInstalling collected packages: pymupdf\n",
            "Successfully installed pymupdf-1.25.0\n"
          ]
        }
      ]
    },
    {
      "cell_type": "code",
      "source": [
        "pip install google-generativeai"
      ],
      "metadata": {
        "colab": {
          "base_uri": "https://localhost:8080/"
        },
        "collapsed": true,
        "id": "ihL64GaIN94W",
        "outputId": "8b567fe8-c29f-496f-c4e5-2f6fa40b75e1"
      },
      "execution_count": 24,
      "outputs": [
        {
          "output_type": "stream",
          "name": "stdout",
          "text": [
            "Requirement already satisfied: google-generativeai in /usr/local/lib/python3.10/dist-packages (0.8.3)\n",
            "Requirement already satisfied: google-ai-generativelanguage==0.6.10 in /usr/local/lib/python3.10/dist-packages (from google-generativeai) (0.6.10)\n",
            "Requirement already satisfied: google-api-core in /usr/local/lib/python3.10/dist-packages (from google-generativeai) (2.19.2)\n",
            "Requirement already satisfied: google-api-python-client in /usr/local/lib/python3.10/dist-packages (from google-generativeai) (2.151.0)\n",
            "Requirement already satisfied: google-auth>=2.15.0 in /usr/local/lib/python3.10/dist-packages (from google-generativeai) (2.27.0)\n",
            "Requirement already satisfied: protobuf in /usr/local/lib/python3.10/dist-packages (from google-generativeai) (4.25.5)\n",
            "Requirement already satisfied: pydantic in /usr/local/lib/python3.10/dist-packages (from google-generativeai) (2.10.3)\n",
            "Requirement already satisfied: tqdm in /usr/local/lib/python3.10/dist-packages (from google-generativeai) (4.66.6)\n",
            "Requirement already satisfied: typing-extensions in /usr/local/lib/python3.10/dist-packages (from google-generativeai) (4.12.2)\n",
            "Requirement already satisfied: proto-plus<2.0.0dev,>=1.22.3 in /usr/local/lib/python3.10/dist-packages (from google-ai-generativelanguage==0.6.10->google-generativeai) (1.25.0)\n",
            "Requirement already satisfied: googleapis-common-protos<2.0.dev0,>=1.56.2 in /usr/local/lib/python3.10/dist-packages (from google-api-core->google-generativeai) (1.66.0)\n",
            "Requirement already satisfied: requests<3.0.0.dev0,>=2.18.0 in /usr/local/lib/python3.10/dist-packages (from google-api-core->google-generativeai) (2.32.3)\n",
            "Requirement already satisfied: cachetools<6.0,>=2.0.0 in /usr/local/lib/python3.10/dist-packages (from google-auth>=2.15.0->google-generativeai) (5.5.0)\n",
            "Requirement already satisfied: pyasn1-modules>=0.2.1 in /usr/local/lib/python3.10/dist-packages (from google-auth>=2.15.0->google-generativeai) (0.4.1)\n",
            "Requirement already satisfied: rsa<5,>=3.1.4 in /usr/local/lib/python3.10/dist-packages (from google-auth>=2.15.0->google-generativeai) (4.9)\n",
            "Requirement already satisfied: httplib2<1.dev0,>=0.19.0 in /usr/local/lib/python3.10/dist-packages (from google-api-python-client->google-generativeai) (0.22.0)\n",
            "Requirement already satisfied: google-auth-httplib2<1.0.0,>=0.2.0 in /usr/local/lib/python3.10/dist-packages (from google-api-python-client->google-generativeai) (0.2.0)\n",
            "Requirement already satisfied: uritemplate<5,>=3.0.1 in /usr/local/lib/python3.10/dist-packages (from google-api-python-client->google-generativeai) (4.1.1)\n",
            "Requirement already satisfied: annotated-types>=0.6.0 in /usr/local/lib/python3.10/dist-packages (from pydantic->google-generativeai) (0.7.0)\n",
            "Requirement already satisfied: pydantic-core==2.27.1 in /usr/local/lib/python3.10/dist-packages (from pydantic->google-generativeai) (2.27.1)\n",
            "Requirement already satisfied: grpcio<2.0dev,>=1.33.2 in /usr/local/lib/python3.10/dist-packages (from google-api-core[grpc]!=2.0.*,!=2.1.*,!=2.10.*,!=2.2.*,!=2.3.*,!=2.4.*,!=2.5.*,!=2.6.*,!=2.7.*,!=2.8.*,!=2.9.*,<3.0.0dev,>=1.34.1->google-ai-generativelanguage==0.6.10->google-generativeai) (1.68.1)\n",
            "Requirement already satisfied: grpcio-status<2.0.dev0,>=1.33.2 in /usr/local/lib/python3.10/dist-packages (from google-api-core[grpc]!=2.0.*,!=2.1.*,!=2.10.*,!=2.2.*,!=2.3.*,!=2.4.*,!=2.5.*,!=2.6.*,!=2.7.*,!=2.8.*,!=2.9.*,<3.0.0dev,>=1.34.1->google-ai-generativelanguage==0.6.10->google-generativeai) (1.62.3)\n",
            "Requirement already satisfied: pyparsing!=3.0.0,!=3.0.1,!=3.0.2,!=3.0.3,<4,>=2.4.2 in /usr/local/lib/python3.10/dist-packages (from httplib2<1.dev0,>=0.19.0->google-api-python-client->google-generativeai) (3.2.0)\n",
            "Requirement already satisfied: pyasn1<0.7.0,>=0.4.6 in /usr/local/lib/python3.10/dist-packages (from pyasn1-modules>=0.2.1->google-auth>=2.15.0->google-generativeai) (0.6.1)\n",
            "Requirement already satisfied: charset-normalizer<4,>=2 in /usr/local/lib/python3.10/dist-packages (from requests<3.0.0.dev0,>=2.18.0->google-api-core->google-generativeai) (3.4.0)\n",
            "Requirement already satisfied: idna<4,>=2.5 in /usr/local/lib/python3.10/dist-packages (from requests<3.0.0.dev0,>=2.18.0->google-api-core->google-generativeai) (3.10)\n",
            "Requirement already satisfied: urllib3<3,>=1.21.1 in /usr/local/lib/python3.10/dist-packages (from requests<3.0.0.dev0,>=2.18.0->google-api-core->google-generativeai) (2.2.3)\n",
            "Requirement already satisfied: certifi>=2017.4.17 in /usr/local/lib/python3.10/dist-packages (from requests<3.0.0.dev0,>=2.18.0->google-api-core->google-generativeai) (2024.8.30)\n"
          ]
        }
      ]
    },
    {
      "cell_type": "code",
      "source": [
        "pip install PyPDF2"
      ],
      "metadata": {
        "colab": {
          "base_uri": "https://localhost:8080/"
        },
        "collapsed": true,
        "id": "JS3gVpgEN91M",
        "outputId": "33417bc6-c2d8-4d3e-fea4-dd2811045e05"
      },
      "execution_count": 25,
      "outputs": [
        {
          "output_type": "stream",
          "name": "stdout",
          "text": [
            "Collecting PyPDF2\n",
            "  Downloading pypdf2-3.0.1-py3-none-any.whl.metadata (6.8 kB)\n",
            "Downloading pypdf2-3.0.1-py3-none-any.whl (232 kB)\n",
            "\u001b[2K   \u001b[90m━━━━━━━━━━━━━━━━━━━━━━━━━━━━━━━━━━━━━━━━\u001b[0m \u001b[32m232.6/232.6 kB\u001b[0m \u001b[31m5.0 MB/s\u001b[0m eta \u001b[36m0:00:00\u001b[0m\n",
            "\u001b[?25hInstalling collected packages: PyPDF2\n",
            "Successfully installed PyPDF2-3.0.1\n"
          ]
        }
      ]
    },
    {
      "cell_type": "code",
      "source": [
        "pip install pdfplumber"
      ],
      "metadata": {
        "colab": {
          "base_uri": "https://localhost:8080/"
        },
        "collapsed": true,
        "id": "MRGVpcqaN9xm",
        "outputId": "5e84c258-b8b8-415b-f3a6-3ec729badead"
      },
      "execution_count": 45,
      "outputs": [
        {
          "output_type": "stream",
          "name": "stdout",
          "text": [
            "Requirement already satisfied: pdfplumber in /usr/local/lib/python3.10/dist-packages (0.11.4)\n",
            "Requirement already satisfied: pdfminer.six==20231228 in /usr/local/lib/python3.10/dist-packages (from pdfplumber) (20231228)\n",
            "Requirement already satisfied: Pillow>=9.1 in /usr/local/lib/python3.10/dist-packages (from pdfplumber) (11.0.0)\n",
            "Requirement already satisfied: pypdfium2>=4.18.0 in /usr/local/lib/python3.10/dist-packages (from pdfplumber) (4.30.0)\n",
            "Requirement already satisfied: charset-normalizer>=2.0.0 in /usr/local/lib/python3.10/dist-packages (from pdfminer.six==20231228->pdfplumber) (3.4.0)\n",
            "Requirement already satisfied: cryptography>=36.0.0 in /usr/local/lib/python3.10/dist-packages (from pdfminer.six==20231228->pdfplumber) (43.0.3)\n",
            "Requirement already satisfied: cffi>=1.12 in /usr/local/lib/python3.10/dist-packages (from cryptography>=36.0.0->pdfminer.six==20231228->pdfplumber) (1.17.1)\n",
            "Requirement already satisfied: pycparser in /usr/local/lib/python3.10/dist-packages (from cffi>=1.12->cryptography>=36.0.0->pdfminer.six==20231228->pdfplumber) (2.22)\n"
          ]
        }
      ]
    },
    {
      "cell_type": "code",
      "source": [
        "pip install --upgrade google-cloud-aiplatform"
      ],
      "metadata": {
        "colab": {
          "base_uri": "https://localhost:8080/",
          "height": 898
        },
        "collapsed": true,
        "id": "lp7Sd2JFOOAC",
        "outputId": "a08a93f8-a4c9-4bc8-b6fb-a3bdfec02988"
      },
      "execution_count": 27,
      "outputs": [
        {
          "output_type": "stream",
          "name": "stdout",
          "text": [
            "Requirement already satisfied: google-cloud-aiplatform in /usr/local/lib/python3.10/dist-packages (1.73.0)\n",
            "Collecting google-cloud-aiplatform\n",
            "  Downloading google_cloud_aiplatform-1.74.0-py2.py3-none-any.whl.metadata (31 kB)\n",
            "Requirement already satisfied: google-api-core!=2.0.*,!=2.1.*,!=2.2.*,!=2.3.*,!=2.4.*,!=2.5.*,!=2.6.*,!=2.7.*,<3.0.0dev,>=1.34.1 in /usr/local/lib/python3.10/dist-packages (from google-api-core[grpc]!=2.0.*,!=2.1.*,!=2.2.*,!=2.3.*,!=2.4.*,!=2.5.*,!=2.6.*,!=2.7.*,<3.0.0dev,>=1.34.1->google-cloud-aiplatform) (2.19.2)\n",
            "Requirement already satisfied: google-auth<3.0.0dev,>=2.14.1 in /usr/local/lib/python3.10/dist-packages (from google-cloud-aiplatform) (2.27.0)\n",
            "Requirement already satisfied: proto-plus<2.0.0dev,>=1.22.3 in /usr/local/lib/python3.10/dist-packages (from google-cloud-aiplatform) (1.25.0)\n",
            "Requirement already satisfied: protobuf!=4.21.0,!=4.21.1,!=4.21.2,!=4.21.3,!=4.21.4,!=4.21.5,<6.0.0dev,>=3.20.2 in /usr/local/lib/python3.10/dist-packages (from google-cloud-aiplatform) (4.25.5)\n",
            "Requirement already satisfied: packaging>=14.3 in /usr/local/lib/python3.10/dist-packages (from google-cloud-aiplatform) (23.2)\n",
            "Requirement already satisfied: google-cloud-storage<3.0.0dev,>=1.32.0 in /usr/local/lib/python3.10/dist-packages (from google-cloud-aiplatform) (2.8.0)\n",
            "Requirement already satisfied: google-cloud-bigquery!=3.20.0,<4.0.0dev,>=1.15.0 in /usr/local/lib/python3.10/dist-packages (from google-cloud-aiplatform) (3.25.0)\n",
            "Requirement already satisfied: google-cloud-resource-manager<3.0.0dev,>=1.3.3 in /usr/local/lib/python3.10/dist-packages (from google-cloud-aiplatform) (1.13.1)\n",
            "Requirement already satisfied: shapely<3.0.0dev in /usr/local/lib/python3.10/dist-packages (from google-cloud-aiplatform) (2.0.6)\n",
            "Requirement already satisfied: pydantic<3 in /usr/local/lib/python3.10/dist-packages (from google-cloud-aiplatform) (2.10.3)\n",
            "Requirement already satisfied: docstring-parser<1 in /usr/local/lib/python3.10/dist-packages (from google-cloud-aiplatform) (0.16)\n",
            "Requirement already satisfied: googleapis-common-protos<2.0.dev0,>=1.56.2 in /usr/local/lib/python3.10/dist-packages (from google-api-core!=2.0.*,!=2.1.*,!=2.2.*,!=2.3.*,!=2.4.*,!=2.5.*,!=2.6.*,!=2.7.*,<3.0.0dev,>=1.34.1->google-api-core[grpc]!=2.0.*,!=2.1.*,!=2.2.*,!=2.3.*,!=2.4.*,!=2.5.*,!=2.6.*,!=2.7.*,<3.0.0dev,>=1.34.1->google-cloud-aiplatform) (1.66.0)\n",
            "Requirement already satisfied: requests<3.0.0.dev0,>=2.18.0 in /usr/local/lib/python3.10/dist-packages (from google-api-core!=2.0.*,!=2.1.*,!=2.2.*,!=2.3.*,!=2.4.*,!=2.5.*,!=2.6.*,!=2.7.*,<3.0.0dev,>=1.34.1->google-api-core[grpc]!=2.0.*,!=2.1.*,!=2.2.*,!=2.3.*,!=2.4.*,!=2.5.*,!=2.6.*,!=2.7.*,<3.0.0dev,>=1.34.1->google-cloud-aiplatform) (2.32.3)\n",
            "Requirement already satisfied: grpcio<2.0dev,>=1.33.2 in /usr/local/lib/python3.10/dist-packages (from google-api-core[grpc]!=2.0.*,!=2.1.*,!=2.2.*,!=2.3.*,!=2.4.*,!=2.5.*,!=2.6.*,!=2.7.*,<3.0.0dev,>=1.34.1->google-cloud-aiplatform) (1.68.1)\n",
            "Requirement already satisfied: grpcio-status<2.0.dev0,>=1.33.2 in /usr/local/lib/python3.10/dist-packages (from google-api-core[grpc]!=2.0.*,!=2.1.*,!=2.2.*,!=2.3.*,!=2.4.*,!=2.5.*,!=2.6.*,!=2.7.*,<3.0.0dev,>=1.34.1->google-cloud-aiplatform) (1.62.3)\n",
            "Requirement already satisfied: cachetools<6.0,>=2.0.0 in /usr/local/lib/python3.10/dist-packages (from google-auth<3.0.0dev,>=2.14.1->google-cloud-aiplatform) (5.5.0)\n",
            "Requirement already satisfied: pyasn1-modules>=0.2.1 in /usr/local/lib/python3.10/dist-packages (from google-auth<3.0.0dev,>=2.14.1->google-cloud-aiplatform) (0.4.1)\n",
            "Requirement already satisfied: rsa<5,>=3.1.4 in /usr/local/lib/python3.10/dist-packages (from google-auth<3.0.0dev,>=2.14.1->google-cloud-aiplatform) (4.9)\n",
            "Requirement already satisfied: google-cloud-core<3.0.0dev,>=1.6.0 in /usr/local/lib/python3.10/dist-packages (from google-cloud-bigquery!=3.20.0,<4.0.0dev,>=1.15.0->google-cloud-aiplatform) (2.4.1)\n",
            "Requirement already satisfied: google-resumable-media<3.0dev,>=0.6.0 in /usr/local/lib/python3.10/dist-packages (from google-cloud-bigquery!=3.20.0,<4.0.0dev,>=1.15.0->google-cloud-aiplatform) (2.7.2)\n",
            "Requirement already satisfied: python-dateutil<3.0dev,>=2.7.2 in /usr/local/lib/python3.10/dist-packages (from google-cloud-bigquery!=3.20.0,<4.0.0dev,>=1.15.0->google-cloud-aiplatform) (2.8.2)\n",
            "Requirement already satisfied: grpc-google-iam-v1<1.0.0dev,>=0.12.4 in /usr/local/lib/python3.10/dist-packages (from google-cloud-resource-manager<3.0.0dev,>=1.3.3->google-cloud-aiplatform) (0.13.1)\n",
            "Requirement already satisfied: annotated-types>=0.6.0 in /usr/local/lib/python3.10/dist-packages (from pydantic<3->google-cloud-aiplatform) (0.7.0)\n",
            "Requirement already satisfied: pydantic-core==2.27.1 in /usr/local/lib/python3.10/dist-packages (from pydantic<3->google-cloud-aiplatform) (2.27.1)\n",
            "Requirement already satisfied: typing-extensions>=4.12.2 in /usr/local/lib/python3.10/dist-packages (from pydantic<3->google-cloud-aiplatform) (4.12.2)\n",
            "Requirement already satisfied: numpy<3,>=1.14 in /usr/local/lib/python3.10/dist-packages (from shapely<3.0.0dev->google-cloud-aiplatform) (1.26.4)\n",
            "Requirement already satisfied: google-crc32c<2.0dev,>=1.0 in /usr/local/lib/python3.10/dist-packages (from google-resumable-media<3.0dev,>=0.6.0->google-cloud-bigquery!=3.20.0,<4.0.0dev,>=1.15.0->google-cloud-aiplatform) (1.6.0)\n",
            "Requirement already satisfied: pyasn1<0.7.0,>=0.4.6 in /usr/local/lib/python3.10/dist-packages (from pyasn1-modules>=0.2.1->google-auth<3.0.0dev,>=2.14.1->google-cloud-aiplatform) (0.6.1)\n",
            "Requirement already satisfied: six>=1.5 in /usr/local/lib/python3.10/dist-packages (from python-dateutil<3.0dev,>=2.7.2->google-cloud-bigquery!=3.20.0,<4.0.0dev,>=1.15.0->google-cloud-aiplatform) (1.16.0)\n",
            "Requirement already satisfied: charset-normalizer<4,>=2 in /usr/local/lib/python3.10/dist-packages (from requests<3.0.0.dev0,>=2.18.0->google-api-core!=2.0.*,!=2.1.*,!=2.2.*,!=2.3.*,!=2.4.*,!=2.5.*,!=2.6.*,!=2.7.*,<3.0.0dev,>=1.34.1->google-api-core[grpc]!=2.0.*,!=2.1.*,!=2.2.*,!=2.3.*,!=2.4.*,!=2.5.*,!=2.6.*,!=2.7.*,<3.0.0dev,>=1.34.1->google-cloud-aiplatform) (3.4.0)\n",
            "Requirement already satisfied: idna<4,>=2.5 in /usr/local/lib/python3.10/dist-packages (from requests<3.0.0.dev0,>=2.18.0->google-api-core!=2.0.*,!=2.1.*,!=2.2.*,!=2.3.*,!=2.4.*,!=2.5.*,!=2.6.*,!=2.7.*,<3.0.0dev,>=1.34.1->google-api-core[grpc]!=2.0.*,!=2.1.*,!=2.2.*,!=2.3.*,!=2.4.*,!=2.5.*,!=2.6.*,!=2.7.*,<3.0.0dev,>=1.34.1->google-cloud-aiplatform) (3.10)\n",
            "Requirement already satisfied: urllib3<3,>=1.21.1 in /usr/local/lib/python3.10/dist-packages (from requests<3.0.0.dev0,>=2.18.0->google-api-core!=2.0.*,!=2.1.*,!=2.2.*,!=2.3.*,!=2.4.*,!=2.5.*,!=2.6.*,!=2.7.*,<3.0.0dev,>=1.34.1->google-api-core[grpc]!=2.0.*,!=2.1.*,!=2.2.*,!=2.3.*,!=2.4.*,!=2.5.*,!=2.6.*,!=2.7.*,<3.0.0dev,>=1.34.1->google-cloud-aiplatform) (2.2.3)\n",
            "Requirement already satisfied: certifi>=2017.4.17 in /usr/local/lib/python3.10/dist-packages (from requests<3.0.0.dev0,>=2.18.0->google-api-core!=2.0.*,!=2.1.*,!=2.2.*,!=2.3.*,!=2.4.*,!=2.5.*,!=2.6.*,!=2.7.*,<3.0.0dev,>=1.34.1->google-api-core[grpc]!=2.0.*,!=2.1.*,!=2.2.*,!=2.3.*,!=2.4.*,!=2.5.*,!=2.6.*,!=2.7.*,<3.0.0dev,>=1.34.1->google-cloud-aiplatform) (2024.8.30)\n",
            "Downloading google_cloud_aiplatform-1.74.0-py2.py3-none-any.whl (6.5 MB)\n",
            "\u001b[2K   \u001b[90m━━━━━━━━━━━━━━━━━━━━━━━━━━━━━━━━━━━━━━━━\u001b[0m \u001b[32m6.5/6.5 MB\u001b[0m \u001b[31m57.1 MB/s\u001b[0m eta \u001b[36m0:00:00\u001b[0m\n",
            "\u001b[?25hInstalling collected packages: google-cloud-aiplatform\n",
            "  Attempting uninstall: google-cloud-aiplatform\n",
            "    Found existing installation: google-cloud-aiplatform 1.73.0\n",
            "    Uninstalling google-cloud-aiplatform-1.73.0:\n",
            "      Successfully uninstalled google-cloud-aiplatform-1.73.0\n",
            "Successfully installed google-cloud-aiplatform-1.74.0\n"
          ]
        },
        {
          "output_type": "display_data",
          "data": {
            "application/vnd.colab-display-data+json": {
              "pip_warning": {
                "packages": [
                  "google"
                ]
              },
              "id": "1d2aeab6df924f2a934e1e6c6cc84ece"
            }
          },
          "metadata": {}
        }
      ]
    },
    {
      "cell_type": "code",
      "source": [
        "pip install pinecone-client"
      ],
      "metadata": {
        "colab": {
          "base_uri": "https://localhost:8080/"
        },
        "collapsed": true,
        "id": "SkuKGIA1fUWS",
        "outputId": "3975b39e-4344-48ed-8d70-93562e68aacb"
      },
      "execution_count": 58,
      "outputs": [
        {
          "output_type": "stream",
          "name": "stdout",
          "text": [
            "Collecting pinecone-client\n",
            "  Downloading pinecone_client-5.0.1-py3-none-any.whl.metadata (19 kB)\n",
            "Requirement already satisfied: certifi>=2019.11.17 in /usr/local/lib/python3.10/dist-packages (from pinecone-client) (2024.8.30)\n",
            "Collecting pinecone-plugin-inference<2.0.0,>=1.0.3 (from pinecone-client)\n",
            "  Downloading pinecone_plugin_inference-1.1.0-py3-none-any.whl.metadata (2.2 kB)\n",
            "Collecting pinecone-plugin-interface<0.0.8,>=0.0.7 (from pinecone-client)\n",
            "  Downloading pinecone_plugin_interface-0.0.7-py3-none-any.whl.metadata (1.2 kB)\n",
            "Requirement already satisfied: tqdm>=4.64.1 in /usr/local/lib/python3.10/dist-packages (from pinecone-client) (4.66.6)\n",
            "Requirement already satisfied: typing-extensions>=3.7.4 in /usr/local/lib/python3.10/dist-packages (from pinecone-client) (4.12.2)\n",
            "Requirement already satisfied: urllib3>=1.26.0 in /usr/local/lib/python3.10/dist-packages (from pinecone-client) (2.2.3)\n",
            "Downloading pinecone_client-5.0.1-py3-none-any.whl (244 kB)\n",
            "\u001b[2K   \u001b[90m━━━━━━━━━━━━━━━━━━━━━━━━━━━━━━━━━━━━━━━━\u001b[0m \u001b[32m244.8/244.8 kB\u001b[0m \u001b[31m10.3 MB/s\u001b[0m eta \u001b[36m0:00:00\u001b[0m\n",
            "\u001b[?25hDownloading pinecone_plugin_inference-1.1.0-py3-none-any.whl (85 kB)\n",
            "\u001b[2K   \u001b[90m━━━━━━━━━━━━━━━━━━━━━━━━━━━━━━━━━━━━━━━━\u001b[0m \u001b[32m85.4/85.4 kB\u001b[0m \u001b[31m8.1 MB/s\u001b[0m eta \u001b[36m0:00:00\u001b[0m\n",
            "\u001b[?25hDownloading pinecone_plugin_interface-0.0.7-py3-none-any.whl (6.2 kB)\n",
            "Installing collected packages: pinecone-plugin-interface, pinecone-plugin-inference, pinecone-client\n",
            "Successfully installed pinecone-client-5.0.1 pinecone-plugin-inference-1.1.0 pinecone-plugin-interface-0.0.7\n"
          ]
        }
      ]
    },
    {
      "cell_type": "markdown",
      "source": [
        "## Initialize & Test the Google AI Platform client\n"
      ],
      "metadata": {
        "id": "6JJVATHmQBL3"
      }
    },
    {
      "cell_type": "code",
      "source": [
        "import google.generativeai as genai\n",
        "\n",
        "genai.configure(api_key=\"your_gemini_api_key\")\n",
        "\n",
        "\n",
        "# Define roles and messages\n",
        "messages = [\n",
        "    {\"role\": \"system\", \"content\": \"You are a helpful assistant.\"},\n",
        "    {\"role\": \"user\", \"content\": \"Hi AI, how are you today?\"},\n",
        "    {\"role\": \"assistant\", \"content\": \"I'm great thank you. How can I help you?\"},\n",
        "    {\"role\": \"user\", \"content\": \"I'd like to understand about Breaking Bad.\"}\n",
        "]\n",
        "\n",
        "# Convert messages into a conversational context for the model\n",
        "context = \"\\n\".join(\n",
        "    [f\"{msg['role'].capitalize()}: {msg['content']}\" for msg in messages]\n",
        ")\n",
        "\n",
        "# Initialize the GenerativeModel\n",
        "model = genai.GenerativeModel(\"gemini-1.5-flash\")\n",
        "\n",
        "# Generate a response based on the conversation context\n",
        "response = model.generate_content(f\"{context}\\nAssistant:\")\n",
        "\n",
        "# Print the response\n",
        "print(response.text)\n"
      ],
      "metadata": {
        "colab": {
          "base_uri": "https://localhost:8080/",
          "height": 225
        },
        "id": "CJItyZ54U8IE",
        "outputId": "023c1814-4b8e-4960-df54-b601a5710aab"
      },
      "execution_count": 36,
      "outputs": [
        {
          "output_type": "stream",
          "name": "stdout",
          "text": [
            "Okay, I can help you understand *Breaking Bad*.  To best assist you, tell me what specifically you'd like to know.  For example, are you interested in:\n",
            "\n",
            "* **The plot summary?**  (A general overview of the story)\n",
            "* **The characters?** (Detailed information on Walter White, Jesse Pinkman, Skyler White, etc., and their motivations)\n",
            "* **The themes explored?** (Such as morality, family, ambition, power, consequences)\n",
            "* **The critical reception?** (Why it's considered a masterpiece of television)\n",
            "* **The cinematography and directing style?** (The visual aspects of the show)\n",
            "* **Its cultural impact?** (How it changed television and popular culture)\n",
            "* **Specific scenes or episodes?** (If you have any questions about particular parts of the show)\n",
            "\n",
            "The more specific your question, the better I can answer.\n",
            "\n"
          ]
        }
      ]
    },
    {
      "cell_type": "code",
      "source": [
        "# Get the latest AI response\n",
        "res = response.text  # Store the assistant's latest response\n",
        "\n",
        "# Add the latest AI response to messages\n",
        "messages.append({\"role\": \"assistant\", \"content\": res})\n",
        "\n",
        "# Now create a new user prompt\n",
        "prompt = {\"role\": \"user\", \"content\": \"Who is Walter White?\"}\n",
        "messages.append(prompt)\n",
        "\n",
        "# Convert the updated messages into a conversational context for the model\n",
        "context = \"\\n\".join(\n",
        "    [f\"{msg['role'].capitalize()}: {msg['content']}\" for msg in messages]\n",
        ")\n",
        "\n",
        "# Generate a response using Gemini for the updated context\n",
        "response = model.generate_content(f\"{context}\\nAssistant:\")\n",
        "# Print the response\n",
        "print(response.text)"
      ],
      "metadata": {
        "colab": {
          "base_uri": "https://localhost:8080/",
          "height": 106
        },
        "id": "4Vv50zNIU_6a",
        "outputId": "2ab5d3fc-37c9-49b9-d154-e5cd5098a4e0"
      },
      "execution_count": 37,
      "outputs": [
        {
          "output_type": "stream",
          "name": "stdout",
          "text": [
            "Walter White is the central protagonist of *Breaking Bad*.  He's a high school chemistry teacher in Albuquerque, New Mexico, diagnosed with inoperable lung cancer.  Faced with the prospect of leaving his family with little financial security, he uses his chemistry knowledge to begin cooking methamphetamine, initially with the intention of securing their future before his death.\n",
            "\n",
            "However, his involvement in the drug trade transforms him drastically.  He begins as a timid, somewhat unassertive man, but his experiences in the criminal underworld lead to a complete erosion of his moral compass and a significant shift in his personality. He becomes increasingly ruthless, manipulative, and power-hungry, adopting the alias \"Heisenberg\" to embody this new, darker persona.  His transformation is a central theme of the show, exploring the complexities of human nature and the corrupting influence of power.  He's a complex character, both sympathetic and deeply reprehensible, making him a compelling and controversial figure.\n",
            "\n"
          ]
        }
      ]
    },
    {
      "cell_type": "code",
      "source": [
        "# Get the latest AI response\n",
        "res = response.text  # Store the assistant's latest response\n",
        "\n",
        "# Add the latest AI response to messages\n",
        "messages.append({\"role\": \"assistant\", \"content\": res})\n",
        "\n",
        "# Now create a new user prompt\n",
        "prompt = {\"role\": \"user\", \"content\": \"Why is Breaking bad considered a masterpiece of television?\"}\n",
        "messages.append(prompt)\n",
        "\n",
        "# Convert the updated messages into a conversational context for the model\n",
        "context = \"\\n\".join(\n",
        "    [f\"{msg['role'].capitalize()}: {msg['content']}\" for msg in messages]\n",
        ")\n",
        "\n",
        "# Generate a response using Gemini for the updated context\n",
        "response = model.generate_content(f\"{context}\\nAssistant:\")\n",
        "# Print the response\n",
        "print(response.text)"
      ],
      "metadata": {
        "colab": {
          "base_uri": "https://localhost:8080/",
          "height": 350
        },
        "id": "hB7P_Ev_U7n7",
        "outputId": "ac9bcc2a-7ed7-44d5-f9a3-cc7baebc0219"
      },
      "execution_count": 38,
      "outputs": [
        {
          "output_type": "stream",
          "name": "stdout",
          "text": [
            "*Breaking Bad* is considered a masterpiece of television for a confluence of reasons, making it a landmark achievement in the medium:\n",
            "\n",
            "* **Exceptional Writing and Storytelling:** The show boasts incredibly tight writing, with each episode contributing meaningfully to the overarching narrative.  The plot unfolds with intricate detail, surprising twists, and a relentless build-up of tension. The character arcs are complex and nuanced, defying simple categorization as good or evil.  The pacing is masterful, skillfully balancing moments of quiet character development with explosive action sequences.\n",
            "\n",
            "* **Compelling Characters:**  Walter White's transformation is arguably the most compelling aspect.  His journey from a meek chemistry teacher to a ruthless drug kingpin is meticulously crafted, allowing the audience to both understand his motivations and condemn his actions.  Supporting characters like Jesse Pinkman, Skyler White, and Hank Schrader are equally well-developed, each possessing unique complexities and contributing to the overall narrative tapestry.\n",
            "\n",
            "* **Moral Ambiguity:** The show avoids simplistic morality plays.  Characters operate in shades of grey, making it difficult for the viewer to definitively label anyone as purely \"good\" or \"bad.\"  This ambiguity forces viewers to confront complex ethical dilemmas and consider the motivations behind the characters' actions.\n",
            "\n",
            "* **Masterful Cinematography and Direction:** The visual style of *Breaking Bad* is striking. The use of color, composition, and long takes contributes significantly to the show's atmosphere and emotional impact.  The cinematography often reflects the characters' inner turmoil and the changing dynamics of the story.\n",
            "\n",
            "* **Realistic Depiction of the Drug Trade:**  While stylized, the show's portrayal of the drug trade feels grounded in a certain reality, avoiding the tropes of glamorous crime narratives. The violence and consequences of drug dealing are depicted with unflinching realism.\n",
            "\n",
            "* **Satisfying Conclusion:**  Many shows struggle with delivering a satisfying ending, but *Breaking Bad* pulled it off. The finale provided a conclusion that felt both earned and emotionally resonant, resolving the major plot lines while leaving a lasting impact on the viewer.\n",
            "\n",
            "* **Cultural Impact:**  *Breaking Bad* transcended its genre, influencing subsequent television dramas and significantly raising the bar for quality storytelling on the small screen. Its impact on pop culture is undeniable, with its characters, themes, and catchphrases becoming ingrained in popular consciousness.\n",
            "\n",
            "In short, *Breaking Bad*'s combination of masterful storytelling, complex characters, stunning visuals, and unflinching realism solidified its place as a television masterpiece, influencing the landscape of television for years to come.\n",
            "\n"
          ]
        }
      ]
    },
    {
      "cell_type": "code",
      "execution_count": 39,
      "metadata": {
        "id": "30od2wnkw4wX",
        "colab": {
          "base_uri": "https://localhost:8080/",
          "height": 52
        },
        "outputId": "842c0600-5d62-4430-8ab6-370f04bf7f68"
      },
      "outputs": [
        {
          "output_type": "stream",
          "name": "stdout",
          "text": [
            "*Breaking Bad* premiered on AMC on January 20, 2008, and concluded on September 29, 2013.\n",
            "\n"
          ]
        }
      ],
      "source": [
        "# Get the latest AI response\n",
        "res = response.text  # Store the assistant's latest response\n",
        "\n",
        "# Add the latest AI response to messages\n",
        "messages.append({\"role\": \"assistant\", \"content\": res})\n",
        "\n",
        "# Now create a new user prompt\n",
        "prompt = {\"role\": \"user\", \"content\": \"When was the series released?\"}\n",
        "messages.append(prompt)\n",
        "\n",
        "# Convert the updated messages into a conversational context for the model\n",
        "context = \"\\n\".join(\n",
        "    [f\"{msg['role'].capitalize()}: {msg['content']}\" for msg in messages]\n",
        ")\n",
        "\n",
        "# Generate a response using Gemini for the updated context\n",
        "response = model.generate_content(f\"{context}\\nAssistant:\")\n",
        "# Print the response\n",
        "print(response.text)"
      ]
    },
    {
      "cell_type": "code",
      "source": [
        "# Get the latest AI response\n",
        "res = response.text  # Store the assistant's latest response\n",
        "\n",
        "# Add the latest AI response to messages\n",
        "messages.append({\"role\": \"assistant\", \"content\": res})\n",
        "\n",
        "# Now create a new user prompt\n",
        "prompt = {\"role\": \"user\", \"content\": \"Which platform release the series and what is the imdb rating?\"}\n",
        "messages.append(prompt)\n",
        "\n",
        "# Convert the updated messages into a conversational context for the model\n",
        "context = \"\\n\".join(\n",
        "    [f\"{msg['role'].capitalize()}: {msg['content']}\" for msg in messages]\n",
        ")\n",
        "\n",
        "# Generate a response using Gemini for the updated context\n",
        "response = model.generate_content(f\"{context}\\nAssistant:\")\n",
        "# Print the response\n",
        "print(response.text)"
      ],
      "metadata": {
        "colab": {
          "base_uri": "https://localhost:8080/",
          "height": 52
        },
        "id": "556pzm6GV56z",
        "outputId": "d7c87d12-b44d-4ebb-e328-42d3887c1003"
      },
      "execution_count": 40,
      "outputs": [
        {
          "output_type": "stream",
          "name": "stdout",
          "text": [
            "*Breaking Bad* was released on AMC (American Movie Classics).  Its IMDb rating is 9.5/10,  making it one of the highest-rated television shows on the platform.\n",
            "\n"
          ]
        }
      ]
    },
    {
      "cell_type": "markdown",
      "metadata": {
        "id": "H-JA-ut8w4wY"
      },
      "source": [
        "### Importing the Data"
      ]
    },
    {
      "cell_type": "code",
      "execution_count": 48,
      "metadata": {
        "id": "6oPwiUmbhBx8"
      },
      "outputs": [],
      "source": [
        "import pdfplumber\n",
        "\n",
        "# Function to extract text from PDF using pdfplumber\n",
        "def extract_text_from_pdf(pdf_file):\n",
        "    text = \"\"\n",
        "    with pdfplumber.open(pdf_file) as pdf:\n",
        "        for page in pdf.pages:\n",
        "            text += page.extract_text() or \"\"\n",
        "    return text"
      ]
    },
    {
      "cell_type": "code",
      "execution_count": 49,
      "metadata": {
        "colab": {
          "base_uri": "https://localhost:8080/",
          "height": 140
        },
        "id": "zxc1ORMRf3qv",
        "outputId": "3a679cbe-564a-4aa7-b68b-12e5589acf90"
      },
      "outputs": [
        {
          "output_type": "execute_result",
          "data": {
            "text/plain": [
              "'BREAKING BAD\\n\"Mas\"\\nEpisode #305\\nWritten by\\nMoira Walley-Beckett\\nDirected by\\nJohan Renck\\nAs Broadcast\\nSONY PICTURES TELEVISION INC.\\nAll Rights Reserved © 2009\\nNo portion of this script may be performed, or reproduced by any\\nmeans, or quoted, or published in any medium without prior written\\nconsent of SONY PICTURES TELEVISION INC. * 10202 West Washington\\nBoulevard * Culver City, CA 90232*BREAKING BAD\\n\"Mas\"\\nCast List\\nWALT\\nSKYLER\\nJESSE\\nWALTER, JR.\\nHANK\\nMARIE\\nSAUL GOODMAN\\nGUS\\nGOMEZ\\nCOMBO\\nSKINNY PETE\\nTED BENEKE\\nPAMELA\\nHOLLY\\nJANICE\\nMRS. ORTEGA\\nWAITRESS\\nMA KETTLE\\nPA KETTLE (Non-Speaking)\\n`\\nBREAKING BAD\"Mas\"\\nSet List\\nInteriors:\\nWHITE HOUSE\\nDINING ROOM\\nLIVING ROOM\\nHALLWAY\\nNURSERY\\nNURSERY CLOSET\\nSAUL GOODMAN\\'S OFFICE\\nDEA ABQ\\nBULLPEN\\nHANK\\'S OFFICE\\nSCHRADER HOUSE\\nKITCHEN\\nMASTER BATHROOM\\nTED\\'S HOUSE\\nMASTER BATHROOM\\nLOS POLLOS HERMANOS\\nGUS\\' OFFICE\\nSUPERLAB\\nINDUSTRIAL LAUNDRY\\nSTAIRCASE\\nLAW OFFICE\\nPAMELA\\'S OFFICE\\nMODEST HOUSE\\nCOMBO\\'S BEDROOM\\nSTRIP CLUB\\nCHAMPAGNE ROOM\\nMA & PA KETTLE RV\\nHANK\\'S JEEP COMMANDER\\nSKYLER\\'S GRAND WAGONEER\\nExteriors:\\nRV\\nLOS POLLOS HERMANOS (STOCK)\\nINDUSTRIAL LAUNDRY\\nSAUL GOODMAN\\'S OFFICE\\nPARKING LOT\\nTED\\'S HOUSE\\nRUSTIC CAMPGROUND\\nSTRIP CLUB\\nPARKING LOT\\nMODEST HOUSE\\nMESA CREDIT UNION (PREVIOUSLY SHOT FOOTAGE)TEASER\\nWALTER WHITE\\nSporting a full head of hair and impotent moustache, he’s as\\nbeige as his clothes. He utters the fateful words from the\\nPILOT EPISODE, words that surprise even him:\\nWALT\\nI am... awake.\\nEXT. MESA CREDIT UNION - PARKING LOT - DAY (FLASHBACK)\\nJESSE, bewildered, sits in his low-rider and stares at Walt.\\n(Note: This section is from the pilot so is already shot.\\nWe may recut to suit our needs. No need to schedule!)\\nJESSE\\nYou-you are not like how I remember\\nyou from class. I mean, like, not\\nat all.\\nWalt hands Jesse an ENVELOPE. Jesse pulls out the CASH,\\nquickly counts it. Frowns. Is this a joke?\\nJESSE\\nThis isn’t even seven grand,\\nalright. My guy wants eighty-five.\\nWALT\\nThis is all the money I have in the\\nworld. You are a drug dealer.\\nNegotiate.\\nJesse’s not amused. Walt strides over to his AZTEK.\\nWALT\\nBuy the RV. We start tomorrow.\\nOff Jesse. This whole situation sucks:\\nCLOSE ON: MONEY.\\nA FAT STACK. Hundreds of dollars in JESSE’S HANDS.\\nTIGHT ON JESSE as he FANS OUT the cash he’s holding, counting\\nit QUICK. We’re not sure yet where he is, the background is\\ndark. Music THUMPS. He must be buying the RV... right?\\n(CONTINUED)BREAKING BAD #305 \"Mas\" SCRIPT AS BROADCAST 2.\\nCONTINUED:\\n(Note: this is NEW FOOTAGE FROM HERE ON OUT starting with the\\nmoney, but Jesse should look EXACTLY as he did in the scene\\nwe just saw from the Pilot flashback: WARDROBE, MAKE-UP,\\nEVERYTHING. Please match accordingly).\\nINT. STRIP CLUB - CHAMPAGNE ROOM - NIGHT\\nPULL BACK to reveal Jesse -- a shit-eating GRIN on his face.\\nTWO TOPLESS GIRLS in G-strings DANCE in front of him for his\\nviewing pleasure. He raises his cash-filled hands high in\\nthe air, like he’s KING OF THE WORLD and life is GOOD!\\nJESSE\\nYEAH!!!\\nJesse’s not buying an RV. He’s paying for lap dances from\\nSTRIPPERS. With Mr. White’s hard earned money.\\nOnce upon a time this club aspired to swank, but long ago\\nsettled for seedy. Fortunately, mood lighting, music, booze\\nand libido work wonders on perception. And even though we’re\\nin a private room, hopefully we can see a bit of the club\\nbeyond through a beaded curtain or a frosted door (whatever\\nwe find at the location) to give us a taste of where we are.\\nWIDEN to include SKINNY PETE, Jesse’s new best friend due to\\nthe fact that Jesse’s paying for everything.\\nSKINNY PETE\\nWork it! Work it, baby!\\n(to Jesse)\\nYo, this is SICK, brother!\\nJESSE\\nTOTALLY. Uhn! God.\\nThey grin, clink their BEER BOTTLES. They’re both a little\\ndrunk and high.\\nNEW ANGLE\\nCOMBO swaggers in, a GIRL under each arm. (No, he’s not risen\\nfrom the dead -- we’re still in FLASHBACK).\\nCOMBO\\nYo, Jesse. I got these two fine\\nladies want to par-ti-ci-pate.\\nYou, uh... got the funds?\\nJESSE\\nOh, uh, I got the funds.\\n(grabs his crotch)\\n(MORE)\\n(CONTINUED)BREAKING BAD #305 \"Mas\" SCRIPT AS BROADCAST 3.\\nCONTINUED: (2)\\nJESSE (CONT\\'D)\\nHey, would you ladies like to meet\\nmy fat stack.\\nThe guys all crack up and bump fists -- hilarious! This is\\nshaping up to be the best night EVER.\\nCombo and the girls settle in -- the room is filling up --\\nfour girls and counting. Jesse hails a passing WAITRESS.\\nJESSE\\nHey, yo, yo! Yo, you got\\nchampagne? None of that cheap\\nstuff. I want the expensive shit.\\nDON PER-IG-NON.\\nWAITRESS\\nIt’s four hundred a bottle.\\nJESSE\\nOh well, in that case I’ll only\\nhave two. And-and I want the tall,\\nskinny glasses. I like those\\nskinny glasses.\\nShe goes. Pete and Combo look at each other. Damn!\\nJESSE\\nThat’s what James Bond drinks,\\nmofos. I’m all about that.\\nCOMBO\\nYo Jesse, man, I gotta ask...\\n(on the down-low)\\nWhere’d you get all the cheddar?\\nSKINNY PETE\\nMust be moving mad volume.\\nJESSE\\n(it’s hilarious)\\nIt’s totally funny. Wanna know\\nwhat’s funny?\\nSKINNY PETE\\nWhat’s funny?\\nJESSE\\n(cracking up)\\nThis old dude? He GAVE it to me!\\nHe gave it to me. It’s like his\\nENTIRE life savings!\\nSKINNY PETE\\nWhat? Why?\\n(CONTINUED)BREAKING BAD #305 \"Mas\" SCRIPT AS BROADCAST 4.\\nCONTINUED: (3)\\nThe waitress returns with TWO BOTTLES, EIGHT GLASSES.\\nJESSE\\n‘Cause he’s a DUMBASS, that’s why.\\nOhh... god.\\nCorks POP and the flutes are filled. Jesse counts out $800\\nand tips the waitress a “C” note. Glasses are raised.\\nJESSE\\nYes! Alright! Livin’ large,\\nplayas!\\nCombo pulls out his CAMERA to capture the memories (he’ll do\\nthis a few times throughout the following sequence). FLASH!\\nFREEZE FRAME: Jesse attempts to drink from his glass which is\\nwedged between AMPLE BREASTS (her hands cover her nipples).\\n(It should go without saying that even though we want to show\\nthe reality of a strip club, it’s incumbent upon us to shoot\\nthis to air on our TV14 network. So, to be blunt: no pubic\\nhair, no nipples.)\\nIn between the flash photos that Combo snaps throughout are\\nvarying IMPRESSIONS of the guys partying hard all night long:\\nperhaps some soft focus, some fast motion, some slow motion.\\nThe key here is for us to get the feel of the guys getting\\nprogressively drunk and high -- and so the audience feels\\nlike they’re part of the fun.\\nThe MUSIC CRANKS. Waitresses come and go with more bubbly.\\nFLASH! An ugly, hilarious SHOT: up Skinny Pete’s NOSE as he\\nlooks up into camera after taking a sharp snort of METH.\\nA BOUNCER escorts more girls in and out. The guys indulge --\\nlap dances, booze, a covert meth bump or two.\\nFLASH! A terrible, blurry self-portrait of Combo wedged\\nbetween two strippers.\\nThroughout... Jesse’s fat stack DWINDLES.\\nFLASH! Final FREEZE FRAME:\\nJesse, Combo and a stripper’s GIANT BREASTS resting on their\\nheads (no nipples visible). (Note: This one photo should be\\na good, clean picture of both of our actor’s faces -- you’ll\\nunderstand why at the end of the script.)BREAKING BAD #305 \"Mas\" SCRIPT AS BROADCAST 5.\\nEXT. STRIP CLUB - PARKING LOT - DAY\\nEarly morning, dawn. Just a few cars, including Jesse’s low\\nrider. (One of the cars will be some lame banger-mobile that\\nbelongs to Combo.) A BOUNCER opens the door, holds it for\\nour boys as they stumble out. It shuts behind them.\\nJESSE\\nThank you. Yo! Thank you.\\nSKINNY PETE\\nThat was --\\nHe turns away, PUKES. It’s quick -- one hurl -- we don’t see\\nit, just HEAR it. A second later he stands, wipes his mouth.\\nSKINNY PETE\\n(like nothing happened)\\n-- awesome, bro. Later.\\nNo one cares or even really registers the vomit. That’s just\\nwhat happens. They fist bump, then Skinny Pete weaves away.\\nA thought dawns on Jesse now. He reaches in his pocket,\\npulls out his remaining CASH and counts it. He sobers up\\nfast as reality suddenly hits him.\\nJESSE\\nOh god. Oh, man. Oh, I’m so dead.\\n(off Combo’s look)\\nI only got... ah, damn... I only\\ngot, like, 1400.\\nCOMBO\\n(great news)\\nWaffle House, yeah!\\nJESSE\\nNo, man.\\n(confesses)\\nI was supposed to use that dude’s\\nmoney to buy an RV.\\nCOMBO\\nWhaddya want with a RV for?\\nJESSE\\n‘Cause like... It’s like...\\n(why bother?)\\nNever mind. Jesus! Maybe now I\\ngotta, like, leave town or change\\nmy identity or something. Guy’s\\nblackmailing me. He’s got, like a\\ncriminal mind, yo.\\n(CONTINUED)BREAKING BAD #305 \"Mas\" SCRIPT AS BROADCAST 6.\\nCONTINUED:\\nGloomy silence. Then a sly look crosses Combo’s face.\\nCOMBO\\nRV, huh?\\n(off Jesse’s look)\\nI can hook you up, bro. I can\\ntotally get you a RV.\\nJESSE\\nNo, I need it today. Now.\\nCOMBO\\nNo problem. Let’s go.\\nJESSE\\n(dubious)\\nYou’re telling me you can get me an\\nRV. For 1400. At six in the\\nmorning.\\nOff Combo’s confident nod:\\nEXT. MODEST HOUSE - DAY\\nDawn light. We’re looking at an RV. OUR RV. A hero shot.\\nIt’s parked in the driveway of a low income home. No\\ncriminal vibe about this place. One would guess that hard\\nworking folk live here -- juggling two jobs and kids and\\nSundays are for family -- no time for flowers in the yard.\\nJesse, cold and bleary-eyed, walks the length of the RV,\\nfinishes checking it out (no bullet holes in the door yet).\\nSeems old but okay. It’ll do. Especially now that echoes of\\nthe last few hours are banging on his brain like a burly\\nlandlord demanding late rent.\\nHe stops near the door of the house. On the wall next to the\\ndoor hangs a terra cotta SUN ORNAMENT. Seems to be leering\\nat him in the half light. Creeps him out.\\nCombo, slightly breathless, hustles out the door, hands Jesse\\nthe KEY.\\nJESSE\\nRight on. So do I need to sign\\nsomething or something?\\nCOMBO\\nNah. It’s like, a no paperwork-\\ntype deal.\\nJesse frowns, suspicious. Still... he hands Combo the MONEY.\\n(CONTINUED)BREAKING BAD #305 \"Mas\" SCRIPT AS BROADCAST 7.\\nCONTINUED:\\nCOMBO\\nPleasure doing business with you.\\nSuddenly, LIGHTS flick on inside the house. Combo tenses.\\nCOMBO\\nCome on, we gotta bounce.\\n(off Jesse’s hesitation)\\nFor REAL, yo! Get it out of here!\\nCombo bolts down the driveway and hops into his CRAPPY CAR.\\nJesse doesn’t argue -- this whole daybreak deal is definitely\\nwack. He hurriedly FUMBLES with the lock on the RV’s door,\\nlooks around nervously, finally opens it.\\nEXT. MODEST HOUSE/RV - MOMENTS LATER\\nThe RV’s engine CRANKS. It LURCHES, then BACKS DOWN down the\\ndriveway heading straight toward us.\\nAs it backs across the street, the RV clips some TRASH CANS\\n(those big, plastic “super” cans) -- loud, low THUDS --\\nleaves them sprawled like road kill in its wake.\\nNearby unseen yard dogs appreciate the early morning ruckus\\nand the chance to chime in -- they BARK furiously.\\nAs the neighborhood wakes, the RV accelerates. Fishtails\\naway down the street chasing Combo’s car.\\nEND TEASERBREAKING BAD #305 \"Mas\" SCRIPT AS BROADCAST 8.\\nACT ONE\\nINT. TED BENEKE’S HOUSE - MASTER BATHROOM - DAY\\nPRETTY, BARE FEET on gorgeous slate tile. The toes wiggle.\\nSKYLER (O.S.)\\nOh my god, I love this floor.\\nTILT UP to reveal SKYLER, fresh from the shower, (her hair is\\nnot wet, or maybe just the tips) wearing Ted’s fluffy, white,\\nposh hotel-style BATHROBE. She’s looking down at her bare\\nfeet. Enjoying the feel of the floor, its yummy warmth.\\nWe HEAR the SOUND of water running -- a SHOWER.\\nSKYLER\\nThis feels fantastic. Can you\\ncontrol the temperature?\\nTED (O.S.)\\n(from the shower)\\nYeah, there should, uh, be a switch\\nright next to you there. It’s the\\nthermostat.\\nSky glances over at it (but let’s not make a big deal of this\\nswitch). Then she takes in his large, elegant bathroom.\\nSKYLER’S POV. Late afternoon light glances off the custom\\nfixtures. Everything here is beautifully appointed -- a far\\ncry from the pedestrian White house. We find her BIG PURSE\\nsitting on the counter, distinctly marring the aesthetic.\\nShe continues her rave review of the radiant heat.\\nSKYLER\\nTed, this has gotta be the most\\namazing invention ever.\\nTED BENEKE steps out of the huge glass-fronted shower. He\\ndries off with a white TOWEL. (He should appear to be naked,\\nstepping wet from the shower so we’ll shoot him discreetly.)\\nTED\\nI know. The contractor talked me\\ninto it. It seemed, uh, kind of\\nextravagant, but I gotta tell ya,\\nonce you try it you can’t go back.\\nSky smiles, then looks at herself in the mirror. Her smile\\nfades -- she needs some touching up. She rummages inside her\\npurse, sighs with frustration as she digs through.\\n(CONTINUED)BREAKING BAD #305 \"Mas\" SCRIPT AS BROADCAST 9.\\nCONTINUED:\\nSKYLER\\nI can never find anything in this\\nBuick.\\nShe pulls out a couple of items -- not what she wants -- then\\nproduces her MAKE-UP BAG. Takes out CONCEALER. Ted\\napproaches her with a fond solution.\\nTED\\nYou know, you, uh, could leave a\\nfew things here. If you want.\\nOff Skyler, considering his offer and its implications:\\nINT. WHITE HOUSE - DINING ROOM - EVENING\\nCLOSE ON forks, knives, napkins being dealt with precision\\nlike a poker hand.\\nSkyler, on autopilot, sets the table for dinner. As she\\nplaces the last of the flatware at Walt’s usual spot she\\nstops, surprised at herself. Surprised at how this action is\\nin her DNA after everything that’s happened. In spite of\\neverything. Natural. Pensive, she straightens his fork.\\nWALTER, JR. ambles up, but just before he sits down...\\nSKYLER\\nWhy don’t you go get your dad.\\nFor reasons she can’t even explain to herself, she kinda\\nwants a family dinner. Jr.’s pleased -- this is good.\\nWALTER, JR.\\nSure.\\nINT. WHITE HOUSE - HALLWAY - EVENING\\nMoments later. Walter, Jr. steps into frame and knocks on\\nthe closed nursery door.\\nWALTER, JR.\\nHey, Dad?\\n(no answer)\\nDad?\\nINT. WHITE HOUSE - NURSERY - EVENING - CONTINUOUS\\nWIDE ON the cluttered room; the sad Aero bed and all Walt’s\\nscattered clothes and miscellany, but... no Walt. Then:\\n(CONTINUED)BREAKING BAD #305 \"Mas\" SCRIPT AS BROADCAST 10.\\nCONTINUED:\\nWALT (O.S.)\\n(muffled, calling out)\\nYeah?\\nWALTER, JR. (O.S.)\\nMom’s asking, wanna come to dinner?\\nWait. Where is Walt? There’s nobody in here. Then, the\\nCLOSET DOOR cracks open and Walt pokes his head out.\\nWALT\\nYeah, I-I’ll be right there!\\nAs he listens to Jr. clack away down the hall, we notice he’s\\nstill UNSHAVEN (like in episode 304) and a bit dishevelled.\\nSatisfied that Jr.’s gone, Walt shuts himself back in the\\ncloset. And we’re back on the empty room.\\nINT. WHITE HOUSE - NURSERY - CLOSET - CONTINUOUS\\nTurns out Walt’s in here for privacy, talking on his CELL.\\nSlices of light from around the door illuminate his weird\\nphone booth. Impatiently he shoves away tiny, pink hanging\\nBABY CLOTHES that dangle in his face.\\nWALT\\n(heated whisper)\\nYou’re not listening to me. I\\ndon’t know.\\nINTERCUT WITH:\\nINT. SAUL GOODMAN\\'S OFFICE - SAME\\nJesse’s on the other end of the call. Incensed, he paces\\nback and forth past SAUL, pausing on occasion for emphasis.\\nJESSE\\nUh, yeah, right. Like you DON’T\\nKNOW.\\nWALT\\nWhat did I just say?\\nSAUL\\nGimme the phone. Give it.\\nJESSE\\n(ignores Saul)\\nLike you didn’t make some deal\\nBEHIND MY BACK!\\n(CONTINUED)BREAKING BAD #305 \"Mas\" SCRIPT AS BROADCAST 11.\\nCONTINUED:\\nWALT\\nCorrect. I did not. I was sitting\\nat a stop light, minding my own\\nbusiness, when the man... the-the\\nkid threw a bag of money through my\\nwindow!\\nJESSE\\nWhatever, man. You owe me that\\nmoney!\\nSAUL\\nLemme talk to him.\\nWALT\\nI owe you -- I owe you nothing.\\nAnd I WILL get to the bottom of\\nthis, trust me.\\nJESSE\\nTrust you?! Trust you? That-\\nthat’s a good one, yeah. Yeah,\\nthat’s what I’m gonna do.\\nWALT\\nYou wanna talk about trust, Jesse?\\nLet’s talk about trust? I told you\\nNOT to cook my formula and you went\\nahead and did it anyway!\\nJESSE\\n‘Cause I never said I wouldn’t cook\\nit! ‘Cause it ain’t yours, it’s\\nOURS! Plural, bitch!\\nSaul WHISTLES and gestures: hand over the phone. Again, he’s\\nignored. He’s growing concerned -- doesn’t like where this\\nis headed.\\nWALT\\nYou did not have my permission --\\nJESSE\\nAlls I know is I got HALF the money\\nI’m DUE and you got the rest!\\nSAUL\\n(warning, sotto)\\nEscalating. You’re escalating.\\nJESSE\\nY’know what? Escalate this.\\n(returns to his call)\\nMy meth, my money!\\n(MORE)\\n(CONTINUED)BREAKING BAD #305 \"Mas\" SCRIPT AS BROADCAST 12.\\nCONTINUED: (2)\\nJESSE (CONT\\'D)\\nI will be a one-man glass factory.\\nI’ll rock that RV 24/7..!!!\\nWalt HANGS UP in frustration. Steps out of the closet. He\\nstands there, stewing. Angry. Betrayed. Bewildered.\\nEXT. RUSTIC CAMPGROUND - NIGHT\\nLate. Silent. 4 AM. We’re in a “Car Campground”, where\\nfolks drive in and either pitch a tent or sleep in their RV.\\nAs we PAN various Winnebagos, Airstreams and cars we find...\\nWait, is that OUR RV? An 80’s Bounder. White and brown.\\nSure looks like it.\\nINT. HANK\\'S JEEP COMMANDER - NIGHT - CONTINUOUS\\nPOV. The RV as seen from a distance through the windshield.\\nReveal GOMEZ, sitting alone in the passenger seat staring\\nintently at the RV. We were in his POV. He rubs his eyes,\\nweary, but focused. Peers through NIGHT VISION.\\nGOMEZ’S GRAINY-GREEN POV. The RV’s thick curtains are drawn\\nbut lights seem to be on inside. Near it, in the shadows, we\\nglimpse a MAN. He moves with stealth around the RV, tries to\\nsee in one window... two windows... but clearly, no luck.\\nReluctantly giving up, he jogs toward us and climbs into the\\ndriver’s seat of our truck -- and now we realize, of course,\\nthis is HANK. Careful to be quiet, he gently shuts his door.\\nHANK\\n(frustrated)\\nIt’s buttoned up tight. Can’t see\\na damn thing.\\nGOMEZ\\nI ain’t feeling it.\\nHank is silent, mind racing, intent on finding an angle.\\nGOMEZ\\nNo smoke, no smell, no waste.\\nThere’s no cook.\\nHank eye-fucks the RV, assessing the enemy.\\nHANK\\nCould be they’re setting up. I\\nheard movement inside.\\n(CONTINUED)BREAKING BAD #305 \"Mas\" SCRIPT AS BROADCAST 13.\\nCONTINUED:\\nGOMEZ\\nThen I say we call it a night, come\\nback with a search warrant.\\nHank keeps staring at his prey, as single-minded as Popeye\\nDoyle in the French Connection.\\nHANK\\nI’m not letting this sucker outta\\nmy sight. There’s gotta be a way.\\nThere’s gotta be a way... There’s\\ngotta be a way...\\nSilence. Then a GLEAM in Hank’s eye as inspiration flashes.\\nHe climbs out of the truck, silently heads back to the RV.\\nGomez, puzzled and alert, tries in vain to wave him back.\\nGOMEZ\\nHey, hey, hey...\\nINTERCUT WITH:\\nEXT. RUSTIC CAMPGROUND - NIGHT - CONTINUOUS\\nMaking his way to the rear of the RV, Hank climbs the\\nattached METAL LADDER. Takes great pains to make no sound.\\nIn the truck, Gomez winces, shakes his head. Bad idea.\\nHank climbs onto the top of the RV and pauses. So far, so\\ngood. He gingerly crawls along the roof toward a source of\\nlight: the open SKYLIGHT. Now we get what he’s up to.\\nCould be a smart play. Or it could be disaster. Normally,\\nHank would never risk this kind of caper -- but these days,\\nhe’s on a mission of Ahab proportions.\\nGOMEZ (V.O.)\\nWhat are you doing?\\nHank cautiously progresses, his focus laser-sharp and his\\nmovements silent. Inches away now, he’s nervous but icy...\\nhis face edging closer and closer to the yellow rays of light\\nescaping up through the cranked-open SKYLIGHT.\\nGomez watches, motionless, holding his breath. Jesus, if\\nthis IS a meth lab... his partner may just get himself SHOT.\\nThe tension mounts.\\nHank, holding his breath as well, peers down into the light.\\nWho the hell’s down there?! He angles his head left and\\nright, silently jockeying for a better look. He sees...\\nINTERCUT WITH:BREAKING BAD #305 \"Mas\" SCRIPT AS BROADCAST 14.\\nINT. RV - NIGHT - CONTINUOUS\\nHank’s POV: looking straight down into the living area of\\nthe RV, what we DON’T see is a meth lab. Far from it. Just\\ntypical mid-eighties Bounder accoutrements, with set dressing\\nthat’s folksy and cozy. We ADJUST to REVEAL...\\n... A very large, fifty-something WOMAN sitting in her\\nUNDERWEAR. She’s playing Canasta with her still-older\\nHUSBAND, also in his underwear. Maybe there’s even a little\\nDOG or TWO underfoot (or not -- director’s choice).\\nMa and Pa Kettle as nudists. While not in any way illegal...\\nit’s definitely not a sight meant for public view. And\\nHank’s reaction to it is an exquisite blend of disappointment\\nand revulsion. Ohhhhh, fuck.\\nTime to cut his losses and creep ignominiously back into the\\nnight. Only now, as Hank tries to do just that, the metal\\nroof lets out a CRUNK as he shifts his weight.\\nThe dog or dogs, if we have them, start to YAP-YAP-YAP-YAP.\\nMa Kettle looks up. Seeing Hank, her eyes snap wide and --\\nMA KETTLE\\nAAAAAAAHHH! --\\nPa Kettle bolts upright, sees what Ma is screaming about.\\nOh, crap. Freaked Hank holds up his hands -- it’s cool, it’s\\ncool, it’s cool!\\nAs seen from Gomez’s windshield POV, the RV door flings open\\nand Pa comes out in his boxers with some sort of half-assed\\nmakeshift weapon in hand -- and there’s Hank crouching on the\\nroof above him, trying desperately to calm things down.\\nGOMEZ\\nNo, no, no, no...\\nPA KETTLE\\nWhat the hell are you doing up\\nthere? You some kind of sick\\npervert?\\nGOMEZ\\nAhhh, shit --\\nGomez jumps out of the truck and runs to Hank’s aid. Off the\\ninterior of the now-empty Jeep, its door left open and wobble-\\nwobbling as we hear distant YELLING from o.s...BREAKING BAD #305 \"Mas\" SCRIPT AS BROADCAST 15.\\nEXT. RUSTIC CAMPGROUND - DAWN\\nLater. The sun is now up, or thereabouts. We TILT DOWN from\\nthe lightening sky to find a small crowd of LOOKY-LOOS --\\nfellow RV owners and campers who have been drawn by the\\nprevious scene’s excitement. Their attention is on Hank, who\\nis talking to Ma and Pa Kettle (now dressed in bathrobes or\\nsuch). We’re wide and distant on this scene. From here, we\\ncan’t hear what charming Hank is saying, but we can figure it\\nboils down to “please don’t sue me.”\\nIn f.g., Gomez leans against Hank’s truck, arms and legs\\ncrossed. Shakes his head to himself. Christ, what a night.\\nFinishing up, Hank shakes the old man’s hand and give his\\nshoulder a friendly pat. He walks back to Gomez.\\nHANK\\nGo back to your trailers...\\neverything’s okay.\\n(to Gomez)\\nGuy’s VFW. He’s cool.\\nGomez says nothing. Masking his shame and desperation with\\nhumor and camaraderie, Hank refers to his NOTE PAD.\\nGomez maintains his stoney silence. His partner is more and\\nmore baffling and unreliable. And something else weighs\\nheavy on his mind.\\nHANK\\nAlright. I’ll tell you what, we’re\\ngonna check out a couple more, then\\ncall it a morning. Okay, whaddaya\\nsay?\\nGOMEZ\\nCan’t. I gotta get home.\\nHANK\\nWhat? You leave your balls in your\\nwife’s purse, or what?\\nGomez finally says what he’s been avoiding saying all night.\\nGOMEZ\\nGotta pack.\\nThis is the first Hank’s hearing of this.\\nHANK\\n... Where you headed?\\n(CONTINUED)BREAKING BAD #305 \"Mas\" SCRIPT AS BROADCAST 16.\\nCONTINUED:\\nGomez, feeling like a heel, knowing the crushing blow one\\nword will inflict on his partner, finally answers:\\nGOMEZ\\nTexas.\\nOff Hank, blind-sided, and trying to cover:\\nINT. SCHRADER HOUSE - KITCHEN - DAY\\nEarly morning. LIGHT JAZZ plays. SIX SWEETENER PACKETS lie\\nin a neat row on the kitchen counter.\\nMARIE, dressed for work, prepares her early morning O.C.D.\\ncoffee in her familiar to-go MUG. As she rips and taps, she\\nHEARS Hank enter the house, front door closing with a SLAM.\\nMARIE\\nHey there!\\nAs she finishes up preparing her coffee, she HEARS him WALK\\nRIGHT ON BY. As his footsteps fade...\\nMARIE\\n(frowns)\\nHank?\\n(beat)\\nHank?\\nOff Marie, her instincts telling her something’s wrong.\\nINT. SCHRADER HOUSE - MASTER BATHROOM - DAY\\nHank closes the door. Closes his eyes. His situation, his\\ndecisions, his future all weigh heavily on him. Wearily, he\\nundresses, longing for the solace the shower will bring.\\nKnock-knock. Marie’s outside the door.\\nMARIE (O.S.)\\nCan I come in?\\nBefore beleaguered Hank can say no... Marie enters.\\nChrist. Hank was really hoping for a few minutes alone.\\nHANK\\n(forces a smile)\\nHey, baby.\\n(CONTINUED)BREAKING BAD #305 \"Mas\" SCRIPT AS BROADCAST 17.\\nCONTINUED:\\nHank busies himself -- turns on the shower, adjusts it --\\nwith any luck this chat’ll be short and sweet. Marie makes\\ncasual conversation, trying to gage him.\\nMARIE\\nHey. How’d it go last night?\\nHANK\\nGood.\\nMARIE\\nCatch the bad guys?\\nHANK\\nNope.\\nMARIE\\nWant me to make you some breakfast?\\nHANK\\nNah.\\nHe sheds his t-shirt, climbs in the shower.\\nHANK\\nI’m gonna head back out after this.\\nMARIE\\n(concerned)\\nNow? You worked all night. Get\\nsome sleep, Hank. Those RV’s\\naren’t going anywhere.\\nHANK\\nThey’re recreational vehicles,\\nMarie, that’s what they do.\\nMARIE\\nYou know what I mean.\\nHank lets the water pound down on him. Wills her to leave.\\nMarie, however, has an agenda. It makes her nervous, but...\\nMARIE\\nI spoke with Blanca. She said that\\nSteven’s going to El Paso?\\nHANK\\n(musters neutrality)\\nYeah.\\nMARIE\\nI was... just wondering how you\\nfeel about that.\\n(CONTINUED)BREAKING BAD #305 \"Mas\" SCRIPT AS BROADCAST 18.\\nCONTINUED: (2)\\nHank would rather chew glass than answer.\\nHANK\\n(clipped)\\nI turned it down. End of story.\\nMarie frowns, uncomfortable. They’ve been married a long\\ntime. Hank’s good, but she knows when he’s lying.\\nMARIE\\nGood. Good. Jesus, god knows I’m\\nrelieved...\\nHANK\\nYeah, well, I needed some time here\\n‘cause I’m deep into this\\ninvestigation and I couldn’t do\\nboth so I made a judgement call.\\nMarie musters her courage.\\nMARIE\\nYou know that you can talk to me\\nabout things, right? You don’t\\nhave to go through this alone.\\nChrist. Nightmare. Hank’s having a hard time tamping down\\nhis disquiet. Can’t keep the edge out of his voice.\\nHANK\\n(defensive)\\nDo you ask me which lead bib to put\\non someone before you nuke ‘em?\\nJesus, Marie. I made a decision.\\nI’m not “going through” anything,\\nI’m doing my job.\\nMARIE\\nI would like --\\nHANK\\nI know, I know -- a condo in\\nGeorgetown, I know.\\nMARIE\\n(that’s not it)\\nIf you would let me finish, I was\\ngoing to say I’d like to be\\nincluded, that’s all.\\nHANK\\n(pugnacious)\\nDon’t you worry about my career.\\nMy career’s just fine.\\n(CONTINUED)BREAKING BAD #305 \"Mas\" SCRIPT AS BROADCAST 19.\\nCONTINUED: (3)\\nOuch. Marie hesitates, breathes. Knows she needs to ask a\\nminefield of a question, but she’s desperate for an honest\\nconversation. To feel close to her husband again.\\nMARIE\\n(carefully)\\nDid you not want to go?\\nHe’s silent. Can’t answer without screaming. She intuits.\\nMARIE\\n(delicate)\\nI don’t blame you. I just...\\nThis is more than he can stand.\\nHANK\\nAren’t you late for work or\\nsomething?\\nFor Marie, she’s in for a penny... Now or never.\\nMARIE\\n(takes the chance)\\nI mean, after what happened last\\ntime, it would make perfect sense\\nfor you to not want to go back.\\nThat does it. Too close for comfort. He SNAPS.\\nHANK\\n(anger unleashed)\\nI’m onto important stuff right\\nhere, right now. And Mexico\\ndoesn’t have a damn thing to do\\nwith it. And anybody who doubts\\nthat...\\nHe trails off, leaving the allegation hanging in the air.\\nMarie’s unsure how to proceed in the face of his fury.\\nHANK\\nI’m doing some actual good out here\\nand all I get are these BULLSHIT\\nACCUSATIONS!\\nMarie blinks. Speechless. This whole thing has gone\\nterribly awry. Her feelings are pretty hurt -- Hank keeps\\nshutting her out. Shutting her down. She leaves the room.\\nUnaware that she’s gone, Hank continues his defensive tirade,\\nlying now only to himself. As the shower beats down on him,\\nhe’s an army of one against the world.\\n(CONTINUED)BREAKING BAD #305 \"Mas\" SCRIPT AS BROADCAST 20.\\nCONTINUED: (4)\\nHANK\\nEveryone thinks I’m jerking off on\\nthis thing? FINE. But I’m onto\\nsomething. I know it! YOU\\nUNDERSTAND ME?!\\n(beat)\\nHEAR ME?!\\nNo answer. He pokes his head out and... his rage instantly\\nevaporates as he realizes she’s not there.\\nHank stands again under the water. Something in his soul\\nseems to sag. He rests his forehead against the wall under\\nthe shower head.\\nWorry and shame overwhelm him -- beat him down like the\\nwater. What the hell is wrong with him? Why can’t he get\\nout from under whatever this is?\\nAnd Marie is dangerously close to the secret he’s kept for so\\nlong -- a secret he barely understands, let alone can admit.\\nOff Hank, battling his drenched demons, we...\\nEND ACT ONEBREAKING BAD #305 \"Mas\" SCRIPT AS BROADCAST 21.\\nACT TWO\\nEXT. LOS POLLOS HERMANOS - ESTABLISHING - DAY (STOCK)\\nWalt’s Aztek is parked in the lot.\\nINT. LOS POLLOS HERMANOS - GUS’ OFFICE - DAY\\nCLOSE ON the cash-filled POLLOS HERMANOS BAG (from 304).\\nThe bag sits on Gus’ utilitarian desk between Walt and Gus.\\nThe small room is part office, part storeroom with floor-to-\\nceiling metal shelving stocked with restaurant supplies.\\nWalt is here to set the record straight once and for all.\\nHe will not be played. Silence as he eyes the bag, then Gus.\\nWALT\\nWhat exactly is this?\\nAlways economical with words and movement, Gus makes the\\nslightest you tell me gesture.\\nWALT\\nI’ll tell you what I think it is.\\nA ploy. A ploy to get me cooking\\nagain. And an obvious one, at\\nthat.\\nGUS\\nHow do you mean?\\nWalt, with his own special brand of righteous indignation,\\narticulates his theory to Gus.\\nWALT\\nAs if I would seriously believe you\\nwould hire an addict.\\n(”Come ON!”)\\nJesse Pinkman? Recovering or not --\\nWalt makes a gesture indicating how ludicrous this is.\\nGUS\\nYou vouched for him previously. I\\ntook you at your word.\\nWalt takes the bait.\\nWALT\\nNo-no-no, let me be clear. Let me\\nbe perfectly clear.\\n(MORE)\\n(CONTINUED)BREAKING BAD #305 \"Mas\" SCRIPT AS BROADCAST 22.\\nCONTINUED:\\nWALT (CONT\\'D)\\nJesse was capable of working under\\nmy supervision. Trusting him with\\na... solo venture? Now that’s\\nquite another matter.\\n(it’s ridiculous)\\nHow he could possibly produce\\nanything other than a mediocre\\nproduct? At best?\\nGus responds matter-of-factly.\\nGUS\\nI’m told his product was more or\\nless consistent with the quality I\\nhad come to expect.\\nThis COMPLETELY rankles Walt. Gets under his skin.\\nWALT\\n“MORE or LESS?” “More or less,”\\nreally... wow, that is... talk\\nabout setting the bar low.\\n(the “ah-ha” point)\\nExcept you don’t do that. Set the\\nbar low. Therefore, what\\nconclusion am I left to draw?\\nGus shrugs mildly -- tell me.\\nWALT\\nThat you believe I have some\\nproprietary kind of... selfishness\\nabout my own formula. Hmm? Some\\nsort of... overweening pride, I\\nsuppose, that you think simply\\noverwhelms me. Clouds my\\njudgement.\\nGUS\\nBut it doesn’t.\\nWALT\\nAbsolutely not!\\n(feels a need to add)\\nI simply respect the chemistry!\\nThe chemistry must be respected!\\nGus nods, considers.\\nGUS\\nI apologize for being so\\ntransparent.\\nWalt shrugs, sets his jaw -- yes, well, you should be!\\n(CONTINUED)BREAKING BAD #305 \"Mas\" SCRIPT AS BROADCAST 23.\\nCONTINUED: (2)\\nSilence for a moment. You don’t have to be Freud to sense\\nthat mild, polite Gus is getting everything he wants out of\\nthis meeting, and then some. Time now to seal the deal.\\nGUS\\nWould you take a drive with me?\\n(off Walt’s look)\\nI’d like to show you something.\\nWalt assesses Gus. He appears respectful, pleasant. Doesn’t\\nseem like he wants to put a bullet in Walt’s head...\\nEXT. TED’S HOUSE - DAY\\nBig, nice place in an upscale neighborhood. The outside is a\\nmatch for the inside which we’ve previously seen. Into this\\nframe, Skyler pulls up alone in her old Grand Wagoneer.\\nINT. SKYLER’S GRAND WAGONEER - DAY - CONTINUOUS\\nSkyler cuts her engine, sits here. It’s time again for a\\nlittle afternoon delight, only Ted isn’t home yet -- we can\\nassume they both left the office with a little time-delay\\nbetween them for propriety’s sake.\\nBaby Holly is not present. We’ll see why in a minute.\\nSkyler sighs, sits here thinking. What the hell has my life\\ncome to? Why am I even doing this? Across the street now,\\nTed’s black Beemer pulls into its driveway. Ted climbs out,\\nsmiling at us as he heads for his front door.\\nSkyler smiles faintly back at him. She, too, starts to climb\\nout of her vehicle when the RING of her cell phone stops her.\\nGlancing at its readout, she figures she’d better take it.\\nShe holds up a finger to Ted -- one minute -- then stays\\nwhere she is in her car. He nods and goes on into his house.\\nAnswering her phone, Skyler knows who she’s talking to.\\nSKYLER\\nHi. Is everything okay?\\nINTERCUT WITH:\\nINT. SCHRADER HOUSE - KITCHEN - DAY - CONTINUOUS\\nCLOSE ON BABY HOLLY. She’s being tended to by Marie, who\\nholds her cordless phone to her ear with a shoulder.\\n(CONTINUED)BREAKING BAD #305 \"Mas\" SCRIPT AS BROADCAST 24.\\nCONTINUED:\\nMARIE\\nShe’s already finished an entire\\nbottle but she still seemed hungry.\\nThen she fell asleep. I was\\nthinking I’d give her another when\\nshe wakes up.\\nSKYLER\\nYeah, yeah, yeah. Absolutely,\\nabsolutely. Fatten that baby up.\\nMARIE\\n(a bit distant)\\nWill do.\\nSKYLER\\n(off the silence)\\nUh, was that it?\\nMARIE\\nSo, where are you? Are you at\\nwork?\\nSKYLER\\n(hates the lie)\\nYeah. I’m at work. I-I shouldn’t\\nbe much longer. Is, uh, is that\\nokay..?\\nMARIE\\nYou know I love my little Pookums.\\nYou can leave her with me the next\\neighteen years, as far as I’m\\nconcerned.\\nSKYLER\\nGreat. Thanks Marie.\\n(hesitates, then)\\nAre you sure you’re okay?\\nMore silence. On her side of the call, tears are silently\\nwelling up in Marie’s eyes.\\nSisters being what they are, Skyler can tell. And Ted is\\nwaiting for her inside that big house behind her. Still:\\nSKYLER\\nSweetie... what is it? C’mon...\\nMARIE\\n(finally)\\nIt’s Hank.\\n(CONTINUED)BREAKING BAD #305 \"Mas\" SCRIPT AS BROADCAST 25.\\nCONTINUED: (2)\\nSKYLER\\nHank. What about him?\\nThis is hard for Marie. Intimate stuff. But she’s got\\nSkyler’s full attention, so...\\nMARIE\\nI don’t know how to talk to him. I\\ndon’t know what to say to him\\nanymore. I don’t know how to...\\n(then)\\nEver since El Paso. Ever since...\\nmaybe before.\\nSkyler understands. Sympathizes.\\nSKYLER\\nYeah. God knows he went through a\\nlot down there.\\nMARIE\\n(no shit)\\nPeople blown up right in front of\\nhim. Blood everywhere...\\n(a beat)\\nAnd last week? El Paso said they\\nwant him back.\\nSKYLER\\n(worried to hear it)\\nYeah..?\\nMARIE\\nHe’s not going. Steve Gomez is\\ngoing in his place.\\n(then)\\nAnd I don’t know how I feel about\\nthat.\\nSkyler speaks carefully, tentatively.\\nSKYLER\\nWell, he’s certainly a lot safer up\\nhere, isn’t he?\\nMARIE\\nOf course. And I-I want him safe.\\nBut I can’t tell what he wants. He\\nwon’t talk to me...\\n(exasperated)\\nHe hardly even comes home. He\\nworks all day and all night, barely\\neats, barely speaks to me.\\n(CONTINUED)BREAKING BAD #305 \"Mas\" SCRIPT AS BROADCAST 26.\\nCONTINUED: (3)\\nThis is all too familiar for Skyler. She knows all about\\nliving with a man who keeps secrets.\\nMARIE\\nIt’s like something’s eating him\\naway from inside. He’s just not\\nthe same. He’s not. Facing death,\\nit changes a person. It has to.\\nDon’t you think?\\n(a beat)\\nI guess you’ve noticed a change in\\nWalt.\\nSkyler is struck by the question. She hasn’t thought about\\nit that way in quite some time. Off her, ruminating...\\nEXT. INDUSTRIAL LAUNDRY - DAY\\nWIDE. Gus’ VOLVO travels along a driveway, pulls up in front\\nof a big block of a building. Ordinary. Unremarkable.\\nTrucks come and go from the loading docks. Giant ventilators\\nspew white steam clouds into the blue Albuquerque sky.\\nSIGNAGE on the side of the TRUCKS: LAVANDERÍA INDUSTRIAL,\\nindicates this is a commercial laundry facility.\\nGus and Walt climb out of the car. Walt’s uneasy -- not sure\\nwhy he’s here. What does a laundry have to do with anything?\\nGus, ever courteous, ever inscrutable, invites Walt with a\\ngesture to accompany him inside.\\nGUS\\nPlease.\\nINT. INDUSTRIAL LAUNDRY - DAY\\nNoise. Heat. Steam. Workers wrestle massive mounds of\\nlinens from huge rolling containers into giant rumbling\\nwashing machines and dryers. Walt takes all this in.\\nGus guides Walt as they walk through this controlled chaos --\\ntoo loud to converse.\\nAt a far wall, they arrive at a 3 TON WASHING MACHINE. It\\noperates on giant hydraulics like a dump truck. Gus pushes a\\nBUTTON and the massive hydraulics LIFT and TILT the machine\\non its side per its usual function to disgorge wet, heavy\\nlaundry. This reveals a LOCKED DOOR.\\nGus opens the door with a KEY, revealing a descending\\nSTAIRCASE.\\n(CONTINUED)BREAKING BAD #305 \"Mas\" SCRIPT AS BROADCAST 27.\\nCONTINUED:\\nThey walk UNDER the machine, ducking slightly, and through\\nthe doorway. Gus closes the door behind them.\\nIN THE LAUNDRY, the massive machine tilts back to its\\noriginal position, once again obscuring the door.\\nINT. INDUSTRIAL LAUNDRY - STAIRCASE - DAY\\nGus leads Walt down a flight of stairs. It’s dark. Their\\nfootsteps ECHO. To Walt, it feels claustrophobic, nervous-\\nmaking. What the hell has he gotten himself into?\\nThey reach a landing, still in darkness. Gus FLIPS a switch.\\nFLUORESCENT LIGHTS gradually FLICKER to life, revealing:\\nINT. SUPERLAB - DAY - CONTINUOUS\\nIncredible. Silent. Gleaming. Clean. Impressive. Like a\\nmicro-brewery on crack. Or, in this case, meth. Wow.\\nWalt stands here above it all, blown away. Awestruck.\\nWALT\\nWhat is this?\\nGUS\\nYour new lab.\\nBefore Walt can respond, Gus starts down to the main floor.\\nWalt follows.\\nThey pass enormous vats, long metal tables laden with high-\\nend equipment, HV/AC venting, a fire suppression system and a\\ncomprehensive first aid setup -- with emergency eye-wash\\nstation! Anything and everything a place like this would\\ncontain, based on chemistry and reality? That’s what’s here.\\nAnd while there may be a few items currently crated or\\notherwise not yet installed... as this place is brand-new and\\nnever-been-used... still, this is one impressive facility.\\nTruly an ambitious meth cooker’s wet dream.\\nWalt can’t help himself. He drifts amongst it all, touching,\\nlooking, murmuring half-aloud. He is deeply impressed.\\nWALT\\nMy God... Thorium oxide... for a\\ncatalyst bed?! Look at the size of\\nthis reaction vessel? It’s gotta\\nbe 1200 liters. Wow.\\nGus watches Walt, pleased. Knows this is enticing stuff.\\nActually, he himself is pretty proud of it.\\n(CONTINUED)BREAKING BAD #305 \"Mas\" SCRIPT AS BROADCAST 28.\\nCONTINUED:\\nWALT\\nWhere-where..? How did you know\\nhow to put this all together?\\nGUS\\nI had excellent help. As will you.\\n(then)\\nQuite a lot of planning went into\\nthis.\\nWALT\\nI would... say so.\\nWalt continues checking everything out as Gus elaborates.\\nGUS\\nThe laundry upstairs, I’ve owned it\\nfor years. It receives large\\nchemical deliveries on a weekly\\nbasis -- detergents and such.\\nThere’s nothing suspicious about\\nit. And my employees, to be sure,\\nare well-trained. Trustworthy.\\n(indicates the lab)\\nThe filtration system is state-of-\\nthe-art. It will vent nothing but\\nclean, odorless steam. Just as the\\nlaundry does, and through the very\\nsame stacks.\\nListening closely, Walt surveys the massive overhead DUCTING.\\nGUS\\nI need two hundred pounds per week\\nto make this economically viable.\\nWalt mentally calculates. With this set-up, totally doable.\\nGUS\\nYou would choose your own hours, of\\ncourse, come and go as you please.\\nSo long as the quota is met.\\nWalt’s mind reels with cash and possibility. And yet...\\nWALT\\n(softly)\\nSorry. The answer is still no.\\nGus studies Walt. Reads his heavy regret. His remorse.\\nWalt feels he owes Gus an explanation.\\n(CONTINUED)BREAKING BAD #305 \"Mas\" SCRIPT AS BROADCAST 29.\\nCONTINUED: (2)\\nWALT\\nI have made a series of very bad\\ndecisions, and I cannot make\\nanother one.\\nGUS\\nWhy did you make these decisions?\\nWalt hesitates, uncomfortable. This is personal stuff.\\nWALT\\nFor the good of my family.\\nGUS\\nThen they weren’t bad decisions.\\nWhat does a man do, Walter?\\n(off Walt’s confusion)\\nA man provides for his family.\\nWALT\\nThis COST me my family.\\nGus chides Walt -- quietly, to be sure. And yet it’s the\\nfirst EMOTION we’ve ever seen from him. It’s arresting, and\\nintense, and it gets Walt’s attention. And ours.\\nGUS\\nWhen you have children, you always\\nhave family. They will always be\\nyour priority. Your\\nresponsibility. And a man..? A\\nman provides. And he does it even\\nwhen he’s not appreciated... or\\nrespected... or even loved. He\\nsimply bears up, and he does it.\\nBecause he’s a man.\\nWalt, who’s been grasping at the straws of his family life,\\ndesperately needs to hear this. He is moved, and very torn.\\nThere’s not one false note in Gus’ pitch. And no wonder, as\\nhe’s the very best sort of salesman -- the sort who utterly\\nbelieves in what he’s selling.\\nOff Walt, pondering what may be one of the last big decisions\\nof his life...\\nEND ACT TWOBREAKING BAD #305 \"Mas\" SCRIPT AS BROADCAST 30.\\nACT THREE\\nINT. TED BENEKE’S HOUSE - MASTER BATHROOM - AFTERNOON\\nSkyler’s BARE FEET on that warm slate floor. (Note: this is\\na literal, intentional repeat of the act one scene -- same\\nframe, same angle). Skyler’s again in Ted’s bathroom making\\nher few small post-tryst repairs.\\nSky sighs deeply as she rubs away mascara smudges from under\\nher eyes. This is not a proud moment. She’s less and less\\nsure she likes who she sees in the mirror.\\nCLOSE ON her feet. She SHIFTS from foot to foot on the warm\\nfloor. Uncomfortable. Not enjoying it.\\nShe’s clearly unhappy and unsettled. Her inner turmoil\\nchurns -- thoughts about her choices, her future. And\\nsuddenly everything that she liked about being here now rubs\\nher the wrong way.\\nAs before, she digs impatiently in her purse -- not having\\ntaken Ted up on his offer to leave things here. Ted intrudes\\non her thoughts. Calls to her from the adjacent bedroom.\\nTED (O.S.)\\nAny chance we could grab a quick\\nbite? Thai place around the\\ncorner’s pretty good.\\nOdd. Sky used to wish she could, but in this moment:\\nSKYLER\\nUm, I really gotta head home.\\nTED\\nAlright. Rain check, then.\\nAnd she realizes... she does. Home beckons like a beacon.\\nSuddenly, all she wants is to get the hell out of here. And\\nthis warm fucking floor is obnoxious.\\nShe grabs a TOWEL, drops it down on the floor.\\nANGLE ON THE FLOOR. Her feet on the towel. Fuck radiant\\nheat.\\nINT. WHITE HOUSE - DINING ROOM - EVENING\\nCLOSE ON forks, knives, napkins again being dealt with\\nprecision. Yet again, it’s dinner time and Skyler sets the\\ntable.\\n(CONTINUED)BREAKING BAD #305 \"Mas\" SCRIPT AS BROADCAST 31.\\nCONTINUED:\\n(Note: These images should have a purposeful, repetitive feel\\nbrought about by similar camera angles, etc. We want the\\naudience to achieve a feeling of deja vu).\\nExcept for one difference. This time, Skyler consciously\\nsets down Walt’s flatware without hesitation.\\nCLOSE ON Skyler as she finishes her task. Obviously, she’s\\nnot having a problem with Walt being in the house. There’s a\\nlightness about her. Could it be that she’s... softening..?\\nINT. WHITE HOUSE - DINING ROOM - EVENING - TIME CUT\\nIt’s 30 minutes later. WIDE on the whole White family, with\\nHolly settled in her bassinet nearby.\\nThe meal is half over and the mood is relaxed -- at least for\\nSkyler and Walter, Jr. Walt, on the other hand, has a lot on\\nhis mind, but he’s not adding any tension. This is, we\\nrealize, the first easeful family moment in this train wreck\\nof a household in as long as we can remember.\\nWalter, Jr. is actually cheerful as he nears the end of a\\nstory he’s telling.\\nWALTER, JR.\\nShe said it was the tofu.\\nWhatever. She’s still cute,\\nanyways.\\nSmiles all around. Walt fakes his. He’s doing his best to\\nlisten, but his thoughts are elsewhere. Junior stuffs down\\nhis final bite.\\nWALTER, JR.\\nUm. Great dinner, Mom. Um, Can I\\nbe, can I be excused?\\nSKYLER\\nTo do homework or to play video\\ngames?\\nWALTER, JR.\\n(mischievous)\\nI can multi-task.\\nSKYLER\\nYeah.\\nJunior grins at his folks and goes...\\n... leaving Walt and Skyler alone. Sky sneaks a glance at\\nWalt who appears lost in thought as he chews.\\n(CONTINUED)BREAKING BAD #305 \"Mas\" SCRIPT AS BROADCAST 32.\\nCONTINUED:\\nShe searches Walt’s down-turned face. Wants to say\\nsomething, but... what, exactly? Probably a list of\\nsentences each beginning with “I wish.” She sighs, resumes\\neating.\\nWalt glances at Skyler -- she doesn’t notice. He has a wish\\nlist that remains unspoken, too.\\nThe clink of cutlery in the otherwise silent room.\\nA melancholy settles over the two of them. Makes us want to\\nstep in and fix it. It’s so sad -- right when one of them\\nwants to connect the other is far away. And neither of them\\nwill ever know. Ships passing in the night.\\nBaby Holly starts to fuss.\\nBoth their heads turn to the baby. Walt makes no move toward\\nher however -- Sky has made it clear he’s not welcome to help\\nwith her care. His eyes return to his plate. Not angry, not\\ncold -- accepting. How things are. He’s reminded of what\\nGus said. Knows this child will always be his and he’ll\\nalways love and provide for her, no matter the circumstances.\\nSkyler is about to tend to the baby when she stops herself.\\nMakes a small query that speaks volumes:\\nSKYLER\\nYou wanna take her?\\nWalt lifts his head. He would. He would very much, although\\nhe doesn’t quite express it. Just nods.\\nWalt rises and carefully lifts the baby from her seat, places\\nher over his shoulder. Tenderly, he rubs her tiny back,\\npresses his nose to her sweet baby scent. Heaven. As he\\nsways slightly, side to side, soothing her, she quiets.\\nOff Sky as she wistfully observes this moment of father and\\nchild...\\nEXT. ALBUQUERQUE SKY - NIGHT/DAY - TIME LAPSE\\nHANK (PRE-LAP)\\n(hint of desperation)\\nGimme something, Andy. Come on.\\nINT. DEA ABQ - HANK’S OFFICE - MORNING\\nHank’s on the phone. He’s agitated, really needing some good\\nnews. The list of RV’s is in front of him.\\n(CONTINUED)BREAKING BAD #305 \"Mas\" SCRIPT AS BROADCAST 33.\\nCONTINUED:\\nINSERT: The list. 29 RV’s. As we PAN DOWN the list, we\\nrealize all of them are CROSSED OUT. All but ONE.\\nChatter, bursts of laughter intrude on Hank’s conversation.\\nHe glances toward the bullpen.\\nHANK’S POV: Through the blinds on his window he can see all\\nthe agents gathered in a cluster. An informal farewell PARTY\\nfor Gomez is in progress.\\nHank focuses on his call and the list. His PEN is poised.\\nHANK\\nWelded onto the back of a house.\\nWell, that’s classy. Christ.\\nOkay. Thanks.\\nHe hangs up.\\nTHE LIST. Reluctantly, Hank CROSSES OFF THE LAST RV.\\nDefeat washes over him like sea-sickness. Ahab can’t find\\nhis whale. What the fuck is he going to do? A RAP on his\\nwindow interrupts. An AGENT gestures: join the festivities.\\nHank gives a nod. The hits just keep on coming. A WOMAN\\nholding a CAKE walks past his open door.\\nHANK\\nHey Janice? Janice!\\nShe appears in his doorway. Stands there. This is Hank’s\\npreviously un-established SECRETARY, JANICE.\\nHank holds up the list, showing it to her. A hopeful look on\\nhis face. Any chance there’s another RV out there?\\nShe sees the lines drawn through all the RV’s. Understands.\\nShakes her head “no.”\\nJANICE\\nThat the last one?\\nHe nods.\\nJANICE\\nSorry, Hank. That’s all DMV had.\\nTwenty-nine early 80’s Bounders\\nregistered in New Mexico.\\nHANK\\nCould you check again?\\n(CONTINUED)BREAKING BAD #305 \"Mas\" SCRIPT AS BROADCAST 34.\\nCONTINUED: (2)\\nJANICE\\n(barely hiding her dismay)\\nNow?\\nHe nods. She looks down at the cake in her hands.\\nJANICE\\nCan I do it after the party?\\nHank can’t disguise the reality of his situation. And in\\nthis moment, he almost looks small at his desk.\\nHANK\\nJanice, I’m, uh, I’m dead in the\\nwater here.\\nJanice would really like to join the party, but acquiesces.\\nJANICE\\nOkay. I’ll check.\\nHe nods sincere thanks. She walks out of sight.\\nHank looks out his window at the party. Sighs. Gotta do the\\nright thing here. With that, he grabs something off his desk\\n(we don’t see what) and heads out and into the fray.\\nINT. DEA ABQ - BULLPEN - CONTINUOUS\\nOnce out of his office, Hank turns it on like a pro. All\\nsmiles and bravado as he approaches Gomez, who stands talking\\nto several fellow AGENTS.\\nHANK\\nGomie! Time for the little bird to\\nfly the nest, huh?\\nGomez gives him a small smile. A good-natured nod.\\nHANK\\nThey got the right guy for the job.\\n‘Specially since the bean-speak\\ncomes natural and all, y’know.\\nGOMEZ\\nWanna know how to say get bent in\\nSpanish?\\nHANK\\nJust don’t go native on me,\\nalright?\\n(CONTINUED)BREAKING BAD #305 \"Mas\" SCRIPT AS BROADCAST 35.\\nCONTINUED:\\nThey’re doing their jocular best, but it’s awkward. They\\nboth know this is killing Hank.\\nHANK\\nOh, hey, uh, here.\\nHank hands Gomez a little “going away” present. It’s the\\nbust of JESUS MALVERDE, patron saint of drug lords (the one\\nHank was given in El Paso in episode 207).\\nHANK\\nKnow your enemy and all.\\nGomez is touched, but plays it cool. Hank motors through,\\nkeeping it casual although both of them know better.\\nHANK\\nFight the good fight, brother.\\nGOMEZ\\nI will.\\nThe two old partners shake hands. Hank gives Gomez’s\\nshoulder a fond, reassuring slap, too. This gesture is all\\nthe more meaningful in light of their recent discord. And\\nHank’s downwardly mobile career. Hank breaks the moment.\\nHANK\\nWhat do we got to drink around\\nhere?\\nHe uses this cavalier question to extricate himself. Moves\\naway from the crowd.\\nINT. DEA ABQ - BULLPEN - DAY - TIME CUT\\nA few minutes later. CLOSE ON THE CAKE being cut. (Janice\\ndoesn’t cut it -- she’s busy with Hank’s task). We see now\\nthe cake is decorated with a CARICATURE OF GOMEZ holding a\\nGUN in one hand and waving two colorful FLAGS made out of\\nICING -- one Mexico, one USA, in the other.\\nINT. DEA ABQ - BULLPEN - DAY - TIME CUT\\nMinutes later. Hank sits on the edge of a random desk,\\nabsently eating a slice of cake. He stares out the window.\\nHe’s deliberately set himself a little apart from the group\\nwhere Gomez and the other agents mingle.\\nJanice arrives. Holds out a PAPER to him. Hank fights to\\nkeep himself from lunging for it. Remains calm.\\n(CONTINUED)BREAKING BAD #305 \"Mas\" SCRIPT AS BROADCAST 36.\\nCONTINUED:\\nJANICE\\nYour hunch was right. One more RV.\\n(hands it over)\\nDMV said the registration wasn’t\\nrenewed, but then they realized it\\nwas never filed as non-operational\\nor destroyed. No police report,\\neither.\\nOff Hank and his faint glimmer of hope...\\nINT. WHITE HOUSE - HALLWAY - DAY\\nEmpty hall... until Skyler steps out from the master bedroom\\ncarrying a laundry basket, half-full. She steps out of sight\\ninto Junior’s room. We hold a few seconds, and then she\\ncomes back into view, her basket a bit more full. It’s\\nlaundry day, obviously, and she’s on her way to the washer.\\nNo one else is home. Passing the nursery now, Skyler slows.\\nReconsiders. A bit reluctantly... or maybe self-\\nconsciously... she turns and retraces her steps.\\nINT. WHITE HOUSE - NURSERY - CONTINUOUS\\nSky enters. Pauses. Feels a little weird about invading\\nWalt’s makeshift space. She hasn’t been in here since he\\nforced his way back into the house. She looks around. God,\\nthis used to be such a happy room.\\nShe checks in with herself: ah, the hell with it -- why not?\\nShe’s doing laundry anyway. Why waste the hot water? Might\\nas well collect some of Walt’s stuff, too.\\nShe picks her way around the disorderly room. It’s not that\\nit’s chaotic, it’s just pretty crowded and congested what\\nwith the inflatable bed and all Walt’s stacks of clothes, a\\nSUITCASE, miscellany and a BOX or two. (There should be a\\ndistinct incongruity between Walt’s belongings and the\\nnursery items). Skyler gathers up Walt’s dirty clothes.\\nThe closet door is open. It’s not that she’s looking for it,\\nexactly... but something on the TOP SHELF catches her eye.\\nIt’s the familiar BLACK DUFFEL BAG where Walt keeps his cash.\\nSkyler stares at it, then abruptly turns away. It has\\nnothing to do with her. Nothing. She picks up a t-shirt.\\nIn spite of herself, she turns back and stares again at the\\nduffel. Thinks about its contents. All that cash.\\n(CONTINUED)BREAKING BAD #305 \"Mas\" SCRIPT AS BROADCAST 37.\\nCONTINUED:\\nIt’s just so unbelievable -- doesn’t seem real. Maybe just a\\npeek. No. Yes. She can’t resist its siren call.\\nShe sets down her basket. Hating herself, she reaches up.\\nANGLE FROM ABOVE, INSIDE THE CLOSET as she reaches toward\\ncamera, toward the bag. She pulls at the bag -- holy CRAP,\\nit’s really heavy. Even though she’s got a good grasp on it,\\nthe bag lands on the floor with a weighty THUD.\\nShe kneels down and opens it -- ZZZZZZZZZZIP. Revealing:\\nTHE MONEY. All of it. Some bills slightly charred.\\nOn Skyler. Even though she’s seen it once before, the sight\\nof it now still freezes her.\\nHard not to imagine what the future would look like with the\\nease this money could afford. Without the constant, wearying\\nstruggle to make ends meet.\\nShe stares now with unseeing eyes. Deep in her thoughts, she\\nexamines her moral compass. Why is she feeling so ambivalent\\nabout Walt? Even this money? Is she weak, or just worn\\ndown? She’s never been less clear.\\nSkyler jerks herself free from her troubling ruminations and\\ncomes back to the here and now. A little mad at herself.\\nShe zips up the bag. Hefts it back up onto the shelf,\\ncarefully arranging it to look as if she never touched it.\\nANGLE from the nursery door. Skyler, feeling almost ashamed,\\nquickly picks up her laundry basket and leaves the room.\\nThe black duffel bag remains in our view, a dark, ominous\\ncharacter waiting, unmoving, like Poe’s raven.\\nSKYLER (PRE-LAP)\\nI just don’t know what the hell I’m\\ndoing anymore, y’know?\\nINT. LAW OFFICE - PAMELA’S OFFICE - DAY\\nSkyler sits across from her divorce lawyer, PAMELA.\\nConfused. Isolated. She desperately needs to talk.\\nSKYLER\\nIt’s like I’m paralyzed. Like if I\\ntake a step in any direction I’m\\ngonna make a spectacular mistake.\\nPamela, impassive, listens. Sky’s so uncomfortable.\\n(CONTINUED)BREAKING BAD #305 \"Mas\" SCRIPT AS BROADCAST 38.\\nCONTINUED:\\nSKYLER\\nGod, I could go for a glass of wine\\nabout now. Do you wanna go --\\nsorry, never mind. Ech. Anyway.\\n(announcing, embarrassed)\\nThe breaking news is I am sleeping\\nwith my boss and I don’t know why.\\nPAMELA\\n(displeased)\\nWow.\\nSKYLER\\nYep.\\nSky continues. Everything’s been bottled up for so long.\\nSKYLER\\nThat’s a lie. I um... I do know\\nwhy.\\n(Pamela is listening)\\nI mean, he’s a lovely guy, he’s-\\nhe’s-he’s a really good person,\\nbut, I mean, it’s like we’re ever\\ngonna...\\n(thinks; starts over)\\nSomehow, and I can’t actually\\nbelieve it, but, uh, my entire\\nfamily sees me as some sort of...\\n(”villain”)\\nMy own sister, my brother-in-law.\\nMy-my-my teenage son tells me I’m a\\nbitch. And you say tell him the\\ntruth, tell him about his father --\\nbut I can’t. Ever. How could I?\\n(softer)\\nAnd this man that I’m seeing, you\\nknow, as wrong as I know it is...\\nas much as I know I’m probably\\ndoing it just to make Walt leave\\nme... it is the only thing in my\\nday where I don’t feel like I’m...\\n(searches for the word)\\n... Drowning.\\nPAMELA\\nSo he knows about this other man?\\n(off Skyler’s nod)\\nSo then -- he’ll sign?\\nSky half-shrugs, half-shakes her head -- probably not.\\n(CONTINUED)BREAKING BAD #305 \"Mas\" SCRIPT AS BROADCAST 39.\\nCONTINUED: (2)\\nSKYLER\\nUm, Walt says he’s not going\\nanywhere.\\n(hating herself)\\nSo that’s a, that’s a really\\nbrilliant gambit on my part, yeah.\\nGenius.\\nMore silence as she considers making another big confession.\\nSKYLER\\n(tentative)\\nHe keeps money in the house.\\nPAMELA\\nYour husband. The drug dealer.\\n(off Sky’s nod)\\nHow much money?\\nSkyler haltingly divulges what she knows.\\nSKYLER\\nI didn’t count it. It’s-it’s\\nheavy. The bag. Where he keeps\\nit.\\nPamela can’t help but rub her suddenly aching brow. Jesus.\\nPAMELA\\nAre you asking my permission to\\nspend this money?\\nSKYLER\\nNo! God, no. I-no. God. I’m\\njust trying to, just talk it\\nthrough. That’s...\\nPAMELA\\nLet me just say that I’m half as\\nqualified and twice the price of a\\ntherapist. There is nothing to\\ndiscuss here, Skyler.\\nSKYLER\\nI’m just saying, you know? We have\\na history. He’s the father of my\\nchildren. And maybe what he did,\\nhe did --\\nPAMELA\\n-- He did it for the family, right?\\n(off Skyler’s nod)\\nWell, guess what. That is one\\nenormous load of horseshit.\\n(CONTINUED)BREAKING BAD #305 \"Mas\" SCRIPT AS BROADCAST 40.\\nCONTINUED: (3)\\nSKYLER\\nOkay.\\nSkyler is taken aback -- do lawyers actually talk like this?\\nShe doesn’t respond. Can’t. So Pamela continues.\\nPAMELA\\nI’m going to spell this out as\\nsimply as I can for you. You are a\\nfool to stay in that house one\\nminute longer. If your husband\\nwon’t leave, then you go. You are\\nnow an accessory after the fact.\\nYou are culpable. You, your\\nchildren, you could lose everything\\nyou own -- do you understand? --\\nall courtesy of this criminal you\\nrefuse to divorce.\\nSkyler bristles a little, simultaneously defensive and\\nchastened. A big part of her knows everything Pamela is\\nsaying is not only well-intended, but true. And yet...\\nSKYLER\\n(softly)\\nI didn’t marry a criminal.\\nPAMELA\\nWell you’re married to one now.\\nOff Sky, without a decent counter-argument... yet seemingly\\nunconvinced..?\\nEND ACT THREEBREAKING BAD #305 \"Mas\" SCRIPT AS BROADCAST 41.\\nACT FOUR\\nINT. WHITE HOUSE - LIVING ROOM - DAY\\nThe house is quiet. Empty. We HEAR the JINGLE of KEYS in\\nthe lock. The front door opens and Skyler enters. She’s\\nreturning home from her lawyer’s office. Ex-lawyer.\\nMaybe she drove around for a while trying to think things\\nthrough, but to no avail. She’s still in a preoccupied daze.\\nMuch to consider. Wrapped up in her thoughts.\\nShe wanders through the living room, sets her purse on the\\ndining room table. In a call back to Walt in episode 213,\\nshe tenderly touches her baby’s tiny hand. She looks around\\nwith fresh eyes. Will this place ever feel like a home\\nagain? Is this still what she wants?\\nINT. WHITE HOUSE - HALLWAY - DAY\\nSkyler, still pensive, wanders down the hall. The nursery\\ndoor is open and she glances in as she passes by. Suddenly,\\nshe stops short. Backs up a step. Looks into the nursery.\\nPOV: The nursery is neat as a pin; no Aero bed, no clothes,\\nno duffel bag... no Walt.\\nINT. WHITE HOUSE - NURSERY - CONTINUOUS\\nSky slowly enters, absorbing the reality of what she’s\\nseeing. Walt has finally left. He’s gone. Something in the\\ncrib catches her eye.\\nANGLE FROM THE CRIB. Skyler leans over, reaches in...\\n... and lifts up the DIVORCE PAPERS.\\nAfter a stunned beat, she quickly flips to the back page to\\nfind...\\nWALT’S SIGNATURE. There it is. Black and white. Walter H.\\nWhite.\\nSky stares at this. It’s hard to believe. She’s gotten what\\nshe wants... hasn’t she?\\nEXT. SAUL GOODMAN\\'S OFFICE - ESTABLISHING - DAY\\nJesse’s TERCEL is parked in the lot.BREAKING BAD #305 \"Mas\" SCRIPT AS BROADCAST 42.\\nINT. SAUL GOODMAN\\'S OFFICE - DAY\\nSaul and Jesse sit, waiting. Judging from the look of\\nthings, they’ve been here awhile. Jesse’s knee bounces. His\\npatience wears thin. With each passing second Jesse grows\\nmore aggravated.\\nJesse sighs. Rises to his feet, ready to leave.\\nSAUL\\nHowsabout we run through this thing\\none more time. Especially the part\\nwhere I do all the talking and you\\ndon’t say jack.\\nJESSE\\nOh, I’m gonna say jack. I’m gonna\\nsay plenty.\\nSAUL\\nWha-what did we say about\\nescalating? Huh? Who’s got your\\nback here? Me. Alright. I’m\\ngonna take care of things.\\nBut Jesse’s chewing a thumbnail -- not really listening.\\nSAUL\\nHey, what’re the parameters of this\\nsobriety thing you got going?\\nJESSE\\nWhat do you mean?\\nSAUL\\nCan you take a Xanax? Cause, I got\\na drawer full of ‘em. I, uh, I get\\n‘em from my --\\n(finger quotes)\\n-- “Chiropractor.” Vietnamese.\\nFive foot tall. She adjusts you to\\n“completion.” Her name’s Kim Nu\\nSuong. As delicious as it sounds.\\nI should give you her card.\\nJESSE\\n(not even listening)\\nTo hell with this. I’m outta here.\\nSaul’s intercom BUZZES. He picks up. Shoots Jesse an aren’t\\nI always right? look. Jesse pauses.\\nINTERCOM VOICE\\nHe’s here.\\n(CONTINUED)BREAKING BAD #305 \"Mas\" SCRIPT AS BROADCAST 43.\\nCONTINUED:\\nSAUL\\nSend him in.\\nWalt enters. The two ex-partners face each other across the\\nroom. Jesse’s tense, ready for a fight. Walt is...\\ninscrutable. Saul hustles over and adroitly steers Walt,\\ntreating him as if their middle-aged fight never happened.\\nSAUL\\nHello, Walt. Good to see you.\\nPlease, uh... have a seat. Here.\\n(to Jesse)\\nMr. Pinkman, if you will?\\nThey each take a seat. Saul settles into a chair, ready to\\nmediate. Jesse scowls at Walt, who seems impervious.\\nJESSE\\nYou’re late.\\nSAUL\\nGentlemen. If we could come to\\nsome accommodation here, now.\\nThere’s always a way to oil\\neveryone’s lock.\\n(to Walt)\\nThis young man is prepared to offer\\nyou a sweetheart of a deal for\\ndoing precisely nothing.\\nWALT\\nReally.\\nSAUL\\nTen percent of all future profits\\nfrom his solo venture. That’s\\nmoney you get paid for simply\\nwalking down to the mailbox! --\\n(off Walt’s silence)\\nConsider it a gesture of respect\\nfor your valuable contribution to\\nthe business thus far. I’m sure\\nyou’ll agree that’s fair.\\nJESSE\\nThat’s charity, is what that is. I\\ndo all the work, he sits around on\\nhis fat ass judging people --\\nWalt blinks at Jesse’s line, but otherwise sits impassively.\\nSAUL\\nHey-hey. Escalating. Stop.\\n(back to Walt)\\n(MORE)\\n(CONTINUED)BREAKING BAD #305 \"Mas\" SCRIPT AS BROADCAST 44.\\nCONTINUED: (2)\\nSAUL (CONT\\'D)\\nSo there’s that. Then there’s one\\nsmall detail: clearly a mistake\\nwas made on the part of our mutual\\nassociate when he paid you half of\\nJesse’s earnings. He must not have\\nrealized that you two had come to a\\nparting of the ways.\\nBefore Saul can say any more, Walt pulls the POLLOS BAG from\\ninside his jacket. Places it on the coffee table.\\nWALT\\nTake it. It belongs to you.\\nJESSE\\nYou’re damn right it belongs to me.\\nJesse grabs it up and quickly counts it, double-checking that\\nWalt hasn’t shorted him. Saul is pleased.\\nSAUL\\nI knew I could count on you boys to\\nplay nice. That’s -- that almost\\nbrings a tear to my eye.\\nWALT\\n(to Jesse)\\nEnjoy it. Spend it in good health.\\n(then)\\nThat is the last money you’ll ever\\nearn in this business.\\nJESSE\\nWhat the hell’s that s’posed to\\nmean?\\nWalt enjoys delivering the news.\\nWALT\\nWell, I hate to break it to you,\\nJesse, but our --\\n(quotes Saul)\\n-- “mutual associate” was only\\nusing you to get to me.\\nJESSE\\nWhat are you talking about?\\nWALT\\nSee, he needs someone with\\nexpertise. Someone who knows what\\nhe’s doing. In other words, he\\nneeds me.\\n(CONTINUED)BREAKING BAD #305 \"Mas\" SCRIPT AS BROADCAST 45.\\nCONTINUED: (3)\\nJesse sputters, not believing what he’s hearing.\\nJESSE\\nYou’re telling me you’re cooking\\nagain? --\\nWALT\\nYeah. Let’s see... how shall I put\\nthis? I’m in. You’re out.\\nHis revenge thus delivered ice-cold, Walt rises to leave.\\nJesse, stung, struggles to understand.\\nSaul, ever-attuned to opportunity, senses the shift in the\\nwinds of fortune. He stops Walt with:\\nSAUL\\nWhoa-whoa Walt. Hold on there!\\nHey. What was the offer, if I may\\nask?\\nWalt pauses. Usually closed-mouthed about such matters, he\\ncan’t resist.\\nWALT\\nIt’s, uh, three million for three\\nmonths of my time.\\nSaul’s mouth goes dry. Like it’s been stuffed with thousand\\ndollar bills. He can taste them on his tongue.\\nWalt turns on his heel to go. Saul stops him again.\\nSAUL\\nWha -- You-you’re gonna need that\\nmoney laundered, right? I mean, of\\ncourse.\\n(needy; grasping)\\nWhat was our deal before?\\nSeventeen percent? That’s a shade\\nhigh. Let’s settle on an even\\nfifteen. That’s a nice round\\nnumber.\\nWALT\\n(a beat, then)\\nFive percent.\\nSAUL\\nFourteen’s fair.\\nThey negotiate rapid fire as if Jesse’s not even in the room.\\n(CONTINUED)BREAKING BAD #305 \"Mas\" SCRIPT AS BROADCAST 46.\\nCONTINUED: (4)\\nWALT\\nFive.\\nSAUL\\nThirteen.\\nWALT\\nFive.\\nSAUL\\nTwelve for old time’s sake.\\nTwelve.\\nWALT\\nFive.\\nSAUL\\nI’m a reasonable guy. It’s a short\\nterm deal. Ten even. But I can’t\\ngo any lower and still respect\\nmyself.\\nWalt turns to leave.\\nSAUL\\n(ahhh fuck; finally)\\nFive!\\nThey shake. Saul got trounced but at least he’s in.\\nJesse slowly rises to his feet, mouth agape. Stunned with\\nanger and hurt. Can’t believe what he’s just witnessed.\\nJESSE\\nWhat in the hell just happened?\\n(to Saul)\\nYou’re my lawyer, not HIS! --\\nSaul’s bravado falters a little. Is that a hint of guilt?\\nSAUL\\nThat’s the way of the world, kid.\\nYou go with the winner.\\nJesse practically trembles with rage, but his voice is clear.\\nJESSE\\nYou think this’ll stop me from\\ncooking?!\\n(CONTINUED)BREAKING BAD #305 \"Mas\" SCRIPT AS BROADCAST 47.\\nCONTINUED: (5)\\nWALT\\nCook whatever you like -- as long\\nas it’s that ridiculous “Chili P”\\nor some other drek. But don’t even\\nthink about using my formula.\\nJesse’s had enough. Shaking with rage and hurt practically\\nto the point of tears, he storms out.\\nJESSE\\nJust try and stop me, bitch! --\\nSLAM. And he’s gone. Walt stares after him. Experiences a\\ntouch of queasiness -- he was pretty nasty. No hero here.\\nOff Walt, coming down fast off his revenge high:\\nEXT. SAUL GOODMAN\\'S OFFICE - PARKING LOT - DAY\\nMoments later. WIDE. Jesse strides through the lot towards\\nhis car, thunder in his blood.\\nAs we move in closer however, we see he’s almost blinded by\\nunwelcome, infuriating tears that well up in his eyes. Tears\\nof bitterness, frustration, anger, humiliation. He hates\\nfeeling this storm of emotion. Hates everything, everyone.\\nEspecially Walter White.\\nAs he approaches his Tercel, Jesse passes Walt’s piece of\\ncrap Aztek with its gleaming new windshield, BLUE TAPE still\\non the edges.\\nJesse can’t stop himself from reaching down and picking up\\nsomething HEAVY -- let’s say it’s a CHUNK of JAGGED CONCRETE\\nfrom a broken parking space divider (or something else he\\nmight realistically find in a parking lot).\\nHe HEAVES it as hard as he can -- SMASH! -- into Walt’s new\\nWINDSHIELD. SPIDERWEBS it good.\\nON JESSE. This action was cold comfort. Didn’t make him\\nfeel much better. He gets in his car and peels away.\\nEXT. MODEST HOUSE - DAY\\nCLOSE ON the SMILING TERRA COTTA SUN ORNAMENT. The same one\\nwe recall from the teaser. We realize we’re in the POV of...\\nHank. He peers at the ornament as he stands near the door\\nof the house. Surveys the area, takes in the tidy, sun-baked\\nyard and, glaring in its absence... no RV.\\n(CONTINUED)BREAKING BAD #305 \"Mas\" SCRIPT AS BROADCAST 48.\\nCONTINUED:\\nHank’s shoulders sag a little with the expectation of defeat.\\nHe sighs, knocks on the door. Pastes on a pleasant face.\\nA sweet-faced, rotund, middle-aged HISPANIC LADY answers.\\nMRS. ORTEGA\\nYes?\\nHANK\\nHi there. Uh, Mrs. Ortega?\\nMRS. ORTEGA\\nYes.\\nHANK\\n(friendly, charming)\\nHi, I’m Hank Schrader.\\nNo badge-flash -- too intimidating. He hands her his CARD.\\nHANK\\nWith the Drug Enforcement\\nAdministration. We’re interested\\nin an RV that’s registered to your\\nname and address.\\nAt the mention of the RV, melancholy flickers across her\\nface, then vanishes. Hank notes this.\\nHANK\\nUm, do you -- do you have an RV?\\nMrs. Ortega answers honestly.\\nMRS. ORTEGA\\nI did. It was stolen months ago.\\nHANK\\n(sorely disappointed)\\nStolen, huh?\\nHe pulls out his NOTE PAD. Checks his notes.\\nHANK\\nWell, then, I’m curious as to why\\nthe theft was never reported. I’m\\nnot seeing any record of it with\\nthe police or the DMV.\\nMRS. ORTEGA\\nI just... didn’t get around to it.\\nHank reads people well. He senses her mood, gently inquires.\\n(CONTINUED)BREAKING BAD #305 \"Mas\" SCRIPT AS BROADCAST 49.\\nCONTINUED: (2)\\nHANK\\nMay I ask why?\\nShe hesitates. Hank makes seemingly idle conversation to put\\nher at ease.\\nHANK\\nI mean, it’s a -- it’s a great way\\nto get the family together for an\\naffordable vacation. Must’ve been\\nquite a blow when it went missing.\\nMRS. ORTEGA\\nIt was.\\nHank gently presses.\\nHANK\\nDo you have any ideas at all... who\\nmight’ve taken it?\\nShe knows that answering is the right thing to do. She\\nsighs. Tells the story with a quiet sadness.\\nMRS. ORTEGA\\nI didn’t want him arrested. He ran\\nwith a bad crowd, but he was never\\na bad person. I thought he could\\nturn his life around.\\nHANK\\nWho are we talking about, Mrs.\\nOrtega?\\nMRS. ORTEGA\\n... My son.\\nHank’s pulse elevates. Finally, a break.\\nHANK\\nI’d really like to speak with him.\\nMRS. ORTEGA\\nHe’s passed away. He was shot.\\nTwo months ago.\\nHank’s detective brain kicks into overdrive.\\nHANK\\nWhat was your son’s name?\\nMRS. ORTEGA\\nChristian.\\n(CONTINUED)BREAKING BAD #305 \"Mas\" SCRIPT AS BROADCAST 50.\\nCONTINUED: (3)\\nHank flips quickly through his NOTE PAD.\\nHANK\\nChristian Ortega...\\n(to her)\\nWas his nickname Combo?\\nMrs. Ortega nods.\\nINT. MODEST HOUSE - COMBO’S BEDROOM - DAY\\nA few minutes later. Mrs. Ortega hovers in the doorway as\\nHank looks around Combo’s room.\\nHANK\\nThanks for this -- I really\\nappreciate it.\\nThe room is just as Combo left it -- his ever-grieving mom\\ndidn’t have the heart to change it. Probably never will.\\nThe room contains the usual items documenting an average\\nboy’s life. It also shows us this Mexican/American kid was\\ninto Hip-hop. There are POSTERS. A jumbo BOOM BOX, etc.\\nIt’s a nice set-up for a grown son still living at home.\\nHank makes his way around, firing on all cylinders, taking in\\nthe details. He stops. Something has caught his eye.\\nHe hones in, crosses to a BUREAU. On it, a PICTURE FRAME --\\nCOMBO’S GRAD PHOTO. Stuck into a corner of it is a SNAPSHOT.\\nHank reaches out, pulls it down:\\nINSERT: the final STILL PHOTOGRAPH from the teaser. Combo,\\nthe stripper’s tits and, of course... Jesse Pinkman.\\nON HANK, and a CONNECTION made. The hunt is ON as we:\\nEND EPISODE'"
            ],
            "application/vnd.google.colaboratory.intrinsic+json": {
              "type": "string"
            }
          },
          "metadata": {},
          "execution_count": 49
        }
      ],
      "source": [
        "text = extract_text_from_pdf(\"BreakingBad.pdf\")\n",
        "text"
      ]
    },
    {
      "cell_type": "code",
      "source": [
        "print(len(text))"
      ],
      "metadata": {
        "colab": {
          "base_uri": "https://localhost:8080/"
        },
        "id": "IRj3Co7fXVH_",
        "outputId": "e9a44145-058a-48d6-e646-cc882cf5090b"
      },
      "execution_count": 54,
      "outputs": [
        {
          "output_type": "stream",
          "name": "stdout",
          "text": [
            "67466\n"
          ]
        }
      ]
    },
    {
      "cell_type": "code",
      "source": [
        "print(text[67400:])"
      ],
      "metadata": {
        "colab": {
          "base_uri": "https://localhost:8080/"
        },
        "id": "p3ARc7ttXsPK",
        "outputId": "8c0bfc1b-6e42-4c33-be73-82ad2eeed146"
      },
      "execution_count": 55,
      "outputs": [
        {
          "output_type": "stream",
          "name": "stdout",
          "text": [
            "\n",
            "ON HANK, and a CONNECTION made. The hunt is ON as we:\n",
            "END EPISODE\n"
          ]
        }
      ]
    },
    {
      "cell_type": "markdown",
      "source": [
        "## Chuncking"
      ],
      "metadata": {
        "id": "v-7ha6eJfDaf"
      }
    },
    {
      "cell_type": "code",
      "source": [
        "# Function to chunk text into smaller parts\n",
        "def chunk_text(text, chunk_size=1000):\n",
        "    return [text[i:i + chunk_size] for i in range(0, len(text), chunk_size)]\n",
        "\n",
        "# Apply chunking\n",
        "chunk_size = 1000\n",
        "chunks = chunk_text(text, chunk_size)\n",
        "\n",
        "# Display the first chunk\n",
        "print(f\"First chunk:\\n{chunks[0]}\")\n",
        "\n",
        "# Display the number of chunks\n",
        "print(f\"Total number of chunks: {len(chunks)}\")"
      ],
      "metadata": {
        "colab": {
          "base_uri": "https://localhost:8080/"
        },
        "id": "782NKV-Jdrtj",
        "outputId": "5fbcdded-13fb-4194-f731-f4486630eb8d"
      },
      "execution_count": 56,
      "outputs": [
        {
          "output_type": "stream",
          "name": "stdout",
          "text": [
            "First chunk:\n",
            "BREAKING BAD\n",
            "\"Mas\"\n",
            "Episode #305\n",
            "Written by\n",
            "Moira Walley-Beckett\n",
            "Directed by\n",
            "Johan Renck\n",
            "As Broadcast\n",
            "SONY PICTURES TELEVISION INC.\n",
            "All Rights Reserved © 2009\n",
            "No portion of this script may be performed, or reproduced by any\n",
            "means, or quoted, or published in any medium without prior written\n",
            "consent of SONY PICTURES TELEVISION INC. * 10202 West Washington\n",
            "Boulevard * Culver City, CA 90232*BREAKING BAD\n",
            "\"Mas\"\n",
            "Cast List\n",
            "WALT\n",
            "SKYLER\n",
            "JESSE\n",
            "WALTER, JR.\n",
            "HANK\n",
            "MARIE\n",
            "SAUL GOODMAN\n",
            "GUS\n",
            "GOMEZ\n",
            "COMBO\n",
            "SKINNY PETE\n",
            "TED BENEKE\n",
            "PAMELA\n",
            "HOLLY\n",
            "JANICE\n",
            "MRS. ORTEGA\n",
            "WAITRESS\n",
            "MA KETTLE\n",
            "PA KETTLE (Non-Speaking)\n",
            "`\n",
            "BREAKING BAD\"Mas\"\n",
            "Set List\n",
            "Interiors:\n",
            "WHITE HOUSE\n",
            "DINING ROOM\n",
            "LIVING ROOM\n",
            "HALLWAY\n",
            "NURSERY\n",
            "NURSERY CLOSET\n",
            "SAUL GOODMAN'S OFFICE\n",
            "DEA ABQ\n",
            "BULLPEN\n",
            "HANK'S OFFICE\n",
            "SCHRADER HOUSE\n",
            "KITCHEN\n",
            "MASTER BATHROOM\n",
            "TED'S HOUSE\n",
            "MASTER BATHROOM\n",
            "LOS POLLOS HERMANOS\n",
            "GUS' OFFICE\n",
            "SUPERLAB\n",
            "INDUSTRIAL LAUNDRY\n",
            "STAIRCASE\n",
            "LAW OFFICE\n",
            "PAMELA'S OFFICE\n",
            "MODEST HOUSE\n",
            "COMBO'S BEDROOM\n",
            "STRIP CLUB\n",
            "CHAMPAGNE ROOM\n",
            "MA & PA KETTLE RV\n",
            "HANK'S JEEP COMMA\n",
            "Total number of chunks: 68\n"
          ]
        }
      ]
    },
    {
      "cell_type": "code",
      "source": [
        "dataset = []\n",
        "\n",
        "for i, chunk in enumerate(chunks):\n",
        "    dataset.append({\n",
        "        'doi': '',  # you can add a DOI here if available\n",
        "        'chunk-id': str(i),\n",
        "        'chunk': chunk,\n",
        "        'id': '',  # you can add an ID here if available\n",
        "        'title': '',  # you can add a title here if available\n",
        "        'summary': '',  # you can add a summary here if available\n",
        "        'source': '',  # you can add a source here if available\n",
        "        'authors': [],  # you can add authors here if available\n",
        "        'categories': [],  # you can add categories here if available\n",
        "        'comment': '',  # you can add a comment here if available\n",
        "        'journal_ref': None,  # you can add a journal reference here if available\n",
        "        'primary_category': '',  # you can add a primary category here if available\n",
        "        'published': '',  # you can add a published date here if available\n",
        "        'updated': '',  # you can add an updated date here if available\n",
        "        'references': []  # you can add references here if available\n",
        "    })\n",
        "\n",
        "print(dataset[3])"
      ],
      "metadata": {
        "colab": {
          "base_uri": "https://localhost:8080/"
        },
        "id": "eOG3NlN1drrH",
        "outputId": "a0cd08eb-bd24-432f-ed65-17550ca82bcf"
      },
      "execution_count": 57,
      "outputs": [
        {
          "output_type": "stream",
          "name": "stdout",
          "text": [
            "{'doi': '', 'chunk-id': '3', 'chunk': 'es from\\nSTRIPPERS. With Mr. White’s hard earned money.\\nOnce upon a time this club aspired to swank, but long ago\\nsettled for seedy. Fortunately, mood lighting, music, booze\\nand libido work wonders on perception. And even though we’re\\nin a private room, hopefully we can see a bit of the club\\nbeyond through a beaded curtain or a frosted door (whatever\\nwe find at the location) to give us a taste of where we are.\\nWIDEN to include SKINNY PETE, Jesse’s new best friend due to\\nthe fact that Jesse’s paying for everything.\\nSKINNY PETE\\nWork it! Work it, baby!\\n(to Jesse)\\nYo, this is SICK, brother!\\nJESSE\\nTOTALLY. Uhn! God.\\nThey grin, clink their BEER BOTTLES. They’re both a little\\ndrunk and high.\\nNEW ANGLE\\nCOMBO swaggers in, a GIRL under each arm. (No, he’s not risen\\nfrom the dead -- we’re still in FLASHBACK).\\nCOMBO\\nYo, Jesse. I got these two fine\\nladies want to par-ti-ci-pate.\\nYou, uh... got the funds?\\nJESSE\\nOh, uh, I got the funds.\\n(grabs his crotch)\\n(MORE)\\n(CONTINUED)BREAKING BAD #305 \"Mas\" SCRI', 'id': '', 'title': '', 'summary': '', 'source': '', 'authors': [], 'categories': [], 'comment': '', 'journal_ref': None, 'primary_category': '', 'published': '', 'updated': '', 'references': []}\n"
          ]
        }
      ]
    },
    {
      "cell_type": "markdown",
      "source": [
        "## Knowledge Base"
      ],
      "metadata": {
        "id": "zHrmmk2MfP_N"
      }
    },
    {
      "cell_type": "code",
      "source": [
        "from pinecone import Pinecone\n",
        "\n",
        "# initialize connection to pinecone (get API key at app.pinecone.io)\n",
        "api_key = \"key\"\n",
        "\n",
        "# configure client\n",
        "pc = Pinecone(api_key=api_key)"
      ],
      "metadata": {
        "id": "aC3mwJ4Tdrox"
      },
      "execution_count": 112,
      "outputs": []
    },
    {
      "cell_type": "code",
      "source": [
        "from pinecone import ServerlessSpec\n",
        "\n",
        "spec = ServerlessSpec(\n",
        "    cloud=\"aws\", region=\"us-east-1\"\n",
        ")"
      ],
      "metadata": {
        "id": "l6iifxzEdrl7"
      },
      "execution_count": 113,
      "outputs": []
    },
    {
      "cell_type": "code",
      "source": [
        "import time\n",
        "\n",
        "index_name = 'llama-2-rag'\n",
        "existing_indexes = [\n",
        "    index_info[\"name\"] for index_info in pc.list_indexes()\n",
        "]\n",
        "\n",
        "# check if index already exists (it shouldn't if this is first time)\n",
        "if index_name not in existing_indexes:\n",
        "    # if does not exist, create index\n",
        "    pc.create_index(\n",
        "        index_name,\n",
        "        dimension=1536,  # dimensionality of ada 002\n",
        "        metric='dotproduct',\n",
        "        spec=spec\n",
        "    )\n",
        "    # wait for index to be initialized\n",
        "    while not pc.describe_index(index_name).status['ready']:\n",
        "        time.sleep(1)\n",
        "\n",
        "# connect to index\n",
        "index = pc.Index(index_name)\n",
        "time.sleep(1)\n",
        "# view index stats\n",
        "index.describe_index_stats()"
      ],
      "metadata": {
        "colab": {
          "base_uri": "https://localhost:8080/"
        },
        "id": "3Pz5OyLPfrsg",
        "outputId": "9033756a-c8c0-4acd-dd44-b44b2d2591a3"
      },
      "execution_count": 114,
      "outputs": [
        {
          "output_type": "execute_result",
          "data": {
            "text/plain": [
              "{'dimension': 768,\n",
              " 'index_fullness': 0.0,\n",
              " 'namespaces': {'': {'vector_count': 68}},\n",
              " 'total_vector_count': 68}"
            ]
          },
          "metadata": {},
          "execution_count": 114
        }
      ]
    },
    {
      "cell_type": "code",
      "source": [
        "# Delete the existing index\n",
        "pc.delete_index(index_name)\n",
        "\n",
        "# Recreate the index with the correct dimension\n",
        "pc.create_index(\n",
        "    index_name,\n",
        "    dimension=768,  # Updated to match the embedding model\n",
        "    metric='dotproduct',\n",
        "    spec=spec\n",
        ")\n",
        "\n",
        "# Connect to the updated index\n",
        "index = pc.Index(index_name)\n"
      ],
      "metadata": {
        "id": "FR0Bf0PSrLs7"
      },
      "execution_count": 115,
      "outputs": []
    },
    {
      "cell_type": "code",
      "source": [
        "index.describe_index_stats()"
      ],
      "metadata": {
        "colab": {
          "base_uri": "https://localhost:8080/"
        },
        "id": "RBRUjmVarLqk",
        "outputId": "09b798b1-1f3d-48e7-8aaf-5ace3abf7b9b"
      },
      "execution_count": 116,
      "outputs": [
        {
          "output_type": "execute_result",
          "data": {
            "text/plain": [
              "{'dimension': 768,\n",
              " 'index_fullness': 0.0,\n",
              " 'namespaces': {},\n",
              " 'total_vector_count': 0}"
            ]
          },
          "metadata": {},
          "execution_count": 116
        }
      ]
    },
    {
      "cell_type": "code",
      "source": [
        "import pandas as pd\n",
        "from tqdm.auto import tqdm  # for progress bar\n",
        "import google.generativeai as genai\n",
        "\n",
        "# Convert dataset to a DataFrame\n",
        "data = pd.DataFrame(dataset)  # Ensure `dataset` is already defined\n",
        "\n",
        "# Batch size for processing\n",
        "batch_size = 100\n",
        "\n",
        "# Specify the embedding model\n",
        "embedding_model = \"models/text-embedding-004\"\n",
        "\n",
        "# Process data in batches\n",
        "for i in tqdm(range(0, len(data), batch_size)):\n",
        "    i_end = min(len(data), i + batch_size)\n",
        "    # Get batch of data\n",
        "    batch = data.iloc[i:i_end]\n",
        "\n",
        "    # Generate unique IDs for each chunk\n",
        "    ids = [f\"{x['doi']}-{x['chunk-id']}\" for _, x in batch.iterrows()]\n",
        "\n",
        "    # Get text to embed\n",
        "    texts = [str(x['chunk']) for _, x in batch.iterrows()]\n",
        "\n",
        "    # Embed text using `genai.embed_content`\n",
        "    embeds = []\n",
        "    for text in texts:\n",
        "        result = genai.embed_content(model=embedding_model, content=text)\n",
        "        embeds.append(result[\"embedding\"])\n",
        "\n",
        "    # Get metadata to store in Pinecone\n",
        "    metadata = [\n",
        "        {\n",
        "            'text': x['chunk'],\n",
        "            'source': x['source'],\n",
        "            'title': x['title']\n",
        "        }\n",
        "        for _, x in batch.iterrows()\n",
        "    ]\n",
        "\n",
        "    # Add to Pinecone\n",
        "    index.upsert(vectors=list(zip(ids, embeds, metadata)))\n"
      ],
      "metadata": {
        "colab": {
          "base_uri": "https://localhost:8080/",
          "height": 49,
          "referenced_widgets": [
            "120fe7bd725d4aefad596ab3987a2c79",
            "7d26120dc6974fa0b7d29f1fb8ec3541",
            "5a1d36916ef44ad2800709ba3993e3eb",
            "176a03b4be3a4edc908324494dd738bf",
            "62fb38be83d0406ea94812bd1732aa12",
            "48f948570437476ebf24bb685d7f16c6",
            "9fb8486f589740018fa483260dbc17a7",
            "c7358a9bcc664b6ca59a257ea5ea15d4",
            "8d5fb2b7b2d94d31ab8e685072314180",
            "0d823dfdef944c0c969b9d727ca609ec",
            "7291a60b91164ab69235857ac9174c3f"
          ]
        },
        "id": "RekRlcE9p7tO",
        "outputId": "09b74690-5deb-4b92-d4d4-89362cc2bf96"
      },
      "execution_count": 118,
      "outputs": [
        {
          "output_type": "display_data",
          "data": {
            "text/plain": [
              "  0%|          | 0/1 [00:00<?, ?it/s]"
            ],
            "application/vnd.jupyter.widget-view+json": {
              "version_major": 2,
              "version_minor": 0,
              "model_id": "120fe7bd725d4aefad596ab3987a2c79"
            }
          },
          "metadata": {}
        }
      ]
    },
    {
      "cell_type": "code",
      "source": [
        "index.describe_index_stats()\n"
      ],
      "metadata": {
        "colab": {
          "base_uri": "https://localhost:8080/"
        },
        "id": "gIFnNJOkqOjh",
        "outputId": "0acaedb1-ad4d-4885-8794-18edf6c61f42"
      },
      "execution_count": 108,
      "outputs": [
        {
          "output_type": "execute_result",
          "data": {
            "text/plain": [
              "{'dimension': 768,\n",
              " 'index_fullness': 0.0,\n",
              " 'namespaces': {'': {'vector_count': 68}},\n",
              " 'total_vector_count': 68}"
            ]
          },
          "metadata": {},
          "execution_count": 108
        }
      ]
    },
    {
      "cell_type": "code",
      "source": [
        "import google.generativeai as genai\n",
        "\n",
        "# Texts to embed\n",
        "texts = [\n",
        "    'this is the first chunk of text',\n",
        "    'then another second chunk of text is here'\n",
        "]\n",
        "\n",
        "# Specify the embedding model\n",
        "embedding_model = \"models/text-embedding-004\"\n",
        "\n",
        "# Generate embeddings for each text\n",
        "embeddings = []\n",
        "for text in texts:\n",
        "    result = genai.embed_content(\n",
        "        model=embedding_model,\n",
        "        content=text\n",
        "    )\n",
        "    embeddings.append(result['embedding'])\n",
        "\n",
        "# Print the number of embeddings and the size of the first embedding\n",
        "print(f\"Number of embeddings: {len(embeddings)}\")\n",
        "print(f\"Length of the first embedding vector: {len(embeddings[0])}\")\n"
      ],
      "metadata": {
        "colab": {
          "base_uri": "https://localhost:8080/",
          "height": 52
        },
        "id": "tkjjJkyHwjbb",
        "outputId": "e4b9eae7-5c2b-4951-983d-e4178cfc95ff"
      },
      "execution_count": 119,
      "outputs": [
        {
          "output_type": "stream",
          "name": "stdout",
          "text": [
            "Number of embeddings: 2\n",
            "Length of the first embedding vector: 768\n"
          ]
        }
      ]
    },
    {
      "cell_type": "code",
      "source": [
        "import pandas as pd\n",
        "from tqdm.auto import tqdm  # for progress bar\n",
        "import google.generativeai as genai\n",
        "\n",
        "# Convert dataset to a DataFrame\n",
        "data = pd.DataFrame(dataset)  # Ensure `dataset` is already defined\n",
        "\n",
        "# Batch size for processing\n",
        "batch_size = 100\n",
        "\n",
        "# Specify the embedding model\n",
        "embedding_model = \"models/text-embedding-004\"\n",
        "\n",
        "# Process data in batches\n",
        "for i in tqdm(range(0, len(data), batch_size)):\n",
        "    i_end = min(len(data), i + batch_size)\n",
        "    # Get batch of data\n",
        "    batch = data.iloc[i:i_end]\n",
        "\n",
        "    # Generate unique IDs for each chunk\n",
        "    ids = [f\"{x['doi']}-{x['chunk-id']}\" for _, x in batch.iterrows()]\n",
        "\n",
        "    # Get text to embed\n",
        "    texts = [str(x['chunk']) for _, x in batch.iterrows()]\n",
        "\n",
        "    # Embed text using `genai.embed_content`\n",
        "    embeds = []\n",
        "    for text in texts:\n",
        "        result = genai.embed_content(model=embedding_model, content=text)\n",
        "        embeds.append(result[\"embedding\"])\n",
        "\n",
        "    # Get metadata to store in Pinecone\n",
        "    metadata = [\n",
        "        {\n",
        "            'text': x['chunk'],\n",
        "            'source': x['source'],\n",
        "            'title': x['title']\n",
        "        }\n",
        "        for _, x in batch.iterrows()\n",
        "    ]\n",
        "\n",
        "    # Add to Pinecone\n",
        "    index.upsert(vectors=list(zip(ids, embeds, metadata)))\n"
      ],
      "metadata": {
        "colab": {
          "base_uri": "https://localhost:8080/",
          "height": 49,
          "referenced_widgets": [
            "267cd899875a41dc83c074e0d8da2eff",
            "ee294a42c1c944ee9db3d3bb03372a31",
            "50458e15cdf24d5ca3f8121df1a8b0ed",
            "3abe387885cc42b5b15f38104e3a8bba",
            "f768126a59114697bc22b56a37da8d59",
            "874f2d0df27a41b7af7f08ebe055acb0",
            "bb024b57fb984989a7c0116d4b4a26bf",
            "915b119c971e4dd5a2fca0c8b258883d",
            "9a1cbb4cb9184017ba4c4ce86487c14d",
            "b7f7d313f830487eb6a4fec66191f64b",
            "86de2bb60c3a4a7bb5a9fa18a01f3166"
          ]
        },
        "id": "wnfNBaYkwjZC",
        "outputId": "a938edfa-ae82-418b-bc66-abdd4fc0843b"
      },
      "execution_count": 120,
      "outputs": [
        {
          "output_type": "display_data",
          "data": {
            "text/plain": [
              "  0%|          | 0/1 [00:00<?, ?it/s]"
            ],
            "application/vnd.jupyter.widget-view+json": {
              "version_major": 2,
              "version_minor": 0,
              "model_id": "267cd899875a41dc83c074e0d8da2eff"
            }
          },
          "metadata": {}
        }
      ]
    },
    {
      "cell_type": "code",
      "source": [
        "index.describe_index_stats()\n"
      ],
      "metadata": {
        "colab": {
          "base_uri": "https://localhost:8080/"
        },
        "id": "9duoAF0ExU1T",
        "outputId": "4447c069-80b0-4d28-ed3e-9cf8492333df"
      },
      "execution_count": 123,
      "outputs": [
        {
          "output_type": "execute_result",
          "data": {
            "text/plain": [
              "{'dimension': 768,\n",
              " 'index_fullness': 0.0,\n",
              " 'namespaces': {'': {'vector_count': 68}},\n",
              " 'total_vector_count': 68}"
            ]
          },
          "metadata": {},
          "execution_count": 123
        }
      ]
    },
    {
      "cell_type": "code",
      "source": [
        "pip install --upgrade langchain\n"
      ],
      "metadata": {
        "colab": {
          "base_uri": "https://localhost:8080/"
        },
        "id": "4cMzlr7rxUxe",
        "outputId": "9569a662-cb2f-4205-bc16-40f5aaaa9b5a"
      },
      "execution_count": 127,
      "outputs": [
        {
          "output_type": "stream",
          "name": "stdout",
          "text": [
            "Requirement already satisfied: langchain in /usr/local/lib/python3.10/dist-packages (0.1.7)\n",
            "Collecting langchain\n",
            "  Using cached langchain-0.3.11-py3-none-any.whl.metadata (7.1 kB)\n",
            "Requirement already satisfied: PyYAML>=5.3 in /usr/local/lib/python3.10/dist-packages (from langchain) (6.0.2)\n",
            "Requirement already satisfied: SQLAlchemy<3,>=1.4 in /usr/local/lib/python3.10/dist-packages (from langchain) (2.0.36)\n",
            "Requirement already satisfied: aiohttp<4.0.0,>=3.8.3 in /usr/local/lib/python3.10/dist-packages (from langchain) (3.11.9)\n",
            "Requirement already satisfied: async-timeout<5.0.0,>=4.0.0 in /usr/local/lib/python3.10/dist-packages (from langchain) (4.0.3)\n",
            "Collecting langchain-core<0.4.0,>=0.3.24 (from langchain)\n",
            "  Downloading langchain_core-0.3.24-py3-none-any.whl.metadata (6.3 kB)\n",
            "Requirement already satisfied: langchain-text-splitters<0.4.0,>=0.3.0 in /usr/local/lib/python3.10/dist-packages (from langchain) (0.3.2)\n",
            "Collecting langsmith<0.3,>=0.1.17 (from langchain)\n",
            "  Downloading langsmith-0.2.2-py3-none-any.whl.metadata (14 kB)\n",
            "Requirement already satisfied: numpy<2,>=1.22.4 in /usr/local/lib/python3.10/dist-packages (from langchain) (1.26.4)\n",
            "Requirement already satisfied: pydantic<3.0.0,>=2.7.4 in /usr/local/lib/python3.10/dist-packages (from langchain) (2.10.3)\n",
            "Requirement already satisfied: requests<3,>=2 in /usr/local/lib/python3.10/dist-packages (from langchain) (2.32.3)\n",
            "Requirement already satisfied: tenacity!=8.4.0,<10,>=8.1.0 in /usr/local/lib/python3.10/dist-packages (from langchain) (8.5.0)\n",
            "Requirement already satisfied: aiohappyeyeballs>=2.3.0 in /usr/local/lib/python3.10/dist-packages (from aiohttp<4.0.0,>=3.8.3->langchain) (2.4.4)\n",
            "Requirement already satisfied: aiosignal>=1.1.2 in /usr/local/lib/python3.10/dist-packages (from aiohttp<4.0.0,>=3.8.3->langchain) (1.3.1)\n",
            "Requirement already satisfied: attrs>=17.3.0 in /usr/local/lib/python3.10/dist-packages (from aiohttp<4.0.0,>=3.8.3->langchain) (24.2.0)\n",
            "Requirement already satisfied: frozenlist>=1.1.1 in /usr/local/lib/python3.10/dist-packages (from aiohttp<4.0.0,>=3.8.3->langchain) (1.5.0)\n",
            "Requirement already satisfied: multidict<7.0,>=4.5 in /usr/local/lib/python3.10/dist-packages (from aiohttp<4.0.0,>=3.8.3->langchain) (6.1.0)\n",
            "Requirement already satisfied: propcache>=0.2.0 in /usr/local/lib/python3.10/dist-packages (from aiohttp<4.0.0,>=3.8.3->langchain) (0.2.1)\n",
            "Requirement already satisfied: yarl<2.0,>=1.17.0 in /usr/local/lib/python3.10/dist-packages (from aiohttp<4.0.0,>=3.8.3->langchain) (1.18.3)\n",
            "Requirement already satisfied: jsonpatch<2.0,>=1.33 in /usr/local/lib/python3.10/dist-packages (from langchain-core<0.4.0,>=0.3.24->langchain) (1.33)\n",
            "Requirement already satisfied: packaging<25,>=23.2 in /usr/local/lib/python3.10/dist-packages (from langchain-core<0.4.0,>=0.3.24->langchain) (23.2)\n",
            "Requirement already satisfied: typing-extensions>=4.7 in /usr/local/lib/python3.10/dist-packages (from langchain-core<0.4.0,>=0.3.24->langchain) (4.12.2)\n",
            "Requirement already satisfied: httpx<1,>=0.23.0 in /usr/local/lib/python3.10/dist-packages (from langsmith<0.3,>=0.1.17->langchain) (0.28.0)\n",
            "Requirement already satisfied: orjson<4.0.0,>=3.9.14 in /usr/local/lib/python3.10/dist-packages (from langsmith<0.3,>=0.1.17->langchain) (3.10.12)\n",
            "Requirement already satisfied: requests-toolbelt<2.0.0,>=1.0.0 in /usr/local/lib/python3.10/dist-packages (from langsmith<0.3,>=0.1.17->langchain) (1.0.0)\n",
            "Requirement already satisfied: annotated-types>=0.6.0 in /usr/local/lib/python3.10/dist-packages (from pydantic<3.0.0,>=2.7.4->langchain) (0.7.0)\n",
            "Requirement already satisfied: pydantic-core==2.27.1 in /usr/local/lib/python3.10/dist-packages (from pydantic<3.0.0,>=2.7.4->langchain) (2.27.1)\n",
            "Requirement already satisfied: charset-normalizer<4,>=2 in /usr/local/lib/python3.10/dist-packages (from requests<3,>=2->langchain) (3.4.0)\n",
            "Requirement already satisfied: idna<4,>=2.5 in /usr/local/lib/python3.10/dist-packages (from requests<3,>=2->langchain) (3.10)\n",
            "Requirement already satisfied: urllib3<3,>=1.21.1 in /usr/local/lib/python3.10/dist-packages (from requests<3,>=2->langchain) (2.2.3)\n",
            "Requirement already satisfied: certifi>=2017.4.17 in /usr/local/lib/python3.10/dist-packages (from requests<3,>=2->langchain) (2024.8.30)\n",
            "Requirement already satisfied: greenlet!=0.4.17 in /usr/local/lib/python3.10/dist-packages (from SQLAlchemy<3,>=1.4->langchain) (3.1.1)\n",
            "Requirement already satisfied: anyio in /usr/local/lib/python3.10/dist-packages (from httpx<1,>=0.23.0->langsmith<0.3,>=0.1.17->langchain) (3.7.1)\n",
            "Requirement already satisfied: httpcore==1.* in /usr/local/lib/python3.10/dist-packages (from httpx<1,>=0.23.0->langsmith<0.3,>=0.1.17->langchain) (1.0.7)\n",
            "Requirement already satisfied: h11<0.15,>=0.13 in /usr/local/lib/python3.10/dist-packages (from httpcore==1.*->httpx<1,>=0.23.0->langsmith<0.3,>=0.1.17->langchain) (0.14.0)\n",
            "Requirement already satisfied: jsonpointer>=1.9 in /usr/local/lib/python3.10/dist-packages (from jsonpatch<2.0,>=1.33->langchain-core<0.4.0,>=0.3.24->langchain) (3.0.0)\n",
            "Requirement already satisfied: sniffio>=1.1 in /usr/local/lib/python3.10/dist-packages (from anyio->httpx<1,>=0.23.0->langsmith<0.3,>=0.1.17->langchain) (1.3.1)\n",
            "Requirement already satisfied: exceptiongroup in /usr/local/lib/python3.10/dist-packages (from anyio->httpx<1,>=0.23.0->langsmith<0.3,>=0.1.17->langchain) (1.2.2)\n",
            "Downloading langchain-0.3.11-py3-none-any.whl (1.0 MB)\n",
            "\u001b[2K   \u001b[90m━━━━━━━━━━━━━━━━━━━━━━━━━━━━━━━━━━━━━━━━\u001b[0m \u001b[32m1.0/1.0 MB\u001b[0m \u001b[31m20.8 MB/s\u001b[0m eta \u001b[36m0:00:00\u001b[0m\n",
            "\u001b[?25hDownloading langchain_core-0.3.24-py3-none-any.whl (410 kB)\n",
            "\u001b[2K   \u001b[90m━━━━━━━━━━━━━━━━━━━━━━━━━━━━━━━━━━━━━━━━\u001b[0m \u001b[32m410.6/410.6 kB\u001b[0m \u001b[31m33.7 MB/s\u001b[0m eta \u001b[36m0:00:00\u001b[0m\n",
            "\u001b[?25hDownloading langsmith-0.2.2-py3-none-any.whl (320 kB)\n",
            "\u001b[2K   \u001b[90m━━━━━━━━━━━━━━━━━━━━━━━━━━━━━━━━━━━━━━━━\u001b[0m \u001b[32m320.6/320.6 kB\u001b[0m \u001b[31m24.6 MB/s\u001b[0m eta \u001b[36m0:00:00\u001b[0m\n",
            "\u001b[?25hInstalling collected packages: langsmith, langchain-core, langchain\n",
            "  Attempting uninstall: langsmith\n",
            "    Found existing installation: langsmith 0.0.87\n",
            "    Uninstalling langsmith-0.0.87:\n",
            "      Successfully uninstalled langsmith-0.0.87\n",
            "  Attempting uninstall: langchain-core\n",
            "    Found existing installation: langchain-core 0.1.23\n",
            "    Uninstalling langchain-core-0.1.23:\n",
            "      Successfully uninstalled langchain-core-0.1.23\n",
            "  Attempting uninstall: langchain\n",
            "    Found existing installation: langchain 0.1.7\n",
            "    Uninstalling langchain-0.1.7:\n",
            "      Successfully uninstalled langchain-0.1.7\n",
            "\u001b[31mERROR: pip's dependency resolver does not currently take into account all the packages that are installed. This behaviour is the source of the following dependency conflicts.\n",
            "langchain-community 0.0.20 requires langchain-core<0.2,>=0.1.21, but you have langchain-core 0.3.24 which is incompatible.\n",
            "langchain-community 0.0.20 requires langsmith<0.1,>=0.0.83, but you have langsmith 0.2.2 which is incompatible.\u001b[0m\u001b[31m\n",
            "\u001b[0mSuccessfully installed langchain-0.3.11 langchain-core-0.3.24 langsmith-0.2.2\n"
          ]
        }
      ]
    },
    {
      "cell_type": "code",
      "source": [
        "from langchain.vectorstores import Pinecone as LangchainPinecone\n",
        "from langchain.embeddings.base import Embeddings\n",
        "\n",
        "# Define your text field key\n",
        "text_field = \"text\"  # This should match the metadata field containing the text\n",
        "\n",
        "# Custom embedding class for LangChain\n",
        "class GenAIEmbeddings(Embeddings):\n",
        "    def embed_query(self, text: str) -> list:\n",
        "        \"\"\"Generate an embedding for a single text string.\"\"\"\n",
        "        result = genai.embed_content(model=embedding_model, content=text)\n",
        "        return result[\"embedding\"]\n",
        "\n",
        "    def embed_documents(self, texts: list) -> list:\n",
        "        \"\"\"Generate embeddings for multiple text strings.\"\"\"\n",
        "        embeddings = []\n",
        "        for text in texts:\n",
        "            result = genai.embed_content(model=embedding_model, content=text)\n",
        "            embeddings.append(result[\"embedding\"])\n",
        "        return embeddings\n",
        "\n",
        "# Initialize the custom embedding model\n",
        "embedding_model = \"models/text-embedding-004\"  # Replace with your desired GenAI model\n",
        "genai_embeddings = GenAIEmbeddings()\n",
        "\n",
        "# Initialize the vector store using LangChain's Pinecone wrapper\n",
        "vectorstore = LangchainPinecone(\n",
        "    index=index,  # Pass your Pinecone index object\n",
        "    embedding=genai_embeddings,  # Use the custom embeddings\n",
        "    text_key=text_field  # Metadata field for text\n",
        ")\n"
      ],
      "metadata": {
        "id": "qSEshDSYtkLb"
      },
      "execution_count": 129,
      "outputs": []
    },
    {
      "cell_type": "code",
      "source": [
        "query = \"what is the set list\"\n",
        "\n",
        "vectorstore.similarity_search(query, k=3)"
      ],
      "metadata": {
        "colab": {
          "base_uri": "https://localhost:8080/",
          "height": 399
        },
        "id": "tkQI2rERk2ON",
        "outputId": "277c28cc-7ec8-444b-c9c7-68abf5de7ec7"
      },
      "execution_count": 147,
      "outputs": [
        {
          "output_type": "execute_result",
          "data": {
            "text/plain": [
              "[Document(page_content='BREAKING BAD\\n\"Mas\"\\nEpisode #305\\nWritten by\\nMoira Walley-Beckett\\nDirected by\\nJohan Renck\\nAs Broadcast\\nSONY PICTURES TELEVISION INC.\\nAll Rights Reserved © 2009\\nNo portion of this script may be performed, or reproduced by any\\nmeans, or quoted, or published in any medium without prior written\\nconsent of SONY PICTURES TELEVISION INC. * 10202 West Washington\\nBoulevard * Culver City, CA 90232*BREAKING BAD\\n\"Mas\"\\nCast List\\nWALT\\nSKYLER\\nJESSE\\nWALTER, JR.\\nHANK\\nMARIE\\nSAUL GOODMAN\\nGUS\\nGOMEZ\\nCOMBO\\nSKINNY PETE\\nTED BENEKE\\nPAMELA\\nHOLLY\\nJANICE\\nMRS. ORTEGA\\nWAITRESS\\nMA KETTLE\\nPA KETTLE (Non-Speaking)\\n`\\nBREAKING BAD\"Mas\"\\nSet List\\nInteriors:\\nWHITE HOUSE\\nDINING ROOM\\nLIVING ROOM\\nHALLWAY\\nNURSERY\\nNURSERY CLOSET\\nSAUL GOODMAN\\'S OFFICE\\nDEA ABQ\\nBULLPEN\\nHANK\\'S OFFICE\\nSCHRADER HOUSE\\nKITCHEN\\nMASTER BATHROOM\\nTED\\'S HOUSE\\nMASTER BATHROOM\\nLOS POLLOS HERMANOS\\nGUS\\' OFFICE\\nSUPERLAB\\nINDUSTRIAL LAUNDRY\\nSTAIRCASE\\nLAW OFFICE\\nPAMELA\\'S OFFICE\\nMODEST HOUSE\\nCOMBO\\'S BEDROOM\\nSTRIP CLUB\\nCHAMPAGNE ROOM\\nMA & PA KETTLE RV\\nHANK\\'S JEEP COMMA', metadata={'source': '', 'title': ''}),\n",
              " Document(page_content='n.\\nThe key here is for us to get the feel of the guys getting\\nprogressively drunk and high -- and so the audience feels\\nlike they’re part of the fun.\\nThe MUSIC CRANKS. Waitresses come and go with more bubbly.\\nFLASH! An ugly, hilarious SHOT: up Skinny Pete’s NOSE as he\\nlooks up into camera after taking a sharp snort of METH.\\nA BOUNCER escorts more girls in and out. The guys indulge --\\nlap dances, booze, a covert meth bump or two.\\nFLASH! A terrible, blurry self-portrait of Combo wedged\\nbetween two strippers.\\nThroughout... Jesse’s fat stack DWINDLES.\\nFLASH! Final FREEZE FRAME:\\nJesse, Combo and a stripper’s GIANT BREASTS resting on their\\nheads (no nipples visible). (Note: This one photo should be\\na good, clean picture of both of our actor’s faces -- you’ll\\nunderstand why at the end of the script.)BREAKING BAD #305 \"Mas\" SCRIPT AS BROADCAST 5.\\nEXT. STRIP CLUB - PARKING LOT - DAY\\nEarly morning, dawn. Just a few cars, including Jesse’s low\\nrider. (One of the cars will be some lame banger-mobi', metadata={'source': '', 'title': ''}),\n",
              " Document(page_content=\"PT AS BROADCAST 3.\\nCONTINUED: (2)\\nJESSE (CONT'D)\\nHey, would you ladies like to meet\\nmy fat stack.\\nThe guys all crack up and bump fists -- hilarious! This is\\nshaping up to be the best night EVER.\\nCombo and the girls settle in -- the room is filling up --\\nfour girls and counting. Jesse hails a passing WAITRESS.\\nJESSE\\nHey, yo, yo! Yo, you got\\nchampagne? None of that cheap\\nstuff. I want the expensive shit.\\nDON PER-IG-NON.\\nWAITRESS\\nIt’s four hundred a bottle.\\nJESSE\\nOh well, in that case I’ll only\\nhave two. And-and I want the tall,\\nskinny glasses. I like those\\nskinny glasses.\\nShe goes. Pete and Combo look at each other. Damn!\\nJESSE\\nThat’s what James Bond drinks,\\nmofos. I’m all about that.\\nCOMBO\\nYo Jesse, man, I gotta ask...\\n(on the down-low)\\nWhere’d you get all the cheddar?\\nSKINNY PETE\\nMust be moving mad volume.\\nJESSE\\n(it’s hilarious)\\nIt’s totally funny. Wanna know\\nwhat’s funny?\\nSKINNY PETE\\nWhat’s funny?\\nJESSE\\n(cracking up)\\nThis old dude? He GAVE it to me!\\nHe gave it to me. It’s like his\\nENT\", metadata={'source': '', 'title': ''})]"
            ]
          },
          "metadata": {},
          "execution_count": 147
        }
      ]
    },
    {
      "cell_type": "code",
      "execution_count": 148,
      "metadata": {
        "id": "Rp5NBaqfw4wc"
      },
      "outputs": [],
      "source": [
        "def augment_prompt(query: str):\n",
        "    # get top 3 results from knowledge base\n",
        "    results = vectorstore.similarity_search(query, k=3)\n",
        "    # get the text from the results\n",
        "    source_knowledge = \"\\n\".join([x.page_content for x in results])\n",
        "    # feed into an augmented prompt\n",
        "    augmented_prompt = f\"\"\"Using the contexts below, answer the query.\n",
        "\n",
        "    Contexts:\n",
        "    {source_knowledge}\n",
        "\n",
        "    Query: {query}\"\"\"\n",
        "    return augmented_prompt"
      ]
    },
    {
      "cell_type": "markdown",
      "metadata": {
        "id": "q2-7QCTew4wc"
      },
      "source": [
        "Using this we produce an augmented prompt:"
      ]
    },
    {
      "cell_type": "code",
      "execution_count": 149,
      "metadata": {
        "colab": {
          "base_uri": "https://localhost:8080/",
          "height": 1000
        },
        "id": "Mftcb16Cw4wc",
        "outputId": "d22b6d2a-26a7-4387-c5af-ab6fb3fb33c9"
      },
      "outputs": [
        {
          "output_type": "stream",
          "name": "stdout",
          "text": [
            "Using the contexts below, answer the query.\n",
            "\n",
            "    Contexts:\n",
            "    BREAKING BAD\n",
            "\"Mas\"\n",
            "Episode #305\n",
            "Written by\n",
            "Moira Walley-Beckett\n",
            "Directed by\n",
            "Johan Renck\n",
            "As Broadcast\n",
            "SONY PICTURES TELEVISION INC.\n",
            "All Rights Reserved © 2009\n",
            "No portion of this script may be performed, or reproduced by any\n",
            "means, or quoted, or published in any medium without prior written\n",
            "consent of SONY PICTURES TELEVISION INC. * 10202 West Washington\n",
            "Boulevard * Culver City, CA 90232*BREAKING BAD\n",
            "\"Mas\"\n",
            "Cast List\n",
            "WALT\n",
            "SKYLER\n",
            "JESSE\n",
            "WALTER, JR.\n",
            "HANK\n",
            "MARIE\n",
            "SAUL GOODMAN\n",
            "GUS\n",
            "GOMEZ\n",
            "COMBO\n",
            "SKINNY PETE\n",
            "TED BENEKE\n",
            "PAMELA\n",
            "HOLLY\n",
            "JANICE\n",
            "MRS. ORTEGA\n",
            "WAITRESS\n",
            "MA KETTLE\n",
            "PA KETTLE (Non-Speaking)\n",
            "`\n",
            "BREAKING BAD\"Mas\"\n",
            "Set List\n",
            "Interiors:\n",
            "WHITE HOUSE\n",
            "DINING ROOM\n",
            "LIVING ROOM\n",
            "HALLWAY\n",
            "NURSERY\n",
            "NURSERY CLOSET\n",
            "SAUL GOODMAN'S OFFICE\n",
            "DEA ABQ\n",
            "BULLPEN\n",
            "HANK'S OFFICE\n",
            "SCHRADER HOUSE\n",
            "KITCHEN\n",
            "MASTER BATHROOM\n",
            "TED'S HOUSE\n",
            "MASTER BATHROOM\n",
            "LOS POLLOS HERMANOS\n",
            "GUS' OFFICE\n",
            "SUPERLAB\n",
            "INDUSTRIAL LAUNDRY\n",
            "STAIRCASE\n",
            "LAW OFFICE\n",
            "PAMELA'S OFFICE\n",
            "MODEST HOUSE\n",
            "COMBO'S BEDROOM\n",
            "STRIP CLUB\n",
            "CHAMPAGNE ROOM\n",
            "MA & PA KETTLE RV\n",
            "HANK'S JEEP COMMA\n",
            "n.\n",
            "The key here is for us to get the feel of the guys getting\n",
            "progressively drunk and high -- and so the audience feels\n",
            "like they’re part of the fun.\n",
            "The MUSIC CRANKS. Waitresses come and go with more bubbly.\n",
            "FLASH! An ugly, hilarious SHOT: up Skinny Pete’s NOSE as he\n",
            "looks up into camera after taking a sharp snort of METH.\n",
            "A BOUNCER escorts more girls in and out. The guys indulge --\n",
            "lap dances, booze, a covert meth bump or two.\n",
            "FLASH! A terrible, blurry self-portrait of Combo wedged\n",
            "between two strippers.\n",
            "Throughout... Jesse’s fat stack DWINDLES.\n",
            "FLASH! Final FREEZE FRAME:\n",
            "Jesse, Combo and a stripper’s GIANT BREASTS resting on their\n",
            "heads (no nipples visible). (Note: This one photo should be\n",
            "a good, clean picture of both of our actor’s faces -- you’ll\n",
            "understand why at the end of the script.)BREAKING BAD #305 \"Mas\" SCRIPT AS BROADCAST 5.\n",
            "EXT. STRIP CLUB - PARKING LOT - DAY\n",
            "Early morning, dawn. Just a few cars, including Jesse’s low\n",
            "rider. (One of the cars will be some lame banger-mobi\n",
            "PT AS BROADCAST 3.\n",
            "CONTINUED: (2)\n",
            "JESSE (CONT'D)\n",
            "Hey, would you ladies like to meet\n",
            "my fat stack.\n",
            "The guys all crack up and bump fists -- hilarious! This is\n",
            "shaping up to be the best night EVER.\n",
            "Combo and the girls settle in -- the room is filling up --\n",
            "four girls and counting. Jesse hails a passing WAITRESS.\n",
            "JESSE\n",
            "Hey, yo, yo! Yo, you got\n",
            "champagne? None of that cheap\n",
            "stuff. I want the expensive shit.\n",
            "DON PER-IG-NON.\n",
            "WAITRESS\n",
            "It’s four hundred a bottle.\n",
            "JESSE\n",
            "Oh well, in that case I’ll only\n",
            "have two. And-and I want the tall,\n",
            "skinny glasses. I like those\n",
            "skinny glasses.\n",
            "She goes. Pete and Combo look at each other. Damn!\n",
            "JESSE\n",
            "That’s what James Bond drinks,\n",
            "mofos. I’m all about that.\n",
            "COMBO\n",
            "Yo Jesse, man, I gotta ask...\n",
            "(on the down-low)\n",
            "Where’d you get all the cheddar?\n",
            "SKINNY PETE\n",
            "Must be moving mad volume.\n",
            "JESSE\n",
            "(it’s hilarious)\n",
            "It’s totally funny. Wanna know\n",
            "what’s funny?\n",
            "SKINNY PETE\n",
            "What’s funny?\n",
            "JESSE\n",
            "(cracking up)\n",
            "This old dude? He GAVE it to me!\n",
            "He gave it to me. It’s like his\n",
            "ENT\n",
            "\n",
            "    Query: what is the set list\n"
          ]
        }
      ],
      "source": [
        "print(augment_prompt(query))"
      ]
    },
    {
      "cell_type": "markdown",
      "metadata": {
        "id": "tZI3-CdZw4wc"
      },
      "source": [
        "There is still a lot of text here, so let's pass it onto our chat model to see how it performs."
      ]
    },
    {
      "cell_type": "code",
      "source": [
        "# Add the new user prompt to messages\n",
        "prompt = {\"role\": \"user\", \"content\": \"give me the summary of episode\"}\n",
        "messages.append(prompt)\n",
        "\n",
        "# Convert the updated messages into a conversational context for the model\n",
        "context = \"\\n\".join(\n",
        "    [f\"{msg['role'].capitalize()}: {msg['content']}\" for msg in messages]\n",
        ")\n",
        "\n",
        "# Generate a response using Gemini\n",
        "response = model.generate_content(f\"{context}\\nAssistant:\")\n",
        "\n",
        "# Extract the AI's response from the result\n",
        "res = response.text\n",
        "\n",
        "# Print the response\n",
        "print(res)\n",
        "\n",
        "# Optionally, add the assistant's response back to messages\n",
        "messages.append({\"role\": \"assistant\", \"content\": res})\n"
      ],
      "metadata": {
        "colab": {
          "base_uri": "https://localhost:8080/",
          "height": 72
        },
        "id": "sJKxFO-y2VTh",
        "outputId": "bb2dd68b-2cb1-42c7-e8e6-3458dbbff4c3"
      },
      "execution_count": 163,
      "outputs": [
        {
          "output_type": "stream",
          "name": "stdout",
          "text": [
            "I cannot provide a summary of the *Breaking Bad* episode \"Mas\" based solely on the provided script excerpt.  The excerpt is a fragmented selection of scenes and dialogue, not a comprehensive overview of the episode's plot.  To get a summary, you would need to refer to a full episode synopsis or rewatch the episode itself.\n",
            "\n"
          ]
        }
      ]
    },
    {
      "cell_type": "code",
      "source": [
        "# Add the new user prompt to messages\n",
        "prompt = {\"role\": \"user\", \"content\": \"List all the charcters from the pdf\"}\n",
        "messages.append(prompt)\n",
        "\n",
        "# Convert the updated messages into a conversational context for the model\n",
        "context = \"\\n\".join(\n",
        "    [f\"{msg['role'].capitalize()}: {msg['content']}\" for msg in messages]\n",
        ")\n",
        "\n",
        "# Generate a response using Gemini\n",
        "response = model.generate_content(f\"{context}\\nAssistant:\")\n",
        "\n",
        "# Extract the AI's response from the result\n",
        "res = response.text\n",
        "\n",
        "# Print the response\n",
        "print(res)\n",
        "\n",
        "# Optionally, add the assistant's response back to messages\n",
        "messages.append({\"role\": \"assistant\", \"content\": res})\n"
      ],
      "metadata": {
        "colab": {
          "base_uri": "https://localhost:8080/",
          "height": 451
        },
        "id": "Z-krMYorz5NA",
        "outputId": "b096bc00-1ec0-458f-95f9-9d6e69918c20"
      },
      "execution_count": 161,
      "outputs": [
        {
          "output_type": "stream",
          "name": "stdout",
          "text": [
            "Here's a list of the characters mentioned in the provided *Breaking Bad* script excerpt:\n",
            "\n",
            "* Walt (Walter White)\n",
            "* Skyler White\n",
            "* Jesse Pinkman\n",
            "* Walter White Jr.\n",
            "* Hank Schrader\n",
            "* Marie Schrader\n",
            "* Saul Goodman\n",
            "* Gus Fring\n",
            "* Gomez (DEA Agent)\n",
            "* Combo\n",
            "* Skinny Pete\n",
            "* Ted Beneke\n",
            "* Pamela\n",
            "* Holly White\n",
            "* Janice (Skyler's sister)\n",
            "* Mrs. Ortega\n",
            "* Waitress\n",
            "* Ma Kettle\n",
            "* Pa Kettle\n",
            "\n",
            "\n",
            "Please note that Pa Kettle is listed as a non-speaking role.\n",
            "\n"
          ]
        }
      ]
    },
    {
      "cell_type": "code",
      "source": [
        "# Add the new user prompt to messages\n",
        "prompt = {\"role\": \"user\", \"content\": \"Summarize our chat in bullets. \"}\n",
        "messages.append(prompt)\n",
        "\n",
        "# Convert the updated messages into a conversational context for the model\n",
        "context = \"\\n\".join(\n",
        "    [f\"{msg['role'].capitalize()}: {msg['content']}\" for msg in messages]\n",
        ")\n",
        "\n",
        "# Generate a response using Gemini\n",
        "response = model.generate_content(f\"{context}\\nAssistant:\")\n",
        "\n",
        "# Extract the AI's response from the result\n",
        "res = response.text\n",
        "\n",
        "# Print the response\n",
        "print(res)\n",
        "\n",
        "# Optionally, add the assistant's response back to messages\n",
        "messages.append({\"role\": \"assistant\", \"content\": res})\n"
      ],
      "metadata": {
        "colab": {
          "base_uri": "https://localhost:8080/",
          "height": 176
        },
        "id": "Xhk3xz4gz5LI",
        "outputId": "5e686808-2cba-4626-a41e-358b8bb8fc1c"
      },
      "execution_count": 164,
      "outputs": [
        {
          "output_type": "stream",
          "name": "stdout",
          "text": [
            "* You asked about *Breaking Bad* and wanted to understand the show.\n",
            "* You inquired about Walter White's character and why the show is considered a masterpiece.\n",
            "* You asked about the show's release date and IMDb rating (although I couldn't answer the latter).\n",
            "* You asked various questions about details from a provided script excerpt, including character dialogue, locations, and items on a counter.  Many of these questions could not be answered because the excerpt was incomplete or didn't contain the relevant information.\n",
            "* You asked for general information about characters like Jesse Pinkman and his RV.\n",
            "* You requested a summary of the episode \"Mas,\" which was not possible based on the limited script excerpt.\n",
            "* Finally, you asked for a bullet-point summary of our conversation.\n",
            "\n"
          ]
        }
      ]
    },
    {
      "cell_type": "markdown",
      "metadata": {
        "id": "XPrsKLj7w4wc"
      },
      "source": [
        "Delete the index to save resources and not be charged for non-use:"
      ]
    },
    {
      "cell_type": "code",
      "execution_count": 165,
      "metadata": {
        "id": "E8LSIHSGw4wc"
      },
      "outputs": [],
      "source": [
        "pc.delete_index(index_name)"
      ]
    },
    {
      "cell_type": "markdown",
      "metadata": {
        "id": "XtiAQmWdw4wd"
      },
      "source": [
        "---"
      ]
    }
  ],
  "metadata": {
    "accelerator": "GPU",
    "colab": {
      "gpuType": "T4",
      "provenance": []
    },
    "kernelspec": {
      "display_name": "Python 3",
      "name": "python3"
    },
    "language_info": {
      "codemirror_mode": {
        "name": "ipython",
        "version": 3
      },
      "file_extension": ".py",
      "mimetype": "text/x-python",
      "name": "python",
      "nbconvert_exporter": "python",
      "pygments_lexer": "ipython3",
      "version": "3.11.5"
    },
    "widgets": {
      "application/vnd.jupyter.widget-state+json": {
        "120fe7bd725d4aefad596ab3987a2c79": {
          "model_module": "@jupyter-widgets/controls",
          "model_name": "HBoxModel",
          "model_module_version": "1.5.0",
          "state": {
            "_dom_classes": [],
            "_model_module": "@jupyter-widgets/controls",
            "_model_module_version": "1.5.0",
            "_model_name": "HBoxModel",
            "_view_count": null,
            "_view_module": "@jupyter-widgets/controls",
            "_view_module_version": "1.5.0",
            "_view_name": "HBoxView",
            "box_style": "",
            "children": [
              "IPY_MODEL_7d26120dc6974fa0b7d29f1fb8ec3541",
              "IPY_MODEL_5a1d36916ef44ad2800709ba3993e3eb",
              "IPY_MODEL_176a03b4be3a4edc908324494dd738bf"
            ],
            "layout": "IPY_MODEL_62fb38be83d0406ea94812bd1732aa12"
          }
        },
        "7d26120dc6974fa0b7d29f1fb8ec3541": {
          "model_module": "@jupyter-widgets/controls",
          "model_name": "HTMLModel",
          "model_module_version": "1.5.0",
          "state": {
            "_dom_classes": [],
            "_model_module": "@jupyter-widgets/controls",
            "_model_module_version": "1.5.0",
            "_model_name": "HTMLModel",
            "_view_count": null,
            "_view_module": "@jupyter-widgets/controls",
            "_view_module_version": "1.5.0",
            "_view_name": "HTMLView",
            "description": "",
            "description_tooltip": null,
            "layout": "IPY_MODEL_48f948570437476ebf24bb685d7f16c6",
            "placeholder": "​",
            "style": "IPY_MODEL_9fb8486f589740018fa483260dbc17a7",
            "value": "100%"
          }
        },
        "5a1d36916ef44ad2800709ba3993e3eb": {
          "model_module": "@jupyter-widgets/controls",
          "model_name": "FloatProgressModel",
          "model_module_version": "1.5.0",
          "state": {
            "_dom_classes": [],
            "_model_module": "@jupyter-widgets/controls",
            "_model_module_version": "1.5.0",
            "_model_name": "FloatProgressModel",
            "_view_count": null,
            "_view_module": "@jupyter-widgets/controls",
            "_view_module_version": "1.5.0",
            "_view_name": "ProgressView",
            "bar_style": "success",
            "description": "",
            "description_tooltip": null,
            "layout": "IPY_MODEL_c7358a9bcc664b6ca59a257ea5ea15d4",
            "max": 1,
            "min": 0,
            "orientation": "horizontal",
            "style": "IPY_MODEL_8d5fb2b7b2d94d31ab8e685072314180",
            "value": 1
          }
        },
        "176a03b4be3a4edc908324494dd738bf": {
          "model_module": "@jupyter-widgets/controls",
          "model_name": "HTMLModel",
          "model_module_version": "1.5.0",
          "state": {
            "_dom_classes": [],
            "_model_module": "@jupyter-widgets/controls",
            "_model_module_version": "1.5.0",
            "_model_name": "HTMLModel",
            "_view_count": null,
            "_view_module": "@jupyter-widgets/controls",
            "_view_module_version": "1.5.0",
            "_view_name": "HTMLView",
            "description": "",
            "description_tooltip": null,
            "layout": "IPY_MODEL_0d823dfdef944c0c969b9d727ca609ec",
            "placeholder": "​",
            "style": "IPY_MODEL_7291a60b91164ab69235857ac9174c3f",
            "value": " 1/1 [00:32&lt;00:00, 32.19s/it]"
          }
        },
        "62fb38be83d0406ea94812bd1732aa12": {
          "model_module": "@jupyter-widgets/base",
          "model_name": "LayoutModel",
          "model_module_version": "1.2.0",
          "state": {
            "_model_module": "@jupyter-widgets/base",
            "_model_module_version": "1.2.0",
            "_model_name": "LayoutModel",
            "_view_count": null,
            "_view_module": "@jupyter-widgets/base",
            "_view_module_version": "1.2.0",
            "_view_name": "LayoutView",
            "align_content": null,
            "align_items": null,
            "align_self": null,
            "border": null,
            "bottom": null,
            "display": null,
            "flex": null,
            "flex_flow": null,
            "grid_area": null,
            "grid_auto_columns": null,
            "grid_auto_flow": null,
            "grid_auto_rows": null,
            "grid_column": null,
            "grid_gap": null,
            "grid_row": null,
            "grid_template_areas": null,
            "grid_template_columns": null,
            "grid_template_rows": null,
            "height": null,
            "justify_content": null,
            "justify_items": null,
            "left": null,
            "margin": null,
            "max_height": null,
            "max_width": null,
            "min_height": null,
            "min_width": null,
            "object_fit": null,
            "object_position": null,
            "order": null,
            "overflow": null,
            "overflow_x": null,
            "overflow_y": null,
            "padding": null,
            "right": null,
            "top": null,
            "visibility": null,
            "width": null
          }
        },
        "48f948570437476ebf24bb685d7f16c6": {
          "model_module": "@jupyter-widgets/base",
          "model_name": "LayoutModel",
          "model_module_version": "1.2.0",
          "state": {
            "_model_module": "@jupyter-widgets/base",
            "_model_module_version": "1.2.0",
            "_model_name": "LayoutModel",
            "_view_count": null,
            "_view_module": "@jupyter-widgets/base",
            "_view_module_version": "1.2.0",
            "_view_name": "LayoutView",
            "align_content": null,
            "align_items": null,
            "align_self": null,
            "border": null,
            "bottom": null,
            "display": null,
            "flex": null,
            "flex_flow": null,
            "grid_area": null,
            "grid_auto_columns": null,
            "grid_auto_flow": null,
            "grid_auto_rows": null,
            "grid_column": null,
            "grid_gap": null,
            "grid_row": null,
            "grid_template_areas": null,
            "grid_template_columns": null,
            "grid_template_rows": null,
            "height": null,
            "justify_content": null,
            "justify_items": null,
            "left": null,
            "margin": null,
            "max_height": null,
            "max_width": null,
            "min_height": null,
            "min_width": null,
            "object_fit": null,
            "object_position": null,
            "order": null,
            "overflow": null,
            "overflow_x": null,
            "overflow_y": null,
            "padding": null,
            "right": null,
            "top": null,
            "visibility": null,
            "width": null
          }
        },
        "9fb8486f589740018fa483260dbc17a7": {
          "model_module": "@jupyter-widgets/controls",
          "model_name": "DescriptionStyleModel",
          "model_module_version": "1.5.0",
          "state": {
            "_model_module": "@jupyter-widgets/controls",
            "_model_module_version": "1.5.0",
            "_model_name": "DescriptionStyleModel",
            "_view_count": null,
            "_view_module": "@jupyter-widgets/base",
            "_view_module_version": "1.2.0",
            "_view_name": "StyleView",
            "description_width": ""
          }
        },
        "c7358a9bcc664b6ca59a257ea5ea15d4": {
          "model_module": "@jupyter-widgets/base",
          "model_name": "LayoutModel",
          "model_module_version": "1.2.0",
          "state": {
            "_model_module": "@jupyter-widgets/base",
            "_model_module_version": "1.2.0",
            "_model_name": "LayoutModel",
            "_view_count": null,
            "_view_module": "@jupyter-widgets/base",
            "_view_module_version": "1.2.0",
            "_view_name": "LayoutView",
            "align_content": null,
            "align_items": null,
            "align_self": null,
            "border": null,
            "bottom": null,
            "display": null,
            "flex": null,
            "flex_flow": null,
            "grid_area": null,
            "grid_auto_columns": null,
            "grid_auto_flow": null,
            "grid_auto_rows": null,
            "grid_column": null,
            "grid_gap": null,
            "grid_row": null,
            "grid_template_areas": null,
            "grid_template_columns": null,
            "grid_template_rows": null,
            "height": null,
            "justify_content": null,
            "justify_items": null,
            "left": null,
            "margin": null,
            "max_height": null,
            "max_width": null,
            "min_height": null,
            "min_width": null,
            "object_fit": null,
            "object_position": null,
            "order": null,
            "overflow": null,
            "overflow_x": null,
            "overflow_y": null,
            "padding": null,
            "right": null,
            "top": null,
            "visibility": null,
            "width": null
          }
        },
        "8d5fb2b7b2d94d31ab8e685072314180": {
          "model_module": "@jupyter-widgets/controls",
          "model_name": "ProgressStyleModel",
          "model_module_version": "1.5.0",
          "state": {
            "_model_module": "@jupyter-widgets/controls",
            "_model_module_version": "1.5.0",
            "_model_name": "ProgressStyleModel",
            "_view_count": null,
            "_view_module": "@jupyter-widgets/base",
            "_view_module_version": "1.2.0",
            "_view_name": "StyleView",
            "bar_color": null,
            "description_width": ""
          }
        },
        "0d823dfdef944c0c969b9d727ca609ec": {
          "model_module": "@jupyter-widgets/base",
          "model_name": "LayoutModel",
          "model_module_version": "1.2.0",
          "state": {
            "_model_module": "@jupyter-widgets/base",
            "_model_module_version": "1.2.0",
            "_model_name": "LayoutModel",
            "_view_count": null,
            "_view_module": "@jupyter-widgets/base",
            "_view_module_version": "1.2.0",
            "_view_name": "LayoutView",
            "align_content": null,
            "align_items": null,
            "align_self": null,
            "border": null,
            "bottom": null,
            "display": null,
            "flex": null,
            "flex_flow": null,
            "grid_area": null,
            "grid_auto_columns": null,
            "grid_auto_flow": null,
            "grid_auto_rows": null,
            "grid_column": null,
            "grid_gap": null,
            "grid_row": null,
            "grid_template_areas": null,
            "grid_template_columns": null,
            "grid_template_rows": null,
            "height": null,
            "justify_content": null,
            "justify_items": null,
            "left": null,
            "margin": null,
            "max_height": null,
            "max_width": null,
            "min_height": null,
            "min_width": null,
            "object_fit": null,
            "object_position": null,
            "order": null,
            "overflow": null,
            "overflow_x": null,
            "overflow_y": null,
            "padding": null,
            "right": null,
            "top": null,
            "visibility": null,
            "width": null
          }
        },
        "7291a60b91164ab69235857ac9174c3f": {
          "model_module": "@jupyter-widgets/controls",
          "model_name": "DescriptionStyleModel",
          "model_module_version": "1.5.0",
          "state": {
            "_model_module": "@jupyter-widgets/controls",
            "_model_module_version": "1.5.0",
            "_model_name": "DescriptionStyleModel",
            "_view_count": null,
            "_view_module": "@jupyter-widgets/base",
            "_view_module_version": "1.2.0",
            "_view_name": "StyleView",
            "description_width": ""
          }
        },
        "267cd899875a41dc83c074e0d8da2eff": {
          "model_module": "@jupyter-widgets/controls",
          "model_name": "HBoxModel",
          "model_module_version": "1.5.0",
          "state": {
            "_dom_classes": [],
            "_model_module": "@jupyter-widgets/controls",
            "_model_module_version": "1.5.0",
            "_model_name": "HBoxModel",
            "_view_count": null,
            "_view_module": "@jupyter-widgets/controls",
            "_view_module_version": "1.5.0",
            "_view_name": "HBoxView",
            "box_style": "",
            "children": [
              "IPY_MODEL_ee294a42c1c944ee9db3d3bb03372a31",
              "IPY_MODEL_50458e15cdf24d5ca3f8121df1a8b0ed",
              "IPY_MODEL_3abe387885cc42b5b15f38104e3a8bba"
            ],
            "layout": "IPY_MODEL_f768126a59114697bc22b56a37da8d59"
          }
        },
        "ee294a42c1c944ee9db3d3bb03372a31": {
          "model_module": "@jupyter-widgets/controls",
          "model_name": "HTMLModel",
          "model_module_version": "1.5.0",
          "state": {
            "_dom_classes": [],
            "_model_module": "@jupyter-widgets/controls",
            "_model_module_version": "1.5.0",
            "_model_name": "HTMLModel",
            "_view_count": null,
            "_view_module": "@jupyter-widgets/controls",
            "_view_module_version": "1.5.0",
            "_view_name": "HTMLView",
            "description": "",
            "description_tooltip": null,
            "layout": "IPY_MODEL_874f2d0df27a41b7af7f08ebe055acb0",
            "placeholder": "​",
            "style": "IPY_MODEL_bb024b57fb984989a7c0116d4b4a26bf",
            "value": "100%"
          }
        },
        "50458e15cdf24d5ca3f8121df1a8b0ed": {
          "model_module": "@jupyter-widgets/controls",
          "model_name": "FloatProgressModel",
          "model_module_version": "1.5.0",
          "state": {
            "_dom_classes": [],
            "_model_module": "@jupyter-widgets/controls",
            "_model_module_version": "1.5.0",
            "_model_name": "FloatProgressModel",
            "_view_count": null,
            "_view_module": "@jupyter-widgets/controls",
            "_view_module_version": "1.5.0",
            "_view_name": "ProgressView",
            "bar_style": "success",
            "description": "",
            "description_tooltip": null,
            "layout": "IPY_MODEL_915b119c971e4dd5a2fca0c8b258883d",
            "max": 1,
            "min": 0,
            "orientation": "horizontal",
            "style": "IPY_MODEL_9a1cbb4cb9184017ba4c4ce86487c14d",
            "value": 1
          }
        },
        "3abe387885cc42b5b15f38104e3a8bba": {
          "model_module": "@jupyter-widgets/controls",
          "model_name": "HTMLModel",
          "model_module_version": "1.5.0",
          "state": {
            "_dom_classes": [],
            "_model_module": "@jupyter-widgets/controls",
            "_model_module_version": "1.5.0",
            "_model_name": "HTMLModel",
            "_view_count": null,
            "_view_module": "@jupyter-widgets/controls",
            "_view_module_version": "1.5.0",
            "_view_name": "HTMLView",
            "description": "",
            "description_tooltip": null,
            "layout": "IPY_MODEL_b7f7d313f830487eb6a4fec66191f64b",
            "placeholder": "​",
            "style": "IPY_MODEL_86de2bb60c3a4a7bb5a9fa18a01f3166",
            "value": " 1/1 [00:37&lt;00:00, 37.99s/it]"
          }
        },
        "f768126a59114697bc22b56a37da8d59": {
          "model_module": "@jupyter-widgets/base",
          "model_name": "LayoutModel",
          "model_module_version": "1.2.0",
          "state": {
            "_model_module": "@jupyter-widgets/base",
            "_model_module_version": "1.2.0",
            "_model_name": "LayoutModel",
            "_view_count": null,
            "_view_module": "@jupyter-widgets/base",
            "_view_module_version": "1.2.0",
            "_view_name": "LayoutView",
            "align_content": null,
            "align_items": null,
            "align_self": null,
            "border": null,
            "bottom": null,
            "display": null,
            "flex": null,
            "flex_flow": null,
            "grid_area": null,
            "grid_auto_columns": null,
            "grid_auto_flow": null,
            "grid_auto_rows": null,
            "grid_column": null,
            "grid_gap": null,
            "grid_row": null,
            "grid_template_areas": null,
            "grid_template_columns": null,
            "grid_template_rows": null,
            "height": null,
            "justify_content": null,
            "justify_items": null,
            "left": null,
            "margin": null,
            "max_height": null,
            "max_width": null,
            "min_height": null,
            "min_width": null,
            "object_fit": null,
            "object_position": null,
            "order": null,
            "overflow": null,
            "overflow_x": null,
            "overflow_y": null,
            "padding": null,
            "right": null,
            "top": null,
            "visibility": null,
            "width": null
          }
        },
        "874f2d0df27a41b7af7f08ebe055acb0": {
          "model_module": "@jupyter-widgets/base",
          "model_name": "LayoutModel",
          "model_module_version": "1.2.0",
          "state": {
            "_model_module": "@jupyter-widgets/base",
            "_model_module_version": "1.2.0",
            "_model_name": "LayoutModel",
            "_view_count": null,
            "_view_module": "@jupyter-widgets/base",
            "_view_module_version": "1.2.0",
            "_view_name": "LayoutView",
            "align_content": null,
            "align_items": null,
            "align_self": null,
            "border": null,
            "bottom": null,
            "display": null,
            "flex": null,
            "flex_flow": null,
            "grid_area": null,
            "grid_auto_columns": null,
            "grid_auto_flow": null,
            "grid_auto_rows": null,
            "grid_column": null,
            "grid_gap": null,
            "grid_row": null,
            "grid_template_areas": null,
            "grid_template_columns": null,
            "grid_template_rows": null,
            "height": null,
            "justify_content": null,
            "justify_items": null,
            "left": null,
            "margin": null,
            "max_height": null,
            "max_width": null,
            "min_height": null,
            "min_width": null,
            "object_fit": null,
            "object_position": null,
            "order": null,
            "overflow": null,
            "overflow_x": null,
            "overflow_y": null,
            "padding": null,
            "right": null,
            "top": null,
            "visibility": null,
            "width": null
          }
        },
        "bb024b57fb984989a7c0116d4b4a26bf": {
          "model_module": "@jupyter-widgets/controls",
          "model_name": "DescriptionStyleModel",
          "model_module_version": "1.5.0",
          "state": {
            "_model_module": "@jupyter-widgets/controls",
            "_model_module_version": "1.5.0",
            "_model_name": "DescriptionStyleModel",
            "_view_count": null,
            "_view_module": "@jupyter-widgets/base",
            "_view_module_version": "1.2.0",
            "_view_name": "StyleView",
            "description_width": ""
          }
        },
        "915b119c971e4dd5a2fca0c8b258883d": {
          "model_module": "@jupyter-widgets/base",
          "model_name": "LayoutModel",
          "model_module_version": "1.2.0",
          "state": {
            "_model_module": "@jupyter-widgets/base",
            "_model_module_version": "1.2.0",
            "_model_name": "LayoutModel",
            "_view_count": null,
            "_view_module": "@jupyter-widgets/base",
            "_view_module_version": "1.2.0",
            "_view_name": "LayoutView",
            "align_content": null,
            "align_items": null,
            "align_self": null,
            "border": null,
            "bottom": null,
            "display": null,
            "flex": null,
            "flex_flow": null,
            "grid_area": null,
            "grid_auto_columns": null,
            "grid_auto_flow": null,
            "grid_auto_rows": null,
            "grid_column": null,
            "grid_gap": null,
            "grid_row": null,
            "grid_template_areas": null,
            "grid_template_columns": null,
            "grid_template_rows": null,
            "height": null,
            "justify_content": null,
            "justify_items": null,
            "left": null,
            "margin": null,
            "max_height": null,
            "max_width": null,
            "min_height": null,
            "min_width": null,
            "object_fit": null,
            "object_position": null,
            "order": null,
            "overflow": null,
            "overflow_x": null,
            "overflow_y": null,
            "padding": null,
            "right": null,
            "top": null,
            "visibility": null,
            "width": null
          }
        },
        "9a1cbb4cb9184017ba4c4ce86487c14d": {
          "model_module": "@jupyter-widgets/controls",
          "model_name": "ProgressStyleModel",
          "model_module_version": "1.5.0",
          "state": {
            "_model_module": "@jupyter-widgets/controls",
            "_model_module_version": "1.5.0",
            "_model_name": "ProgressStyleModel",
            "_view_count": null,
            "_view_module": "@jupyter-widgets/base",
            "_view_module_version": "1.2.0",
            "_view_name": "StyleView",
            "bar_color": null,
            "description_width": ""
          }
        },
        "b7f7d313f830487eb6a4fec66191f64b": {
          "model_module": "@jupyter-widgets/base",
          "model_name": "LayoutModel",
          "model_module_version": "1.2.0",
          "state": {
            "_model_module": "@jupyter-widgets/base",
            "_model_module_version": "1.2.0",
            "_model_name": "LayoutModel",
            "_view_count": null,
            "_view_module": "@jupyter-widgets/base",
            "_view_module_version": "1.2.0",
            "_view_name": "LayoutView",
            "align_content": null,
            "align_items": null,
            "align_self": null,
            "border": null,
            "bottom": null,
            "display": null,
            "flex": null,
            "flex_flow": null,
            "grid_area": null,
            "grid_auto_columns": null,
            "grid_auto_flow": null,
            "grid_auto_rows": null,
            "grid_column": null,
            "grid_gap": null,
            "grid_row": null,
            "grid_template_areas": null,
            "grid_template_columns": null,
            "grid_template_rows": null,
            "height": null,
            "justify_content": null,
            "justify_items": null,
            "left": null,
            "margin": null,
            "max_height": null,
            "max_width": null,
            "min_height": null,
            "min_width": null,
            "object_fit": null,
            "object_position": null,
            "order": null,
            "overflow": null,
            "overflow_x": null,
            "overflow_y": null,
            "padding": null,
            "right": null,
            "top": null,
            "visibility": null,
            "width": null
          }
        },
        "86de2bb60c3a4a7bb5a9fa18a01f3166": {
          "model_module": "@jupyter-widgets/controls",
          "model_name": "DescriptionStyleModel",
          "model_module_version": "1.5.0",
          "state": {
            "_model_module": "@jupyter-widgets/controls",
            "_model_module_version": "1.5.0",
            "_model_name": "DescriptionStyleModel",
            "_view_count": null,
            "_view_module": "@jupyter-widgets/base",
            "_view_module_version": "1.2.0",
            "_view_name": "StyleView",
            "description_width": ""
          }
        }
      }
    }
  },
  "nbformat": 4,
  "nbformat_minor": 0
}