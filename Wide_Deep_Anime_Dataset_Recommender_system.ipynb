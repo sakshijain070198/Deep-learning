{
 "cells": [
  {
   "cell_type": "markdown",
   "id": "2a956e16-992e-40e5-a85c-3c50d31f5506",
   "metadata": {},
   "source": [
    "#### Part 1: Deep Learning-Based Recommendation"
   ]
  },
  {
   "cell_type": "markdown",
   "id": "c7749a74-4d53-43ea-94bb-26734c8d7702",
   "metadata": {},
   "source": [
    "##### Reference Paper: https://arxiv.org/pdf/1606.07792"
   ]
  },
  {
   "cell_type": "markdown",
   "id": "3d485b01-bf69-4400-a020-a6689ecaff18",
   "metadata": {},
   "source": [
    "##### Downloaded the datasets from https://www.kaggle.com/datasets/dbdmobile/myanimelist-dataset (anime-dataset-2023.csv, users-details-2023.csv, users-score- 2023.csv)"
   ]
  },
  {
   "cell_type": "markdown",
   "id": "91997c83-1f0b-4bef-a408-452b7d9afcee",
   "metadata": {},
   "source": [
    "Loading the dataset"
   ]
  },
  {
   "cell_type": "code",
   "execution_count": 2,
   "id": "f5628c4d-54ff-4845-813a-b93bb33cacef",
   "metadata": {},
   "outputs": [
    {
     "name": "stdout",
     "output_type": "stream",
     "text": [
      "Collecting pandas\n",
      "  Downloading pandas-2.2.3-cp310-cp310-manylinux_2_17_x86_64.manylinux2014_x86_64.whl.metadata (89 kB)\n",
      "\u001b[2K     \u001b[90m━━━━━━━━━━━━━━━━━━━━━━━━━━━━━━━━━━━━━━━━\u001b[0m \u001b[32m89.9/89.9 kB\u001b[0m \u001b[31m6.3 MB/s\u001b[0m eta \u001b[36m0:00:00\u001b[0m\n",
      "\u001b[?25hRequirement already satisfied: numpy>=1.22.4 in /opt/conda/lib/python3.10/site-packages (from pandas) (1.26.2)\n",
      "Requirement already satisfied: python-dateutil>=2.8.2 in /opt/conda/lib/python3.10/site-packages (from pandas) (2.8.2)\n",
      "Requirement already satisfied: pytz>=2020.1 in /opt/conda/lib/python3.10/site-packages (from pandas) (2023.3.post1)\n",
      "Collecting tzdata>=2022.7 (from pandas)\n",
      "  Downloading tzdata-2024.2-py2.py3-none-any.whl.metadata (1.4 kB)\n",
      "Requirement already satisfied: six>=1.5 in /opt/conda/lib/python3.10/site-packages (from python-dateutil>=2.8.2->pandas) (1.16.0)\n",
      "Downloading pandas-2.2.3-cp310-cp310-manylinux_2_17_x86_64.manylinux2014_x86_64.whl (13.1 MB)\n",
      "\u001b[2K   \u001b[90m━━━━━━━━━━━━━━━━━━━━━━━━━━━━━━━━━━━━━━━━\u001b[0m \u001b[32m13.1/13.1 MB\u001b[0m \u001b[31m50.3 MB/s\u001b[0m eta \u001b[36m0:00:00\u001b[0m00:01\u001b[0m00:01\u001b[0m\n",
      "\u001b[?25hDownloading tzdata-2024.2-py2.py3-none-any.whl (346 kB)\n",
      "\u001b[2K   \u001b[90m━━━━━━━━━━━━━━━━━━━━━━━━━━━━━━━━━━━━━━━━\u001b[0m \u001b[32m346.6/346.6 kB\u001b[0m \u001b[31m50.8 MB/s\u001b[0m eta \u001b[36m0:00:00\u001b[0m\n",
      "\u001b[?25hInstalling collected packages: tzdata, pandas\n",
      "Successfully installed pandas-2.2.3 tzdata-2024.2\n",
      "\u001b[33mWARNING: Running pip as the 'root' user can result in broken permissions and conflicting behaviour with the system package manager. It is recommended to use a virtual environment instead: https://pip.pypa.io/warnings/venv\u001b[0m\u001b[33m\n",
      "\u001b[0mRequirement already satisfied: numpy in /opt/conda/lib/python3.10/site-packages (1.26.2)\n",
      "\u001b[33mWARNING: Running pip as the 'root' user can result in broken permissions and conflicting behaviour with the system package manager. It is recommended to use a virtual environment instead: https://pip.pypa.io/warnings/venv\u001b[0m\u001b[33m\n",
      "\u001b[0mCollecting matplotlib\n",
      "  Downloading matplotlib-3.9.2-cp310-cp310-manylinux_2_17_x86_64.manylinux2014_x86_64.whl.metadata (11 kB)\n",
      "Collecting contourpy>=1.0.1 (from matplotlib)\n",
      "  Downloading contourpy-1.3.0-cp310-cp310-manylinux_2_17_x86_64.manylinux2014_x86_64.whl.metadata (5.4 kB)\n",
      "Collecting cycler>=0.10 (from matplotlib)\n",
      "  Downloading cycler-0.12.1-py3-none-any.whl.metadata (3.8 kB)\n",
      "Collecting fonttools>=4.22.0 (from matplotlib)\n",
      "  Downloading fonttools-4.54.1-cp310-cp310-manylinux_2_17_x86_64.manylinux2014_x86_64.whl.metadata (163 kB)\n",
      "\u001b[2K     \u001b[90m━━━━━━━━━━━━━━━━━━━━━━━━━━━━━━━━━━━━━━\u001b[0m \u001b[32m163.7/163.7 kB\u001b[0m \u001b[31m16.3 MB/s\u001b[0m eta \u001b[36m0:00:00\u001b[0m\n",
      "\u001b[?25hCollecting kiwisolver>=1.3.1 (from matplotlib)\n",
      "  Downloading kiwisolver-1.4.7-cp310-cp310-manylinux_2_12_x86_64.manylinux2010_x86_64.whl.metadata (6.3 kB)\n",
      "Requirement already satisfied: numpy>=1.23 in /opt/conda/lib/python3.10/site-packages (from matplotlib) (1.26.2)\n",
      "Requirement already satisfied: packaging>=20.0 in /opt/conda/lib/python3.10/site-packages (from matplotlib) (23.1)\n",
      "Requirement already satisfied: pillow>=8 in /opt/conda/lib/python3.10/site-packages (from matplotlib) (10.0.1)\n",
      "Collecting pyparsing>=2.3.1 (from matplotlib)\n",
      "  Downloading pyparsing-3.2.0-py3-none-any.whl.metadata (5.0 kB)\n",
      "Requirement already satisfied: python-dateutil>=2.7 in /opt/conda/lib/python3.10/site-packages (from matplotlib) (2.8.2)\n",
      "Requirement already satisfied: six>=1.5 in /opt/conda/lib/python3.10/site-packages (from python-dateutil>=2.7->matplotlib) (1.16.0)\n",
      "Downloading matplotlib-3.9.2-cp310-cp310-manylinux_2_17_x86_64.manylinux2014_x86_64.whl (8.3 MB)\n",
      "\u001b[2K   \u001b[90m━━━━━━━━━━━━━━━━━━━━━━━━━━━━━━━━━━━━━━━━\u001b[0m \u001b[32m8.3/8.3 MB\u001b[0m \u001b[31m57.2 MB/s\u001b[0m eta \u001b[36m0:00:00\u001b[0m00:01\u001b[0m00:01\u001b[0m\n",
      "\u001b[?25hDownloading contourpy-1.3.0-cp310-cp310-manylinux_2_17_x86_64.manylinux2014_x86_64.whl (322 kB)\n",
      "\u001b[2K   \u001b[90m━━━━━━━━━━━━━━━━━━━━━━━━━━━━━━━━━━━━━━━━\u001b[0m \u001b[32m322.0/322.0 kB\u001b[0m \u001b[31m27.9 MB/s\u001b[0m eta \u001b[36m0:00:00\u001b[0m\n",
      "\u001b[?25hDownloading cycler-0.12.1-py3-none-any.whl (8.3 kB)\n",
      "Downloading fonttools-4.54.1-cp310-cp310-manylinux_2_17_x86_64.manylinux2014_x86_64.whl (4.6 MB)\n",
      "\u001b[2K   \u001b[90m━━━━━━━━━━━━━━━━━━━━━━━━━━━━━━━━━━━━━━━━\u001b[0m \u001b[32m4.6/4.6 MB\u001b[0m \u001b[31m50.1 MB/s\u001b[0m eta \u001b[36m0:00:00\u001b[0ma \u001b[36m0:00:01\u001b[0m\n",
      "\u001b[?25hDownloading kiwisolver-1.4.7-cp310-cp310-manylinux_2_12_x86_64.manylinux2010_x86_64.whl (1.6 MB)\n",
      "\u001b[2K   \u001b[90m━━━━━━━━━━━━━━━━━━━━━━━━━━━━━━━━━━━━━━━━\u001b[0m \u001b[32m1.6/1.6 MB\u001b[0m \u001b[31m44.0 MB/s\u001b[0m eta \u001b[36m0:00:00\u001b[0m00:01\u001b[0m\n",
      "\u001b[?25hDownloading pyparsing-3.2.0-py3-none-any.whl (106 kB)\n",
      "\u001b[2K   \u001b[90m━━━━━━━━━━━━━━━━━━━━━━━━━━━━━━━━━━━━━━━━\u001b[0m \u001b[32m106.9/106.9 kB\u001b[0m \u001b[31m18.1 MB/s\u001b[0m eta \u001b[36m0:00:00\u001b[0m\n",
      "\u001b[?25hInstalling collected packages: pyparsing, kiwisolver, fonttools, cycler, contourpy, matplotlib\n",
      "Successfully installed contourpy-1.3.0 cycler-0.12.1 fonttools-4.54.1 kiwisolver-1.4.7 matplotlib-3.9.2 pyparsing-3.2.0\n",
      "\u001b[33mWARNING: Running pip as the 'root' user can result in broken permissions and conflicting behaviour with the system package manager. It is recommended to use a virtual environment instead: https://pip.pypa.io/warnings/venv\u001b[0m\u001b[33m\n",
      "\u001b[0m"
     ]
    }
   ],
   "source": [
    "!pip install pandas\n",
    "!pip install numpy\n",
    "!pip install matplotlib"
   ]
  },
  {
   "cell_type": "code",
   "execution_count": 3,
   "id": "9dffc2fa-f7c3-4f61-b164-28277c3e1b25",
   "metadata": {},
   "outputs": [],
   "source": [
    "import pandas as pd \n",
    "import numpy as np \n",
    "import matplotlib.pyplot as plt"
   ]
  },
  {
   "cell_type": "markdown",
   "id": "3fd08b55-8095-4922-acbf-73ac52ab900d",
   "metadata": {},
   "source": [
    "Loading the anime dataset "
   ]
  },
  {
   "cell_type": "code",
   "execution_count": 4,
   "id": "fc53c63c-34c7-4556-954c-98bc8cb24840",
   "metadata": {},
   "outputs": [],
   "source": [
    "a_df  = pd.read_csv('anime-dataset-2023.csv')"
   ]
  },
  {
   "cell_type": "markdown",
   "id": "2264ad14-de25-4a64-950f-e7b9e494fb39",
   "metadata": {},
   "source": [
    "Loaded the anime dataset and displaying top 10 rows and bottom 10 rows of this dataset"
   ]
  },
  {
   "cell_type": "code",
   "execution_count": 5,
   "id": "4d63d3bd-9c9e-4d5e-a9a7-d196c2d161b6",
   "metadata": {},
   "outputs": [
    {
     "data": {
      "text/html": [
       "<div>\n",
       "<style scoped>\n",
       "    .dataframe tbody tr th:only-of-type {\n",
       "        vertical-align: middle;\n",
       "    }\n",
       "\n",
       "    .dataframe tbody tr th {\n",
       "        vertical-align: top;\n",
       "    }\n",
       "\n",
       "    .dataframe thead th {\n",
       "        text-align: right;\n",
       "    }\n",
       "</style>\n",
       "<table border=\"1\" class=\"dataframe\">\n",
       "  <thead>\n",
       "    <tr style=\"text-align: right;\">\n",
       "      <th></th>\n",
       "      <th>anime_id</th>\n",
       "      <th>Name</th>\n",
       "      <th>English name</th>\n",
       "      <th>Other name</th>\n",
       "      <th>Score</th>\n",
       "      <th>Genres</th>\n",
       "      <th>Synopsis</th>\n",
       "      <th>Type</th>\n",
       "      <th>Episodes</th>\n",
       "      <th>Aired</th>\n",
       "      <th>...</th>\n",
       "      <th>Studios</th>\n",
       "      <th>Source</th>\n",
       "      <th>Duration</th>\n",
       "      <th>Rating</th>\n",
       "      <th>Rank</th>\n",
       "      <th>Popularity</th>\n",
       "      <th>Favorites</th>\n",
       "      <th>Scored By</th>\n",
       "      <th>Members</th>\n",
       "      <th>Image URL</th>\n",
       "    </tr>\n",
       "  </thead>\n",
       "  <tbody>\n",
       "    <tr>\n",
       "      <th>0</th>\n",
       "      <td>1</td>\n",
       "      <td>Cowboy Bebop</td>\n",
       "      <td>Cowboy Bebop</td>\n",
       "      <td>カウボーイビバップ</td>\n",
       "      <td>8.75</td>\n",
       "      <td>Action, Award Winning, Sci-Fi</td>\n",
       "      <td>Crime is timeless. By the year 2071, humanity ...</td>\n",
       "      <td>TV</td>\n",
       "      <td>26.0</td>\n",
       "      <td>Apr 3, 1998 to Apr 24, 1999</td>\n",
       "      <td>...</td>\n",
       "      <td>Sunrise</td>\n",
       "      <td>Original</td>\n",
       "      <td>24 min per ep</td>\n",
       "      <td>R - 17+ (violence &amp; profanity)</td>\n",
       "      <td>41.0</td>\n",
       "      <td>43</td>\n",
       "      <td>78525</td>\n",
       "      <td>914193.0</td>\n",
       "      <td>1771505</td>\n",
       "      <td>https://cdn.myanimelist.net/images/anime/4/196...</td>\n",
       "    </tr>\n",
       "    <tr>\n",
       "      <th>1</th>\n",
       "      <td>5</td>\n",
       "      <td>Cowboy Bebop: Tengoku no Tobira</td>\n",
       "      <td>Cowboy Bebop: The Movie</td>\n",
       "      <td>カウボーイビバップ 天国の扉</td>\n",
       "      <td>8.38</td>\n",
       "      <td>Action, Sci-Fi</td>\n",
       "      <td>Another day, another bounty—such is the life o...</td>\n",
       "      <td>Movie</td>\n",
       "      <td>1.0</td>\n",
       "      <td>Sep 1, 2001</td>\n",
       "      <td>...</td>\n",
       "      <td>Bones</td>\n",
       "      <td>Original</td>\n",
       "      <td>1 hr 55 min</td>\n",
       "      <td>R - 17+ (violence &amp; profanity)</td>\n",
       "      <td>189.0</td>\n",
       "      <td>602</td>\n",
       "      <td>1448</td>\n",
       "      <td>206248.0</td>\n",
       "      <td>360978</td>\n",
       "      <td>https://cdn.myanimelist.net/images/anime/1439/...</td>\n",
       "    </tr>\n",
       "    <tr>\n",
       "      <th>2</th>\n",
       "      <td>6</td>\n",
       "      <td>Trigun</td>\n",
       "      <td>Trigun</td>\n",
       "      <td>トライガン</td>\n",
       "      <td>8.22</td>\n",
       "      <td>Action, Adventure, Sci-Fi</td>\n",
       "      <td>Vash the Stampede is the man with a $$60,000,0...</td>\n",
       "      <td>TV</td>\n",
       "      <td>26.0</td>\n",
       "      <td>Apr 1, 1998 to Sep 30, 1998</td>\n",
       "      <td>...</td>\n",
       "      <td>Madhouse</td>\n",
       "      <td>Manga</td>\n",
       "      <td>24 min per ep</td>\n",
       "      <td>PG-13 - Teens 13 or older</td>\n",
       "      <td>328.0</td>\n",
       "      <td>246</td>\n",
       "      <td>15035</td>\n",
       "      <td>356739.0</td>\n",
       "      <td>727252</td>\n",
       "      <td>https://cdn.myanimelist.net/images/anime/7/203...</td>\n",
       "    </tr>\n",
       "    <tr>\n",
       "      <th>3</th>\n",
       "      <td>7</td>\n",
       "      <td>Witch Hunter Robin</td>\n",
       "      <td>Witch Hunter Robin</td>\n",
       "      <td>Witch Hunter ROBIN (ウイッチハンターロビン)</td>\n",
       "      <td>7.25</td>\n",
       "      <td>Action, Drama, Mystery, Supernatural</td>\n",
       "      <td>Robin Sena is a powerful craft user drafted in...</td>\n",
       "      <td>TV</td>\n",
       "      <td>26.0</td>\n",
       "      <td>Jul 3, 2002 to Dec 25, 2002</td>\n",
       "      <td>...</td>\n",
       "      <td>Sunrise</td>\n",
       "      <td>Original</td>\n",
       "      <td>25 min per ep</td>\n",
       "      <td>PG-13 - Teens 13 or older</td>\n",
       "      <td>2764.0</td>\n",
       "      <td>1795</td>\n",
       "      <td>613</td>\n",
       "      <td>42829.0</td>\n",
       "      <td>111931</td>\n",
       "      <td>https://cdn.myanimelist.net/images/anime/10/19...</td>\n",
       "    </tr>\n",
       "    <tr>\n",
       "      <th>4</th>\n",
       "      <td>8</td>\n",
       "      <td>Bouken Ou Beet</td>\n",
       "      <td>Beet the Vandel Buster</td>\n",
       "      <td>冒険王ビィト</td>\n",
       "      <td>6.94</td>\n",
       "      <td>Adventure, Fantasy, Supernatural</td>\n",
       "      <td>It is the dark century and the people are suff...</td>\n",
       "      <td>TV</td>\n",
       "      <td>52.0</td>\n",
       "      <td>Sep 30, 2004 to Sep 29, 2005</td>\n",
       "      <td>...</td>\n",
       "      <td>Toei Animation</td>\n",
       "      <td>Manga</td>\n",
       "      <td>23 min per ep</td>\n",
       "      <td>PG - Children</td>\n",
       "      <td>4240.0</td>\n",
       "      <td>5126</td>\n",
       "      <td>14</td>\n",
       "      <td>6413.0</td>\n",
       "      <td>15001</td>\n",
       "      <td>https://cdn.myanimelist.net/images/anime/7/215...</td>\n",
       "    </tr>\n",
       "    <tr>\n",
       "      <th>5</th>\n",
       "      <td>15</td>\n",
       "      <td>Eyeshield 21</td>\n",
       "      <td>UNKNOWN</td>\n",
       "      <td>アイシールド21</td>\n",
       "      <td>7.92</td>\n",
       "      <td>Sports</td>\n",
       "      <td>Shy, reserved, and small-statured, Deimon High...</td>\n",
       "      <td>TV</td>\n",
       "      <td>145.0</td>\n",
       "      <td>Apr 6, 2005 to Mar 19, 2008</td>\n",
       "      <td>...</td>\n",
       "      <td>Gallop</td>\n",
       "      <td>Manga</td>\n",
       "      <td>23 min per ep</td>\n",
       "      <td>PG-13 - Teens 13 or older</td>\n",
       "      <td>688.0</td>\n",
       "      <td>1252</td>\n",
       "      <td>1997</td>\n",
       "      <td>86524.0</td>\n",
       "      <td>177688</td>\n",
       "      <td>https://cdn.myanimelist.net/images/anime/1079/...</td>\n",
       "    </tr>\n",
       "    <tr>\n",
       "      <th>6</th>\n",
       "      <td>16</td>\n",
       "      <td>Hachimitsu to Clover</td>\n",
       "      <td>Honey and Clover</td>\n",
       "      <td>ハチミツとクローバー</td>\n",
       "      <td>8.0</td>\n",
       "      <td>Comedy, Drama, Romance</td>\n",
       "      <td>Yuuta Takemoto, a sophomore at an arts college...</td>\n",
       "      <td>TV</td>\n",
       "      <td>24.0</td>\n",
       "      <td>Apr 15, 2005 to Sep 27, 2005</td>\n",
       "      <td>...</td>\n",
       "      <td>J.C.Staff</td>\n",
       "      <td>Manga</td>\n",
       "      <td>23 min per ep</td>\n",
       "      <td>PG-13 - Teens 13 or older</td>\n",
       "      <td>589.0</td>\n",
       "      <td>862</td>\n",
       "      <td>4136</td>\n",
       "      <td>81747.0</td>\n",
       "      <td>260166</td>\n",
       "      <td>https://cdn.myanimelist.net/images/anime/1301/...</td>\n",
       "    </tr>\n",
       "    <tr>\n",
       "      <th>7</th>\n",
       "      <td>17</td>\n",
       "      <td>Hungry Heart: Wild Striker</td>\n",
       "      <td>UNKNOWN</td>\n",
       "      <td>ハングリーハート Wild Striker</td>\n",
       "      <td>7.55</td>\n",
       "      <td>Comedy, Slice of Life, Sports</td>\n",
       "      <td>As the younger brother of Japanese soccer star...</td>\n",
       "      <td>TV</td>\n",
       "      <td>52.0</td>\n",
       "      <td>Sep 11, 2002 to Sep 10, 2003</td>\n",
       "      <td>...</td>\n",
       "      <td>Nippon Animation</td>\n",
       "      <td>Manga</td>\n",
       "      <td>23 min per ep</td>\n",
       "      <td>PG-13 - Teens 13 or older</td>\n",
       "      <td>1551.0</td>\n",
       "      <td>4212</td>\n",
       "      <td>237</td>\n",
       "      <td>12960.0</td>\n",
       "      <td>24172</td>\n",
       "      <td>https://cdn.myanimelist.net/images/anime/12/49...</td>\n",
       "    </tr>\n",
       "    <tr>\n",
       "      <th>8</th>\n",
       "      <td>18</td>\n",
       "      <td>Initial D Fourth Stage</td>\n",
       "      <td>UNKNOWN</td>\n",
       "      <td>頭文字〈イニシャル〉D FOURTH STAGE</td>\n",
       "      <td>8.16</td>\n",
       "      <td>Action, Drama</td>\n",
       "      <td>Takumi Fujiwara finally joins Ryousuke and Kei...</td>\n",
       "      <td>TV</td>\n",
       "      <td>24.0</td>\n",
       "      <td>Apr 17, 2004 to Feb 18, 2006</td>\n",
       "      <td>...</td>\n",
       "      <td>A.C.G.T.</td>\n",
       "      <td>Manga</td>\n",
       "      <td>27 min per ep</td>\n",
       "      <td>PG-13 - Teens 13 or older</td>\n",
       "      <td>393.0</td>\n",
       "      <td>1273</td>\n",
       "      <td>1237</td>\n",
       "      <td>97878.0</td>\n",
       "      <td>173710</td>\n",
       "      <td>https://cdn.myanimelist.net/images/anime/9/105...</td>\n",
       "    </tr>\n",
       "    <tr>\n",
       "      <th>9</th>\n",
       "      <td>19</td>\n",
       "      <td>Monster</td>\n",
       "      <td>Monster</td>\n",
       "      <td>モンスター</td>\n",
       "      <td>8.87</td>\n",
       "      <td>Drama, Mystery, Suspense</td>\n",
       "      <td>Dr. Kenzou Tenma, an elite neurosurgeon recent...</td>\n",
       "      <td>TV</td>\n",
       "      <td>74.0</td>\n",
       "      <td>Apr 7, 2004 to Sep 28, 2005</td>\n",
       "      <td>...</td>\n",
       "      <td>Madhouse</td>\n",
       "      <td>Manga</td>\n",
       "      <td>24 min per ep</td>\n",
       "      <td>R+ - Mild Nudity</td>\n",
       "      <td>26.0</td>\n",
       "      <td>142</td>\n",
       "      <td>47235</td>\n",
       "      <td>368569.0</td>\n",
       "      <td>1013100</td>\n",
       "      <td>https://cdn.myanimelist.net/images/anime/10/18...</td>\n",
       "    </tr>\n",
       "  </tbody>\n",
       "</table>\n",
       "<p>10 rows × 24 columns</p>\n",
       "</div>"
      ],
      "text/plain": [
       "   anime_id                             Name             English name  \\\n",
       "0         1                     Cowboy Bebop             Cowboy Bebop   \n",
       "1         5  Cowboy Bebop: Tengoku no Tobira  Cowboy Bebop: The Movie   \n",
       "2         6                           Trigun                   Trigun   \n",
       "3         7               Witch Hunter Robin       Witch Hunter Robin   \n",
       "4         8                   Bouken Ou Beet   Beet the Vandel Buster   \n",
       "5        15                     Eyeshield 21                  UNKNOWN   \n",
       "6        16             Hachimitsu to Clover         Honey and Clover   \n",
       "7        17       Hungry Heart: Wild Striker                  UNKNOWN   \n",
       "8        18           Initial D Fourth Stage                  UNKNOWN   \n",
       "9        19                          Monster                  Monster   \n",
       "\n",
       "                         Other name Score  \\\n",
       "0                         カウボーイビバップ  8.75   \n",
       "1                    カウボーイビバップ 天国の扉  8.38   \n",
       "2                             トライガン  8.22   \n",
       "3  Witch Hunter ROBIN (ウイッチハンターロビン)  7.25   \n",
       "4                            冒険王ビィト  6.94   \n",
       "5                          アイシールド21  7.92   \n",
       "6                        ハチミツとクローバー   8.0   \n",
       "7             ハングリーハート Wild Striker  7.55   \n",
       "8          頭文字〈イニシャル〉D FOURTH STAGE  8.16   \n",
       "9                             モンスター  8.87   \n",
       "\n",
       "                                 Genres  \\\n",
       "0         Action, Award Winning, Sci-Fi   \n",
       "1                        Action, Sci-Fi   \n",
       "2             Action, Adventure, Sci-Fi   \n",
       "3  Action, Drama, Mystery, Supernatural   \n",
       "4      Adventure, Fantasy, Supernatural   \n",
       "5                                Sports   \n",
       "6                Comedy, Drama, Romance   \n",
       "7         Comedy, Slice of Life, Sports   \n",
       "8                         Action, Drama   \n",
       "9              Drama, Mystery, Suspense   \n",
       "\n",
       "                                            Synopsis   Type Episodes  \\\n",
       "0  Crime is timeless. By the year 2071, humanity ...     TV     26.0   \n",
       "1  Another day, another bounty—such is the life o...  Movie      1.0   \n",
       "2  Vash the Stampede is the man with a $$60,000,0...     TV     26.0   \n",
       "3  Robin Sena is a powerful craft user drafted in...     TV     26.0   \n",
       "4  It is the dark century and the people are suff...     TV     52.0   \n",
       "5  Shy, reserved, and small-statured, Deimon High...     TV    145.0   \n",
       "6  Yuuta Takemoto, a sophomore at an arts college...     TV     24.0   \n",
       "7  As the younger brother of Japanese soccer star...     TV     52.0   \n",
       "8  Takumi Fujiwara finally joins Ryousuke and Kei...     TV     24.0   \n",
       "9  Dr. Kenzou Tenma, an elite neurosurgeon recent...     TV     74.0   \n",
       "\n",
       "                          Aired  ...           Studios    Source  \\\n",
       "0   Apr 3, 1998 to Apr 24, 1999  ...           Sunrise  Original   \n",
       "1                   Sep 1, 2001  ...             Bones  Original   \n",
       "2   Apr 1, 1998 to Sep 30, 1998  ...          Madhouse     Manga   \n",
       "3   Jul 3, 2002 to Dec 25, 2002  ...           Sunrise  Original   \n",
       "4  Sep 30, 2004 to Sep 29, 2005  ...    Toei Animation     Manga   \n",
       "5   Apr 6, 2005 to Mar 19, 2008  ...            Gallop     Manga   \n",
       "6  Apr 15, 2005 to Sep 27, 2005  ...         J.C.Staff     Manga   \n",
       "7  Sep 11, 2002 to Sep 10, 2003  ...  Nippon Animation     Manga   \n",
       "8  Apr 17, 2004 to Feb 18, 2006  ...          A.C.G.T.     Manga   \n",
       "9   Apr 7, 2004 to Sep 28, 2005  ...          Madhouse     Manga   \n",
       "\n",
       "        Duration                          Rating    Rank Popularity Favorites  \\\n",
       "0  24 min per ep  R - 17+ (violence & profanity)    41.0         43     78525   \n",
       "1    1 hr 55 min  R - 17+ (violence & profanity)   189.0        602      1448   \n",
       "2  24 min per ep       PG-13 - Teens 13 or older   328.0        246     15035   \n",
       "3  25 min per ep       PG-13 - Teens 13 or older  2764.0       1795       613   \n",
       "4  23 min per ep                   PG - Children  4240.0       5126        14   \n",
       "5  23 min per ep       PG-13 - Teens 13 or older   688.0       1252      1997   \n",
       "6  23 min per ep       PG-13 - Teens 13 or older   589.0        862      4136   \n",
       "7  23 min per ep       PG-13 - Teens 13 or older  1551.0       4212       237   \n",
       "8  27 min per ep       PG-13 - Teens 13 or older   393.0       1273      1237   \n",
       "9  24 min per ep                R+ - Mild Nudity    26.0        142     47235   \n",
       "\n",
       "  Scored By  Members                                          Image URL  \n",
       "0  914193.0  1771505  https://cdn.myanimelist.net/images/anime/4/196...  \n",
       "1  206248.0   360978  https://cdn.myanimelist.net/images/anime/1439/...  \n",
       "2  356739.0   727252  https://cdn.myanimelist.net/images/anime/7/203...  \n",
       "3   42829.0   111931  https://cdn.myanimelist.net/images/anime/10/19...  \n",
       "4    6413.0    15001  https://cdn.myanimelist.net/images/anime/7/215...  \n",
       "5   86524.0   177688  https://cdn.myanimelist.net/images/anime/1079/...  \n",
       "6   81747.0   260166  https://cdn.myanimelist.net/images/anime/1301/...  \n",
       "7   12960.0    24172  https://cdn.myanimelist.net/images/anime/12/49...  \n",
       "8   97878.0   173710  https://cdn.myanimelist.net/images/anime/9/105...  \n",
       "9  368569.0  1013100  https://cdn.myanimelist.net/images/anime/10/18...  \n",
       "\n",
       "[10 rows x 24 columns]"
      ]
     },
     "execution_count": 5,
     "metadata": {},
     "output_type": "execute_result"
    }
   ],
   "source": [
    "a_df.head(10)"
   ]
  },
  {
   "cell_type": "code",
   "execution_count": 6,
   "id": "ad44b26b-5e34-4d40-b1b4-42d3622d4682",
   "metadata": {},
   "outputs": [
    {
     "data": {
      "text/html": [
       "<div>\n",
       "<style scoped>\n",
       "    .dataframe tbody tr th:only-of-type {\n",
       "        vertical-align: middle;\n",
       "    }\n",
       "\n",
       "    .dataframe tbody tr th {\n",
       "        vertical-align: top;\n",
       "    }\n",
       "\n",
       "    .dataframe thead th {\n",
       "        text-align: right;\n",
       "    }\n",
       "</style>\n",
       "<table border=\"1\" class=\"dataframe\">\n",
       "  <thead>\n",
       "    <tr style=\"text-align: right;\">\n",
       "      <th></th>\n",
       "      <th>anime_id</th>\n",
       "      <th>Name</th>\n",
       "      <th>English name</th>\n",
       "      <th>Other name</th>\n",
       "      <th>Score</th>\n",
       "      <th>Genres</th>\n",
       "      <th>Synopsis</th>\n",
       "      <th>Type</th>\n",
       "      <th>Episodes</th>\n",
       "      <th>Aired</th>\n",
       "      <th>...</th>\n",
       "      <th>Studios</th>\n",
       "      <th>Source</th>\n",
       "      <th>Duration</th>\n",
       "      <th>Rating</th>\n",
       "      <th>Rank</th>\n",
       "      <th>Popularity</th>\n",
       "      <th>Favorites</th>\n",
       "      <th>Scored By</th>\n",
       "      <th>Members</th>\n",
       "      <th>Image URL</th>\n",
       "    </tr>\n",
       "  </thead>\n",
       "  <tbody>\n",
       "    <tr>\n",
       "      <th>24895</th>\n",
       "      <td>55726</td>\n",
       "      <td>Die, Please!</td>\n",
       "      <td>UNKNOWN</td>\n",
       "      <td>부탁이니 죽어주라</td>\n",
       "      <td>UNKNOWN</td>\n",
       "      <td>Fantasy, Romance</td>\n",
       "      <td>I just want to tell him how I feel!\\nMina has ...</td>\n",
       "      <td>ONA</td>\n",
       "      <td>UNKNOWN</td>\n",
       "      <td>May 31, 2023 to ?</td>\n",
       "      <td>...</td>\n",
       "      <td>UNKNOWN</td>\n",
       "      <td>Web manga</td>\n",
       "      <td>5 min</td>\n",
       "      <td>G - All Ages</td>\n",
       "      <td>0.0</td>\n",
       "      <td>0</td>\n",
       "      <td>0</td>\n",
       "      <td>UNKNOWN</td>\n",
       "      <td>0</td>\n",
       "      <td>https://cdn.myanimelist.net/images/anime/1621/...</td>\n",
       "    </tr>\n",
       "    <tr>\n",
       "      <th>24896</th>\n",
       "      <td>55727</td>\n",
       "      <td>Miru</td>\n",
       "      <td>UNKNOWN</td>\n",
       "      <td>未ル</td>\n",
       "      <td>UNKNOWN</td>\n",
       "      <td>Action</td>\n",
       "      <td>No description available for this anime.</td>\n",
       "      <td>UNKNOWN</td>\n",
       "      <td>UNKNOWN</td>\n",
       "      <td>2024 to ?</td>\n",
       "      <td>...</td>\n",
       "      <td>UNKNOWN</td>\n",
       "      <td>Original</td>\n",
       "      <td>Unknown</td>\n",
       "      <td>UNKNOWN</td>\n",
       "      <td>0.0</td>\n",
       "      <td>0</td>\n",
       "      <td>0</td>\n",
       "      <td>UNKNOWN</td>\n",
       "      <td>0</td>\n",
       "      <td>https://cdn.myanimelist.net/images/anime/1135/...</td>\n",
       "    </tr>\n",
       "    <tr>\n",
       "      <th>24897</th>\n",
       "      <td>55728</td>\n",
       "      <td>Wo Mengjian ni Mengjian wo</td>\n",
       "      <td>A Dream Where You Dreamt of Me</td>\n",
       "      <td>我夢見你夢見我</td>\n",
       "      <td>UNKNOWN</td>\n",
       "      <td>Drama</td>\n",
       "      <td>Music video for the song Wo Mengjian ni Mengji...</td>\n",
       "      <td>Music</td>\n",
       "      <td>1.0</td>\n",
       "      <td>Jun 22, 2017</td>\n",
       "      <td>...</td>\n",
       "      <td>UNKNOWN</td>\n",
       "      <td>Original</td>\n",
       "      <td>4 min</td>\n",
       "      <td>G - All Ages</td>\n",
       "      <td>0.0</td>\n",
       "      <td>0</td>\n",
       "      <td>0</td>\n",
       "      <td>UNKNOWN</td>\n",
       "      <td>0</td>\n",
       "      <td>https://cdn.myanimelist.net/images/anime/1171/...</td>\n",
       "    </tr>\n",
       "    <tr>\n",
       "      <th>24898</th>\n",
       "      <td>55729</td>\n",
       "      <td>Thailand</td>\n",
       "      <td>UNKNOWN</td>\n",
       "      <td>Thailand</td>\n",
       "      <td>UNKNOWN</td>\n",
       "      <td>Avant Garde</td>\n",
       "      <td>Music video for the song Thailand by Oh Shu.</td>\n",
       "      <td>Music</td>\n",
       "      <td>1.0</td>\n",
       "      <td>Jul 3, 2014</td>\n",
       "      <td>...</td>\n",
       "      <td>UNKNOWN</td>\n",
       "      <td>Original</td>\n",
       "      <td>4 min</td>\n",
       "      <td>PG-13 - Teens 13 or older</td>\n",
       "      <td>0.0</td>\n",
       "      <td>0</td>\n",
       "      <td>0</td>\n",
       "      <td>UNKNOWN</td>\n",
       "      <td>0</td>\n",
       "      <td>https://cdn.myanimelist.net/images/anime/1887/...</td>\n",
       "    </tr>\n",
       "    <tr>\n",
       "      <th>24899</th>\n",
       "      <td>55730</td>\n",
       "      <td>Energy</td>\n",
       "      <td>UNKNOWN</td>\n",
       "      <td>Energy</td>\n",
       "      <td>UNKNOWN</td>\n",
       "      <td>Avant Garde</td>\n",
       "      <td>Music video for the song Energy by SLEEQ (Kim ...</td>\n",
       "      <td>Music</td>\n",
       "      <td>1.0</td>\n",
       "      <td>Feb 11, 2015</td>\n",
       "      <td>...</td>\n",
       "      <td>UNKNOWN</td>\n",
       "      <td>Original</td>\n",
       "      <td>4 min</td>\n",
       "      <td>PG-13 - Teens 13 or older</td>\n",
       "      <td>0.0</td>\n",
       "      <td>0</td>\n",
       "      <td>0</td>\n",
       "      <td>UNKNOWN</td>\n",
       "      <td>0</td>\n",
       "      <td>https://cdn.myanimelist.net/images/anime/1817/...</td>\n",
       "    </tr>\n",
       "    <tr>\n",
       "      <th>24900</th>\n",
       "      <td>55731</td>\n",
       "      <td>Wu Nao Monu</td>\n",
       "      <td>UNKNOWN</td>\n",
       "      <td>无脑魔女</td>\n",
       "      <td>UNKNOWN</td>\n",
       "      <td>Comedy, Fantasy, Slice of Life</td>\n",
       "      <td>No description available for this anime.</td>\n",
       "      <td>ONA</td>\n",
       "      <td>15.0</td>\n",
       "      <td>Jul 4, 2023 to ?</td>\n",
       "      <td>...</td>\n",
       "      <td>UNKNOWN</td>\n",
       "      <td>Web manga</td>\n",
       "      <td>Unknown</td>\n",
       "      <td>PG-13 - Teens 13 or older</td>\n",
       "      <td>UNKNOWN</td>\n",
       "      <td>24723</td>\n",
       "      <td>0</td>\n",
       "      <td>UNKNOWN</td>\n",
       "      <td>0</td>\n",
       "      <td>https://cdn.myanimelist.net/images/anime/1386/...</td>\n",
       "    </tr>\n",
       "    <tr>\n",
       "      <th>24901</th>\n",
       "      <td>55732</td>\n",
       "      <td>Bu Xing Si: Yuan Qi</td>\n",
       "      <td>Blader Soul</td>\n",
       "      <td>捕星司·源起</td>\n",
       "      <td>UNKNOWN</td>\n",
       "      <td>Action, Adventure, Fantasy</td>\n",
       "      <td>No description available for this anime.</td>\n",
       "      <td>ONA</td>\n",
       "      <td>18.0</td>\n",
       "      <td>Jul 27, 2023 to ?</td>\n",
       "      <td>...</td>\n",
       "      <td>UNKNOWN</td>\n",
       "      <td>Web novel</td>\n",
       "      <td>Unknown</td>\n",
       "      <td>PG-13 - Teens 13 or older</td>\n",
       "      <td>0.0</td>\n",
       "      <td>0</td>\n",
       "      <td>0</td>\n",
       "      <td>UNKNOWN</td>\n",
       "      <td>0</td>\n",
       "      <td>https://cdn.myanimelist.net/images/anime/1383/...</td>\n",
       "    </tr>\n",
       "    <tr>\n",
       "      <th>24902</th>\n",
       "      <td>55733</td>\n",
       "      <td>Di Yi Xulie</td>\n",
       "      <td>The First Order</td>\n",
       "      <td>第一序列</td>\n",
       "      <td>UNKNOWN</td>\n",
       "      <td>Action, Adventure, Fantasy, Sci-Fi</td>\n",
       "      <td>No description available for this anime.</td>\n",
       "      <td>ONA</td>\n",
       "      <td>16.0</td>\n",
       "      <td>Jul 19, 2023 to ?</td>\n",
       "      <td>...</td>\n",
       "      <td>UNKNOWN</td>\n",
       "      <td>Web novel</td>\n",
       "      <td>Unknown</td>\n",
       "      <td>PG-13 - Teens 13 or older</td>\n",
       "      <td>0.0</td>\n",
       "      <td>0</td>\n",
       "      <td>0</td>\n",
       "      <td>UNKNOWN</td>\n",
       "      <td>0</td>\n",
       "      <td>https://cdn.myanimelist.net/images/anime/1130/...</td>\n",
       "    </tr>\n",
       "    <tr>\n",
       "      <th>24903</th>\n",
       "      <td>55734</td>\n",
       "      <td>Bokura no Saishuu Sensou</td>\n",
       "      <td>UNKNOWN</td>\n",
       "      <td>僕らの最終戦争</td>\n",
       "      <td>UNKNOWN</td>\n",
       "      <td>UNKNOWN</td>\n",
       "      <td>A music video for the song Bokura no Saishuu S...</td>\n",
       "      <td>Music</td>\n",
       "      <td>1.0</td>\n",
       "      <td>Apr 23, 2022</td>\n",
       "      <td>...</td>\n",
       "      <td>UNKNOWN</td>\n",
       "      <td>Original</td>\n",
       "      <td>3 min</td>\n",
       "      <td>PG-13 - Teens 13 or older</td>\n",
       "      <td>0.0</td>\n",
       "      <td>0</td>\n",
       "      <td>0</td>\n",
       "      <td>UNKNOWN</td>\n",
       "      <td>0</td>\n",
       "      <td>https://cdn.myanimelist.net/images/anime/1931/...</td>\n",
       "    </tr>\n",
       "    <tr>\n",
       "      <th>24904</th>\n",
       "      <td>55735</td>\n",
       "      <td>Shijuuku Nichi</td>\n",
       "      <td>UNKNOWN</td>\n",
       "      <td>四十九日</td>\n",
       "      <td>UNKNOWN</td>\n",
       "      <td>UNKNOWN</td>\n",
       "      <td>A music video for the song Shijuuku Nichi by S...</td>\n",
       "      <td>Music</td>\n",
       "      <td>1.0</td>\n",
       "      <td>Sep 5, 2022</td>\n",
       "      <td>...</td>\n",
       "      <td>UNKNOWN</td>\n",
       "      <td>Original</td>\n",
       "      <td>3 min</td>\n",
       "      <td>PG-13 - Teens 13 or older</td>\n",
       "      <td>0.0</td>\n",
       "      <td>0</td>\n",
       "      <td>0</td>\n",
       "      <td>UNKNOWN</td>\n",
       "      <td>0</td>\n",
       "      <td>https://cdn.myanimelist.net/images/anime/1902/...</td>\n",
       "    </tr>\n",
       "  </tbody>\n",
       "</table>\n",
       "<p>10 rows × 24 columns</p>\n",
       "</div>"
      ],
      "text/plain": [
       "       anime_id                        Name                    English name  \\\n",
       "24895     55726                Die, Please!                         UNKNOWN   \n",
       "24896     55727                        Miru                         UNKNOWN   \n",
       "24897     55728  Wo Mengjian ni Mengjian wo  A Dream Where You Dreamt of Me   \n",
       "24898     55729                    Thailand                         UNKNOWN   \n",
       "24899     55730                      Energy                         UNKNOWN   \n",
       "24900     55731                 Wu Nao Monu                         UNKNOWN   \n",
       "24901     55732         Bu Xing Si: Yuan Qi                     Blader Soul   \n",
       "24902     55733                 Di Yi Xulie                 The First Order   \n",
       "24903     55734    Bokura no Saishuu Sensou                         UNKNOWN   \n",
       "24904     55735              Shijuuku Nichi                         UNKNOWN   \n",
       "\n",
       "      Other name    Score                              Genres  \\\n",
       "24895  부탁이니 죽어주라  UNKNOWN                    Fantasy, Romance   \n",
       "24896         未ル  UNKNOWN                              Action   \n",
       "24897    我夢見你夢見我  UNKNOWN                               Drama   \n",
       "24898   Thailand  UNKNOWN                         Avant Garde   \n",
       "24899     Energy  UNKNOWN                         Avant Garde   \n",
       "24900       无脑魔女  UNKNOWN      Comedy, Fantasy, Slice of Life   \n",
       "24901     捕星司·源起  UNKNOWN          Action, Adventure, Fantasy   \n",
       "24902       第一序列  UNKNOWN  Action, Adventure, Fantasy, Sci-Fi   \n",
       "24903    僕らの最終戦争  UNKNOWN                             UNKNOWN   \n",
       "24904       四十九日  UNKNOWN                             UNKNOWN   \n",
       "\n",
       "                                                Synopsis     Type Episodes  \\\n",
       "24895  I just want to tell him how I feel!\\nMina has ...      ONA  UNKNOWN   \n",
       "24896           No description available for this anime.  UNKNOWN  UNKNOWN   \n",
       "24897  Music video for the song Wo Mengjian ni Mengji...    Music      1.0   \n",
       "24898       Music video for the song Thailand by Oh Shu.    Music      1.0   \n",
       "24899  Music video for the song Energy by SLEEQ (Kim ...    Music      1.0   \n",
       "24900           No description available for this anime.      ONA     15.0   \n",
       "24901           No description available for this anime.      ONA     18.0   \n",
       "24902           No description available for this anime.      ONA     16.0   \n",
       "24903  A music video for the song Bokura no Saishuu S...    Music      1.0   \n",
       "24904  A music video for the song Shijuuku Nichi by S...    Music      1.0   \n",
       "\n",
       "                   Aired  ...  Studios     Source Duration  \\\n",
       "24895  May 31, 2023 to ?  ...  UNKNOWN  Web manga    5 min   \n",
       "24896          2024 to ?  ...  UNKNOWN   Original  Unknown   \n",
       "24897       Jun 22, 2017  ...  UNKNOWN   Original    4 min   \n",
       "24898        Jul 3, 2014  ...  UNKNOWN   Original    4 min   \n",
       "24899       Feb 11, 2015  ...  UNKNOWN   Original    4 min   \n",
       "24900   Jul 4, 2023 to ?  ...  UNKNOWN  Web manga  Unknown   \n",
       "24901  Jul 27, 2023 to ?  ...  UNKNOWN  Web novel  Unknown   \n",
       "24902  Jul 19, 2023 to ?  ...  UNKNOWN  Web novel  Unknown   \n",
       "24903       Apr 23, 2022  ...  UNKNOWN   Original    3 min   \n",
       "24904        Sep 5, 2022  ...  UNKNOWN   Original    3 min   \n",
       "\n",
       "                          Rating     Rank Popularity Favorites Scored By  \\\n",
       "24895               G - All Ages      0.0          0         0   UNKNOWN   \n",
       "24896                    UNKNOWN      0.0          0         0   UNKNOWN   \n",
       "24897               G - All Ages      0.0          0         0   UNKNOWN   \n",
       "24898  PG-13 - Teens 13 or older      0.0          0         0   UNKNOWN   \n",
       "24899  PG-13 - Teens 13 or older      0.0          0         0   UNKNOWN   \n",
       "24900  PG-13 - Teens 13 or older  UNKNOWN      24723         0   UNKNOWN   \n",
       "24901  PG-13 - Teens 13 or older      0.0          0         0   UNKNOWN   \n",
       "24902  PG-13 - Teens 13 or older      0.0          0         0   UNKNOWN   \n",
       "24903  PG-13 - Teens 13 or older      0.0          0         0   UNKNOWN   \n",
       "24904  PG-13 - Teens 13 or older      0.0          0         0   UNKNOWN   \n",
       "\n",
       "      Members                                          Image URL  \n",
       "24895       0  https://cdn.myanimelist.net/images/anime/1621/...  \n",
       "24896       0  https://cdn.myanimelist.net/images/anime/1135/...  \n",
       "24897       0  https://cdn.myanimelist.net/images/anime/1171/...  \n",
       "24898       0  https://cdn.myanimelist.net/images/anime/1887/...  \n",
       "24899       0  https://cdn.myanimelist.net/images/anime/1817/...  \n",
       "24900       0  https://cdn.myanimelist.net/images/anime/1386/...  \n",
       "24901       0  https://cdn.myanimelist.net/images/anime/1383/...  \n",
       "24902       0  https://cdn.myanimelist.net/images/anime/1130/...  \n",
       "24903       0  https://cdn.myanimelist.net/images/anime/1931/...  \n",
       "24904       0  https://cdn.myanimelist.net/images/anime/1902/...  \n",
       "\n",
       "[10 rows x 24 columns]"
      ]
     },
     "execution_count": 6,
     "metadata": {},
     "output_type": "execute_result"
    }
   ],
   "source": [
    "a_df.tail(10)"
   ]
  },
  {
   "cell_type": "code",
   "execution_count": 7,
   "id": "8f8ce4ea-ac7e-4152-91e6-c81dc17d4a7d",
   "metadata": {},
   "outputs": [
    {
     "data": {
      "text/plain": [
       "(24905, 24)"
      ]
     },
     "execution_count": 7,
     "metadata": {},
     "output_type": "execute_result"
    }
   ],
   "source": [
    "a_df.shape"
   ]
  },
  {
   "cell_type": "markdown",
   "id": "1fb67262-d877-4385-8823-8ed740be86aa",
   "metadata": {},
   "source": [
    "The dataset consists of 24905 rows and 24 columns."
   ]
  },
  {
   "cell_type": "code",
   "execution_count": 9,
   "id": "2e213264-b827-4042-9beb-52b230b7d64c",
   "metadata": {},
   "outputs": [],
   "source": [
    "ud_df = pd.read_csv('users-details-2023.csv')"
   ]
  },
  {
   "cell_type": "markdown",
   "id": "cf1c3b8a-88d4-4373-9647-3897a646e960",
   "metadata": {},
   "source": [
    "Loaded the users details dataset and displaying top 10 rows and bottom 10 rows of this dataset"
   ]
  },
  {
   "cell_type": "code",
   "execution_count": 10,
   "id": "847b5ee4-55ec-4904-9e4a-7b82d519c9c5",
   "metadata": {},
   "outputs": [
    {
     "data": {
      "text/html": [
       "<div>\n",
       "<style scoped>\n",
       "    .dataframe tbody tr th:only-of-type {\n",
       "        vertical-align: middle;\n",
       "    }\n",
       "\n",
       "    .dataframe tbody tr th {\n",
       "        vertical-align: top;\n",
       "    }\n",
       "\n",
       "    .dataframe thead th {\n",
       "        text-align: right;\n",
       "    }\n",
       "</style>\n",
       "<table border=\"1\" class=\"dataframe\">\n",
       "  <thead>\n",
       "    <tr style=\"text-align: right;\">\n",
       "      <th></th>\n",
       "      <th>Mal ID</th>\n",
       "      <th>Username</th>\n",
       "      <th>Gender</th>\n",
       "      <th>Birthday</th>\n",
       "      <th>Location</th>\n",
       "      <th>Joined</th>\n",
       "      <th>Days Watched</th>\n",
       "      <th>Mean Score</th>\n",
       "      <th>Watching</th>\n",
       "      <th>Completed</th>\n",
       "      <th>On Hold</th>\n",
       "      <th>Dropped</th>\n",
       "      <th>Plan to Watch</th>\n",
       "      <th>Total Entries</th>\n",
       "      <th>Rewatched</th>\n",
       "      <th>Episodes Watched</th>\n",
       "    </tr>\n",
       "  </thead>\n",
       "  <tbody>\n",
       "    <tr>\n",
       "      <th>0</th>\n",
       "      <td>1</td>\n",
       "      <td>Xinil</td>\n",
       "      <td>Male</td>\n",
       "      <td>1985-03-04T00:00:00+00:00</td>\n",
       "      <td>California</td>\n",
       "      <td>2004-11-05T00:00:00+00:00</td>\n",
       "      <td>142.3</td>\n",
       "      <td>7.37</td>\n",
       "      <td>1.0</td>\n",
       "      <td>233.0</td>\n",
       "      <td>8.0</td>\n",
       "      <td>93.0</td>\n",
       "      <td>64.0</td>\n",
       "      <td>399.0</td>\n",
       "      <td>60.0</td>\n",
       "      <td>8458.0</td>\n",
       "    </tr>\n",
       "    <tr>\n",
       "      <th>1</th>\n",
       "      <td>3</td>\n",
       "      <td>Aokaado</td>\n",
       "      <td>Male</td>\n",
       "      <td>NaN</td>\n",
       "      <td>Oslo, Norway</td>\n",
       "      <td>2004-11-11T00:00:00+00:00</td>\n",
       "      <td>68.6</td>\n",
       "      <td>7.34</td>\n",
       "      <td>23.0</td>\n",
       "      <td>137.0</td>\n",
       "      <td>99.0</td>\n",
       "      <td>44.0</td>\n",
       "      <td>40.0</td>\n",
       "      <td>343.0</td>\n",
       "      <td>15.0</td>\n",
       "      <td>4072.0</td>\n",
       "    </tr>\n",
       "    <tr>\n",
       "      <th>2</th>\n",
       "      <td>4</td>\n",
       "      <td>Crystal</td>\n",
       "      <td>Female</td>\n",
       "      <td>NaN</td>\n",
       "      <td>Melbourne, Australia</td>\n",
       "      <td>2004-11-13T00:00:00+00:00</td>\n",
       "      <td>212.8</td>\n",
       "      <td>6.68</td>\n",
       "      <td>16.0</td>\n",
       "      <td>636.0</td>\n",
       "      <td>303.0</td>\n",
       "      <td>0.0</td>\n",
       "      <td>45.0</td>\n",
       "      <td>1000.0</td>\n",
       "      <td>10.0</td>\n",
       "      <td>12781.0</td>\n",
       "    </tr>\n",
       "    <tr>\n",
       "      <th>3</th>\n",
       "      <td>9</td>\n",
       "      <td>Arcane</td>\n",
       "      <td>NaN</td>\n",
       "      <td>NaN</td>\n",
       "      <td>NaN</td>\n",
       "      <td>2004-12-05T00:00:00+00:00</td>\n",
       "      <td>30.0</td>\n",
       "      <td>7.71</td>\n",
       "      <td>5.0</td>\n",
       "      <td>54.0</td>\n",
       "      <td>4.0</td>\n",
       "      <td>3.0</td>\n",
       "      <td>0.0</td>\n",
       "      <td>66.0</td>\n",
       "      <td>0.0</td>\n",
       "      <td>1817.0</td>\n",
       "    </tr>\n",
       "    <tr>\n",
       "      <th>4</th>\n",
       "      <td>18</td>\n",
       "      <td>Mad</td>\n",
       "      <td>NaN</td>\n",
       "      <td>NaN</td>\n",
       "      <td>NaN</td>\n",
       "      <td>2005-01-03T00:00:00+00:00</td>\n",
       "      <td>52.0</td>\n",
       "      <td>6.27</td>\n",
       "      <td>1.0</td>\n",
       "      <td>114.0</td>\n",
       "      <td>10.0</td>\n",
       "      <td>5.0</td>\n",
       "      <td>23.0</td>\n",
       "      <td>153.0</td>\n",
       "      <td>42.0</td>\n",
       "      <td>3038.0</td>\n",
       "    </tr>\n",
       "    <tr>\n",
       "      <th>5</th>\n",
       "      <td>20</td>\n",
       "      <td>vondur</td>\n",
       "      <td>Male</td>\n",
       "      <td>1988-01-25T00:00:00+00:00</td>\n",
       "      <td>Bergen, Norway</td>\n",
       "      <td>2005-01-05T00:00:00+00:00</td>\n",
       "      <td>73.1</td>\n",
       "      <td>8.06</td>\n",
       "      <td>11.0</td>\n",
       "      <td>94.0</td>\n",
       "      <td>11.0</td>\n",
       "      <td>2.0</td>\n",
       "      <td>20.0</td>\n",
       "      <td>138.0</td>\n",
       "      <td>7.0</td>\n",
       "      <td>4374.0</td>\n",
       "    </tr>\n",
       "    <tr>\n",
       "      <th>6</th>\n",
       "      <td>23</td>\n",
       "      <td>Amuro</td>\n",
       "      <td>NaN</td>\n",
       "      <td>1988-02-22T00:00:00+00:00</td>\n",
       "      <td>Canada</td>\n",
       "      <td>2005-01-23T00:00:00+00:00</td>\n",
       "      <td>142.5</td>\n",
       "      <td>7.41</td>\n",
       "      <td>20.0</td>\n",
       "      <td>298.0</td>\n",
       "      <td>5.0</td>\n",
       "      <td>19.0</td>\n",
       "      <td>50.0</td>\n",
       "      <td>392.0</td>\n",
       "      <td>0.0</td>\n",
       "      <td>8565.0</td>\n",
       "    </tr>\n",
       "    <tr>\n",
       "      <th>7</th>\n",
       "      <td>36</td>\n",
       "      <td>Baman</td>\n",
       "      <td>Male</td>\n",
       "      <td>NaN</td>\n",
       "      <td>Land of Rain and Fjords</td>\n",
       "      <td>2005-02-05T00:00:00+00:00</td>\n",
       "      <td>272.1</td>\n",
       "      <td>5.90</td>\n",
       "      <td>27.0</td>\n",
       "      <td>1144.0</td>\n",
       "      <td>11.0</td>\n",
       "      <td>55.0</td>\n",
       "      <td>338.0</td>\n",
       "      <td>1575.0</td>\n",
       "      <td>36.0</td>\n",
       "      <td>16309.0</td>\n",
       "    </tr>\n",
       "    <tr>\n",
       "      <th>8</th>\n",
       "      <td>44</td>\n",
       "      <td>beddan</td>\n",
       "      <td>Male</td>\n",
       "      <td>NaN</td>\n",
       "      <td>NaN</td>\n",
       "      <td>2005-02-21T00:00:00+00:00</td>\n",
       "      <td>18.6</td>\n",
       "      <td>7.60</td>\n",
       "      <td>0.0</td>\n",
       "      <td>37.0</td>\n",
       "      <td>0.0</td>\n",
       "      <td>0.0</td>\n",
       "      <td>0.0</td>\n",
       "      <td>37.0</td>\n",
       "      <td>0.0</td>\n",
       "      <td>1083.0</td>\n",
       "    </tr>\n",
       "    <tr>\n",
       "      <th>9</th>\n",
       "      <td>47</td>\n",
       "      <td>kei-clone</td>\n",
       "      <td>Male</td>\n",
       "      <td>NaN</td>\n",
       "      <td>31f288172a11dea9f2781a6d87e0a200</td>\n",
       "      <td>2005-03-09T00:00:00+00:00</td>\n",
       "      <td>34.5</td>\n",
       "      <td>6.84</td>\n",
       "      <td>15.0</td>\n",
       "      <td>104.0</td>\n",
       "      <td>22.0</td>\n",
       "      <td>3.0</td>\n",
       "      <td>19.0</td>\n",
       "      <td>163.0</td>\n",
       "      <td>1.0</td>\n",
       "      <td>2054.0</td>\n",
       "    </tr>\n",
       "  </tbody>\n",
       "</table>\n",
       "</div>"
      ],
      "text/plain": [
       "   Mal ID   Username  Gender                   Birthday  \\\n",
       "0       1      Xinil    Male  1985-03-04T00:00:00+00:00   \n",
       "1       3    Aokaado    Male                        NaN   \n",
       "2       4    Crystal  Female                        NaN   \n",
       "3       9     Arcane     NaN                        NaN   \n",
       "4      18        Mad     NaN                        NaN   \n",
       "5      20     vondur    Male  1988-01-25T00:00:00+00:00   \n",
       "6      23      Amuro     NaN  1988-02-22T00:00:00+00:00   \n",
       "7      36      Baman    Male                        NaN   \n",
       "8      44     beddan    Male                        NaN   \n",
       "9      47  kei-clone    Male                        NaN   \n",
       "\n",
       "                           Location                     Joined  Days Watched  \\\n",
       "0                        California  2004-11-05T00:00:00+00:00         142.3   \n",
       "1                      Oslo, Norway  2004-11-11T00:00:00+00:00          68.6   \n",
       "2              Melbourne, Australia  2004-11-13T00:00:00+00:00         212.8   \n",
       "3                               NaN  2004-12-05T00:00:00+00:00          30.0   \n",
       "4                               NaN  2005-01-03T00:00:00+00:00          52.0   \n",
       "5                    Bergen, Norway  2005-01-05T00:00:00+00:00          73.1   \n",
       "6                            Canada  2005-01-23T00:00:00+00:00         142.5   \n",
       "7           Land of Rain and Fjords  2005-02-05T00:00:00+00:00         272.1   \n",
       "8                               NaN  2005-02-21T00:00:00+00:00          18.6   \n",
       "9  31f288172a11dea9f2781a6d87e0a200  2005-03-09T00:00:00+00:00          34.5   \n",
       "\n",
       "   Mean Score  Watching  Completed  On Hold  Dropped  Plan to Watch  \\\n",
       "0        7.37       1.0      233.0      8.0     93.0           64.0   \n",
       "1        7.34      23.0      137.0     99.0     44.0           40.0   \n",
       "2        6.68      16.0      636.0    303.0      0.0           45.0   \n",
       "3        7.71       5.0       54.0      4.0      3.0            0.0   \n",
       "4        6.27       1.0      114.0     10.0      5.0           23.0   \n",
       "5        8.06      11.0       94.0     11.0      2.0           20.0   \n",
       "6        7.41      20.0      298.0      5.0     19.0           50.0   \n",
       "7        5.90      27.0     1144.0     11.0     55.0          338.0   \n",
       "8        7.60       0.0       37.0      0.0      0.0            0.0   \n",
       "9        6.84      15.0      104.0     22.0      3.0           19.0   \n",
       "\n",
       "   Total Entries  Rewatched  Episodes Watched  \n",
       "0          399.0       60.0            8458.0  \n",
       "1          343.0       15.0            4072.0  \n",
       "2         1000.0       10.0           12781.0  \n",
       "3           66.0        0.0            1817.0  \n",
       "4          153.0       42.0            3038.0  \n",
       "5          138.0        7.0            4374.0  \n",
       "6          392.0        0.0            8565.0  \n",
       "7         1575.0       36.0           16309.0  \n",
       "8           37.0        0.0            1083.0  \n",
       "9          163.0        1.0            2054.0  "
      ]
     },
     "execution_count": 10,
     "metadata": {},
     "output_type": "execute_result"
    }
   ],
   "source": [
    "ud_df.head(10)"
   ]
  },
  {
   "cell_type": "code",
   "execution_count": 11,
   "id": "c6afd100-1ae5-43b2-a1df-5b6fd9754645",
   "metadata": {},
   "outputs": [
    {
     "data": {
      "text/html": [
       "<div>\n",
       "<style scoped>\n",
       "    .dataframe tbody tr th:only-of-type {\n",
       "        vertical-align: middle;\n",
       "    }\n",
       "\n",
       "    .dataframe tbody tr th {\n",
       "        vertical-align: top;\n",
       "    }\n",
       "\n",
       "    .dataframe thead th {\n",
       "        text-align: right;\n",
       "    }\n",
       "</style>\n",
       "<table border=\"1\" class=\"dataframe\">\n",
       "  <thead>\n",
       "    <tr style=\"text-align: right;\">\n",
       "      <th></th>\n",
       "      <th>Mal ID</th>\n",
       "      <th>Username</th>\n",
       "      <th>Gender</th>\n",
       "      <th>Birthday</th>\n",
       "      <th>Location</th>\n",
       "      <th>Joined</th>\n",
       "      <th>Days Watched</th>\n",
       "      <th>Mean Score</th>\n",
       "      <th>Watching</th>\n",
       "      <th>Completed</th>\n",
       "      <th>On Hold</th>\n",
       "      <th>Dropped</th>\n",
       "      <th>Plan to Watch</th>\n",
       "      <th>Total Entries</th>\n",
       "      <th>Rewatched</th>\n",
       "      <th>Episodes Watched</th>\n",
       "    </tr>\n",
       "  </thead>\n",
       "  <tbody>\n",
       "    <tr>\n",
       "      <th>731280</th>\n",
       "      <td>1291057</td>\n",
       "      <td>imjustjk</td>\n",
       "      <td>Male</td>\n",
       "      <td>1997-12-24T00:00:00+00:00</td>\n",
       "      <td>Newport Coast, California</td>\n",
       "      <td>2012-05-06T00:00:00+00:00</td>\n",
       "      <td>101.9</td>\n",
       "      <td>7.00</td>\n",
       "      <td>3.0</td>\n",
       "      <td>181.0</td>\n",
       "      <td>5.0</td>\n",
       "      <td>19.0</td>\n",
       "      <td>34.0</td>\n",
       "      <td>242.0</td>\n",
       "      <td>19.0</td>\n",
       "      <td>7015.0</td>\n",
       "    </tr>\n",
       "    <tr>\n",
       "      <th>731281</th>\n",
       "      <td>1291063</td>\n",
       "      <td>Leastu</td>\n",
       "      <td>NaN</td>\n",
       "      <td>NaN</td>\n",
       "      <td>NaN</td>\n",
       "      <td>2012-05-06T00:00:00+00:00</td>\n",
       "      <td>0.0</td>\n",
       "      <td>0.00</td>\n",
       "      <td>0.0</td>\n",
       "      <td>0.0</td>\n",
       "      <td>0.0</td>\n",
       "      <td>0.0</td>\n",
       "      <td>0.0</td>\n",
       "      <td>0.0</td>\n",
       "      <td>0.0</td>\n",
       "      <td>0.0</td>\n",
       "    </tr>\n",
       "    <tr>\n",
       "      <th>731282</th>\n",
       "      <td>1291065</td>\n",
       "      <td>stasia-writer</td>\n",
       "      <td>NaN</td>\n",
       "      <td>NaN</td>\n",
       "      <td>NaN</td>\n",
       "      <td>2012-05-06T00:00:00+00:00</td>\n",
       "      <td>0.0</td>\n",
       "      <td>0.00</td>\n",
       "      <td>0.0</td>\n",
       "      <td>0.0</td>\n",
       "      <td>0.0</td>\n",
       "      <td>0.0</td>\n",
       "      <td>0.0</td>\n",
       "      <td>0.0</td>\n",
       "      <td>0.0</td>\n",
       "      <td>0.0</td>\n",
       "    </tr>\n",
       "    <tr>\n",
       "      <th>731283</th>\n",
       "      <td>1291071</td>\n",
       "      <td>Fiswoul</td>\n",
       "      <td>NaN</td>\n",
       "      <td>NaN</td>\n",
       "      <td>NaN</td>\n",
       "      <td>2012-05-06T00:00:00+00:00</td>\n",
       "      <td>0.0</td>\n",
       "      <td>0.00</td>\n",
       "      <td>0.0</td>\n",
       "      <td>0.0</td>\n",
       "      <td>0.0</td>\n",
       "      <td>0.0</td>\n",
       "      <td>0.0</td>\n",
       "      <td>0.0</td>\n",
       "      <td>0.0</td>\n",
       "      <td>0.0</td>\n",
       "    </tr>\n",
       "    <tr>\n",
       "      <th>731284</th>\n",
       "      <td>1291079</td>\n",
       "      <td>Dybido</td>\n",
       "      <td>Male</td>\n",
       "      <td>NaN</td>\n",
       "      <td>NaN</td>\n",
       "      <td>2012-05-06T00:00:00+00:00</td>\n",
       "      <td>41.0</td>\n",
       "      <td>8.48</td>\n",
       "      <td>2.0</td>\n",
       "      <td>88.0</td>\n",
       "      <td>7.0</td>\n",
       "      <td>5.0</td>\n",
       "      <td>33.0</td>\n",
       "      <td>135.0</td>\n",
       "      <td>0.0</td>\n",
       "      <td>3317.0</td>\n",
       "    </tr>\n",
       "    <tr>\n",
       "      <th>731285</th>\n",
       "      <td>1291083</td>\n",
       "      <td>Dolopa</td>\n",
       "      <td>NaN</td>\n",
       "      <td>NaN</td>\n",
       "      <td>NaN</td>\n",
       "      <td>2012-05-06T00:00:00+00:00</td>\n",
       "      <td>0.0</td>\n",
       "      <td>0.00</td>\n",
       "      <td>0.0</td>\n",
       "      <td>0.0</td>\n",
       "      <td>0.0</td>\n",
       "      <td>0.0</td>\n",
       "      <td>0.0</td>\n",
       "      <td>0.0</td>\n",
       "      <td>0.0</td>\n",
       "      <td>0.0</td>\n",
       "    </tr>\n",
       "    <tr>\n",
       "      <th>731286</th>\n",
       "      <td>1291085</td>\n",
       "      <td>alenrobnik</td>\n",
       "      <td>NaN</td>\n",
       "      <td>NaN</td>\n",
       "      <td>NaN</td>\n",
       "      <td>2012-05-06T00:00:00+00:00</td>\n",
       "      <td>21.4</td>\n",
       "      <td>8.22</td>\n",
       "      <td>16.0</td>\n",
       "      <td>58.0</td>\n",
       "      <td>9.0</td>\n",
       "      <td>1.0</td>\n",
       "      <td>42.0</td>\n",
       "      <td>126.0</td>\n",
       "      <td>0.0</td>\n",
       "      <td>1239.0</td>\n",
       "    </tr>\n",
       "    <tr>\n",
       "      <th>731287</th>\n",
       "      <td>1291087</td>\n",
       "      <td>Oblongata</td>\n",
       "      <td>NaN</td>\n",
       "      <td>1993-01-30T00:00:00+00:00</td>\n",
       "      <td>NaN</td>\n",
       "      <td>2012-05-06T00:00:00+00:00</td>\n",
       "      <td>51.3</td>\n",
       "      <td>7.53</td>\n",
       "      <td>38.0</td>\n",
       "      <td>175.0</td>\n",
       "      <td>0.0</td>\n",
       "      <td>9.0</td>\n",
       "      <td>211.0</td>\n",
       "      <td>433.0</td>\n",
       "      <td>2.0</td>\n",
       "      <td>3010.0</td>\n",
       "    </tr>\n",
       "    <tr>\n",
       "      <th>731288</th>\n",
       "      <td>1291091</td>\n",
       "      <td>Etnota</td>\n",
       "      <td>NaN</td>\n",
       "      <td>NaN</td>\n",
       "      <td>NaN</td>\n",
       "      <td>2012-05-06T00:00:00+00:00</td>\n",
       "      <td>0.0</td>\n",
       "      <td>0.00</td>\n",
       "      <td>0.0</td>\n",
       "      <td>0.0</td>\n",
       "      <td>0.0</td>\n",
       "      <td>0.0</td>\n",
       "      <td>0.0</td>\n",
       "      <td>0.0</td>\n",
       "      <td>0.0</td>\n",
       "      <td>0.0</td>\n",
       "    </tr>\n",
       "    <tr>\n",
       "      <th>731289</th>\n",
       "      <td>1291097</td>\n",
       "      <td>JuunanaSai</td>\n",
       "      <td>Female</td>\n",
       "      <td>NaN</td>\n",
       "      <td>NaN</td>\n",
       "      <td>2012-05-06T00:00:00+00:00</td>\n",
       "      <td>3.7</td>\n",
       "      <td>9.67</td>\n",
       "      <td>1.0</td>\n",
       "      <td>11.0</td>\n",
       "      <td>0.0</td>\n",
       "      <td>0.0</td>\n",
       "      <td>2.0</td>\n",
       "      <td>14.0</td>\n",
       "      <td>0.0</td>\n",
       "      <td>222.0</td>\n",
       "    </tr>\n",
       "  </tbody>\n",
       "</table>\n",
       "</div>"
      ],
      "text/plain": [
       "         Mal ID       Username  Gender                   Birthday  \\\n",
       "731280  1291057       imjustjk    Male  1997-12-24T00:00:00+00:00   \n",
       "731281  1291063         Leastu     NaN                        NaN   \n",
       "731282  1291065  stasia-writer     NaN                        NaN   \n",
       "731283  1291071        Fiswoul     NaN                        NaN   \n",
       "731284  1291079         Dybido    Male                        NaN   \n",
       "731285  1291083         Dolopa     NaN                        NaN   \n",
       "731286  1291085     alenrobnik     NaN                        NaN   \n",
       "731287  1291087      Oblongata     NaN  1993-01-30T00:00:00+00:00   \n",
       "731288  1291091         Etnota     NaN                        NaN   \n",
       "731289  1291097     JuunanaSai  Female                        NaN   \n",
       "\n",
       "                         Location                     Joined  Days Watched  \\\n",
       "731280  Newport Coast, California  2012-05-06T00:00:00+00:00         101.9   \n",
       "731281                        NaN  2012-05-06T00:00:00+00:00           0.0   \n",
       "731282                        NaN  2012-05-06T00:00:00+00:00           0.0   \n",
       "731283                        NaN  2012-05-06T00:00:00+00:00           0.0   \n",
       "731284                        NaN  2012-05-06T00:00:00+00:00          41.0   \n",
       "731285                        NaN  2012-05-06T00:00:00+00:00           0.0   \n",
       "731286                        NaN  2012-05-06T00:00:00+00:00          21.4   \n",
       "731287                        NaN  2012-05-06T00:00:00+00:00          51.3   \n",
       "731288                        NaN  2012-05-06T00:00:00+00:00           0.0   \n",
       "731289                        NaN  2012-05-06T00:00:00+00:00           3.7   \n",
       "\n",
       "        Mean Score  Watching  Completed  On Hold  Dropped  Plan to Watch  \\\n",
       "731280        7.00       3.0      181.0      5.0     19.0           34.0   \n",
       "731281        0.00       0.0        0.0      0.0      0.0            0.0   \n",
       "731282        0.00       0.0        0.0      0.0      0.0            0.0   \n",
       "731283        0.00       0.0        0.0      0.0      0.0            0.0   \n",
       "731284        8.48       2.0       88.0      7.0      5.0           33.0   \n",
       "731285        0.00       0.0        0.0      0.0      0.0            0.0   \n",
       "731286        8.22      16.0       58.0      9.0      1.0           42.0   \n",
       "731287        7.53      38.0      175.0      0.0      9.0          211.0   \n",
       "731288        0.00       0.0        0.0      0.0      0.0            0.0   \n",
       "731289        9.67       1.0       11.0      0.0      0.0            2.0   \n",
       "\n",
       "        Total Entries  Rewatched  Episodes Watched  \n",
       "731280          242.0       19.0            7015.0  \n",
       "731281            0.0        0.0               0.0  \n",
       "731282            0.0        0.0               0.0  \n",
       "731283            0.0        0.0               0.0  \n",
       "731284          135.0        0.0            3317.0  \n",
       "731285            0.0        0.0               0.0  \n",
       "731286          126.0        0.0            1239.0  \n",
       "731287          433.0        2.0            3010.0  \n",
       "731288            0.0        0.0               0.0  \n",
       "731289           14.0        0.0             222.0  "
      ]
     },
     "execution_count": 11,
     "metadata": {},
     "output_type": "execute_result"
    }
   ],
   "source": [
    "ud_df.tail(10)"
   ]
  },
  {
   "cell_type": "code",
   "execution_count": 12,
   "id": "bd383da8-2a30-44d7-b580-49e835b6e9fa",
   "metadata": {},
   "outputs": [
    {
     "data": {
      "text/plain": [
       "(731290, 16)"
      ]
     },
     "execution_count": 12,
     "metadata": {},
     "output_type": "execute_result"
    }
   ],
   "source": [
    "ud_df.shape"
   ]
  },
  {
   "cell_type": "markdown",
   "id": "de7d007f-dfd1-4651-8892-6b28d7b8dd92",
   "metadata": {},
   "source": [
    "This user details consists of 731290 rows and 16 columns."
   ]
  },
  {
   "cell_type": "code",
   "execution_count": 14,
   "id": "14b4f5cb-cb7c-4eb4-b6ae-9a583e7c38df",
   "metadata": {},
   "outputs": [],
   "source": [
    "us_df = pd.read_csv('users-score-2023.csv')"
   ]
  },
  {
   "cell_type": "markdown",
   "id": "26d0f11b-6025-4b70-93ce-ae738947ea69",
   "metadata": {},
   "source": [
    "Loaded the user scores dataset and displaying top 10 rows and bottom 10 rows of this dataset"
   ]
  },
  {
   "cell_type": "code",
   "execution_count": 15,
   "id": "2eae2663-3d8e-40b0-9925-a57dcd79242a",
   "metadata": {},
   "outputs": [
    {
     "data": {
      "text/html": [
       "<div>\n",
       "<style scoped>\n",
       "    .dataframe tbody tr th:only-of-type {\n",
       "        vertical-align: middle;\n",
       "    }\n",
       "\n",
       "    .dataframe tbody tr th {\n",
       "        vertical-align: top;\n",
       "    }\n",
       "\n",
       "    .dataframe thead th {\n",
       "        text-align: right;\n",
       "    }\n",
       "</style>\n",
       "<table border=\"1\" class=\"dataframe\">\n",
       "  <thead>\n",
       "    <tr style=\"text-align: right;\">\n",
       "      <th></th>\n",
       "      <th>user_id</th>\n",
       "      <th>Username</th>\n",
       "      <th>anime_id</th>\n",
       "      <th>Anime Title</th>\n",
       "      <th>rating</th>\n",
       "    </tr>\n",
       "  </thead>\n",
       "  <tbody>\n",
       "    <tr>\n",
       "      <th>0</th>\n",
       "      <td>1</td>\n",
       "      <td>Xinil</td>\n",
       "      <td>21</td>\n",
       "      <td>One Piece</td>\n",
       "      <td>9</td>\n",
       "    </tr>\n",
       "    <tr>\n",
       "      <th>1</th>\n",
       "      <td>1</td>\n",
       "      <td>Xinil</td>\n",
       "      <td>48</td>\n",
       "      <td>.hack//Sign</td>\n",
       "      <td>7</td>\n",
       "    </tr>\n",
       "    <tr>\n",
       "      <th>2</th>\n",
       "      <td>1</td>\n",
       "      <td>Xinil</td>\n",
       "      <td>320</td>\n",
       "      <td>A Kite</td>\n",
       "      <td>5</td>\n",
       "    </tr>\n",
       "    <tr>\n",
       "      <th>3</th>\n",
       "      <td>1</td>\n",
       "      <td>Xinil</td>\n",
       "      <td>49</td>\n",
       "      <td>Aa! Megami-sama!</td>\n",
       "      <td>8</td>\n",
       "    </tr>\n",
       "    <tr>\n",
       "      <th>4</th>\n",
       "      <td>1</td>\n",
       "      <td>Xinil</td>\n",
       "      <td>304</td>\n",
       "      <td>Aa! Megami-sama! Movie</td>\n",
       "      <td>8</td>\n",
       "    </tr>\n",
       "    <tr>\n",
       "      <th>5</th>\n",
       "      <td>1</td>\n",
       "      <td>Xinil</td>\n",
       "      <td>306</td>\n",
       "      <td>Abenobashi Mahou☆Shoutengai</td>\n",
       "      <td>8</td>\n",
       "    </tr>\n",
       "    <tr>\n",
       "      <th>6</th>\n",
       "      <td>1</td>\n",
       "      <td>Xinil</td>\n",
       "      <td>53</td>\n",
       "      <td>Ai Yori Aoshi</td>\n",
       "      <td>7</td>\n",
       "    </tr>\n",
       "    <tr>\n",
       "      <th>7</th>\n",
       "      <td>1</td>\n",
       "      <td>Xinil</td>\n",
       "      <td>47</td>\n",
       "      <td>Akira</td>\n",
       "      <td>5</td>\n",
       "    </tr>\n",
       "    <tr>\n",
       "      <th>8</th>\n",
       "      <td>1</td>\n",
       "      <td>Xinil</td>\n",
       "      <td>591</td>\n",
       "      <td>Amaenaide yo!!</td>\n",
       "      <td>6</td>\n",
       "    </tr>\n",
       "    <tr>\n",
       "      <th>9</th>\n",
       "      <td>1</td>\n",
       "      <td>Xinil</td>\n",
       "      <td>54</td>\n",
       "      <td>Appleseed (Movie)</td>\n",
       "      <td>7</td>\n",
       "    </tr>\n",
       "  </tbody>\n",
       "</table>\n",
       "</div>"
      ],
      "text/plain": [
       "   user_id Username  anime_id                  Anime Title  rating\n",
       "0        1    Xinil        21                    One Piece       9\n",
       "1        1    Xinil        48                  .hack//Sign       7\n",
       "2        1    Xinil       320                       A Kite       5\n",
       "3        1    Xinil        49             Aa! Megami-sama!       8\n",
       "4        1    Xinil       304       Aa! Megami-sama! Movie       8\n",
       "5        1    Xinil       306  Abenobashi Mahou☆Shoutengai       8\n",
       "6        1    Xinil        53                Ai Yori Aoshi       7\n",
       "7        1    Xinil        47                        Akira       5\n",
       "8        1    Xinil       591               Amaenaide yo!!       6\n",
       "9        1    Xinil        54            Appleseed (Movie)       7"
      ]
     },
     "execution_count": 15,
     "metadata": {},
     "output_type": "execute_result"
    }
   ],
   "source": [
    "us_df.head(10)"
   ]
  },
  {
   "cell_type": "code",
   "execution_count": 16,
   "id": "72a01b81-b5ee-44a3-871b-0e9f809e4d2b",
   "metadata": {},
   "outputs": [
    {
     "data": {
      "text/html": [
       "<div>\n",
       "<style scoped>\n",
       "    .dataframe tbody tr th:only-of-type {\n",
       "        vertical-align: middle;\n",
       "    }\n",
       "\n",
       "    .dataframe tbody tr th {\n",
       "        vertical-align: top;\n",
       "    }\n",
       "\n",
       "    .dataframe thead th {\n",
       "        text-align: right;\n",
       "    }\n",
       "</style>\n",
       "<table border=\"1\" class=\"dataframe\">\n",
       "  <thead>\n",
       "    <tr style=\"text-align: right;\">\n",
       "      <th></th>\n",
       "      <th>user_id</th>\n",
       "      <th>Username</th>\n",
       "      <th>anime_id</th>\n",
       "      <th>Anime Title</th>\n",
       "      <th>rating</th>\n",
       "    </tr>\n",
       "  </thead>\n",
       "  <tbody>\n",
       "    <tr>\n",
       "      <th>24325181</th>\n",
       "      <td>1291087</td>\n",
       "      <td>Oblongata</td>\n",
       "      <td>10495</td>\n",
       "      <td>Yuru Yuri</td>\n",
       "      <td>7</td>\n",
       "    </tr>\n",
       "    <tr>\n",
       "      <th>24325182</th>\n",
       "      <td>1291087</td>\n",
       "      <td>Oblongata</td>\n",
       "      <td>12403</td>\n",
       "      <td>Yuru Yuri♪♪</td>\n",
       "      <td>8</td>\n",
       "    </tr>\n",
       "    <tr>\n",
       "      <th>24325183</th>\n",
       "      <td>1291087</td>\n",
       "      <td>Oblongata</td>\n",
       "      <td>10578</td>\n",
       "      <td>C³</td>\n",
       "      <td>6</td>\n",
       "    </tr>\n",
       "    <tr>\n",
       "      <th>24325184</th>\n",
       "      <td>1291087</td>\n",
       "      <td>Oblongata</td>\n",
       "      <td>12549</td>\n",
       "      <td>Dakara Boku wa, H ga Dekinai.</td>\n",
       "      <td>4</td>\n",
       "    </tr>\n",
       "    <tr>\n",
       "      <th>24325185</th>\n",
       "      <td>1291087</td>\n",
       "      <td>Oblongata</td>\n",
       "      <td>13367</td>\n",
       "      <td>Kono Naka ni Hitori, Imouto ga Iru!</td>\n",
       "      <td>5</td>\n",
       "    </tr>\n",
       "    <tr>\n",
       "      <th>24325186</th>\n",
       "      <td>1291087</td>\n",
       "      <td>Oblongata</td>\n",
       "      <td>10611</td>\n",
       "      <td>R-15</td>\n",
       "      <td>3</td>\n",
       "    </tr>\n",
       "    <tr>\n",
       "      <th>24325187</th>\n",
       "      <td>1291087</td>\n",
       "      <td>Oblongata</td>\n",
       "      <td>174</td>\n",
       "      <td>Tenjou Tenge</td>\n",
       "      <td>6</td>\n",
       "    </tr>\n",
       "    <tr>\n",
       "      <th>24325188</th>\n",
       "      <td>1291097</td>\n",
       "      <td>JuunanaSai</td>\n",
       "      <td>1535</td>\n",
       "      <td>Death Note</td>\n",
       "      <td>9</td>\n",
       "    </tr>\n",
       "    <tr>\n",
       "      <th>24325189</th>\n",
       "      <td>1291097</td>\n",
       "      <td>JuunanaSai</td>\n",
       "      <td>226</td>\n",
       "      <td>Elfen Lied</td>\n",
       "      <td>10</td>\n",
       "    </tr>\n",
       "    <tr>\n",
       "      <th>24325190</th>\n",
       "      <td>1291097</td>\n",
       "      <td>JuunanaSai</td>\n",
       "      <td>8425</td>\n",
       "      <td>Gosick</td>\n",
       "      <td>10</td>\n",
       "    </tr>\n",
       "  </tbody>\n",
       "</table>\n",
       "</div>"
      ],
      "text/plain": [
       "          user_id    Username  anime_id                          Anime Title  \\\n",
       "24325181  1291087   Oblongata     10495                            Yuru Yuri   \n",
       "24325182  1291087   Oblongata     12403                          Yuru Yuri♪♪   \n",
       "24325183  1291087   Oblongata     10578                                   C³   \n",
       "24325184  1291087   Oblongata     12549        Dakara Boku wa, H ga Dekinai.   \n",
       "24325185  1291087   Oblongata     13367  Kono Naka ni Hitori, Imouto ga Iru!   \n",
       "24325186  1291087   Oblongata     10611                                 R-15   \n",
       "24325187  1291087   Oblongata       174                         Tenjou Tenge   \n",
       "24325188  1291097  JuunanaSai      1535                           Death Note   \n",
       "24325189  1291097  JuunanaSai       226                           Elfen Lied   \n",
       "24325190  1291097  JuunanaSai      8425                               Gosick   \n",
       "\n",
       "          rating  \n",
       "24325181       7  \n",
       "24325182       8  \n",
       "24325183       6  \n",
       "24325184       4  \n",
       "24325185       5  \n",
       "24325186       3  \n",
       "24325187       6  \n",
       "24325188       9  \n",
       "24325189      10  \n",
       "24325190      10  "
      ]
     },
     "execution_count": 16,
     "metadata": {},
     "output_type": "execute_result"
    }
   ],
   "source": [
    "us_df.tail(10)"
   ]
  },
  {
   "cell_type": "code",
   "execution_count": 17,
   "id": "bc8b6b92-c2df-4669-83d8-619ddbf26ae5",
   "metadata": {},
   "outputs": [
    {
     "data": {
      "text/plain": [
       "(24325191, 5)"
      ]
     },
     "execution_count": 17,
     "metadata": {},
     "output_type": "execute_result"
    }
   ],
   "source": [
    "us_df.shape"
   ]
  },
  {
   "cell_type": "markdown",
   "id": "9dfa96b8-d2bb-432a-a0da-f80cae22b818",
   "metadata": {},
   "source": [
    "This user scores dataset consists of 24325191 rows and 5 columns."
   ]
  },
  {
   "cell_type": "code",
   "execution_count": 18,
   "id": "74b4f6e2-7e87-440d-9374-a806f991edab",
   "metadata": {},
   "outputs": [
    {
     "data": {
      "text/plain": [
       "Index(['user_id', 'Username', 'anime_id', 'Anime Title', 'rating'], dtype='object')"
      ]
     },
     "execution_count": 18,
     "metadata": {},
     "output_type": "execute_result"
    }
   ],
   "source": [
    "us_df.columns"
   ]
  },
  {
   "cell_type": "code",
   "execution_count": 19,
   "id": "c65244bd-0400-484b-aad9-d8947f3dcbb0",
   "metadata": {},
   "outputs": [
    {
     "data": {
      "text/plain": [
       "Index(['user_id', 'Username', 'anime_id', 'Anime Title', 'rating'], dtype='object')"
      ]
     },
     "execution_count": 19,
     "metadata": {},
     "output_type": "execute_result"
    }
   ],
   "source": [
    "us_df.columns"
   ]
  },
  {
   "cell_type": "code",
   "execution_count": 20,
   "id": "91c10e35-901c-4f56-aad6-dd96abdca1aa",
   "metadata": {},
   "outputs": [
    {
     "data": {
      "text/plain": [
       "Index(['anime_id', 'Name', 'English name', 'Other name', 'Score', 'Genres',\n",
       "       'Synopsis', 'Type', 'Episodes', 'Aired', 'Premiered', 'Status',\n",
       "       'Producers', 'Licensors', 'Studios', 'Source', 'Duration', 'Rating',\n",
       "       'Rank', 'Popularity', 'Favorites', 'Scored By', 'Members', 'Image URL'],\n",
       "      dtype='object')"
      ]
     },
     "execution_count": 20,
     "metadata": {},
     "output_type": "execute_result"
    }
   ],
   "source": [
    "a_df.columns"
   ]
  },
  {
   "cell_type": "code",
   "execution_count": 21,
   "id": "4edacac9-f7d2-4001-83a8-d8afb7f9b1fa",
   "metadata": {},
   "outputs": [],
   "source": [
    "merged_df = pd.merge(a_df, us_df, on='anime_id')"
   ]
  },
  {
   "cell_type": "code",
   "execution_count": 22,
   "id": "d3fea395-f04e-4f42-b3ab-31d5ba1687b1",
   "metadata": {},
   "outputs": [
    {
     "data": {
      "text/plain": [
       "Index(['anime_id', 'Name', 'English name', 'Other name', 'Score', 'Genres',\n",
       "       'Synopsis', 'Type', 'Episodes', 'Aired', 'Premiered', 'Status',\n",
       "       'Producers', 'Licensors', 'Studios', 'Source', 'Duration', 'Rating',\n",
       "       'Rank', 'Popularity', 'Favorites', 'Scored By', 'Members', 'Image URL',\n",
       "       'user_id', 'Username', 'Anime Title', 'rating'],\n",
       "      dtype='object')"
      ]
     },
     "execution_count": 22,
     "metadata": {},
     "output_type": "execute_result"
    }
   ],
   "source": [
    "merged_df_original = merged_df\n",
    "merged_df.columns"
   ]
  },
  {
   "cell_type": "markdown",
   "id": "eb70ec3c-2eeb-4ff1-950f-694efc0004ed",
   "metadata": {},
   "source": [
    "Merged the anime_df and user_scores_df on the basis of anime_id into single data frame called final_df. Now merging final_df and user_details_df on the basis of username."
   ]
  },
  {
   "cell_type": "code",
   "execution_count": 23,
   "id": "a147eb12-3014-4dbd-a54d-005d9eb6e22e",
   "metadata": {},
   "outputs": [],
   "source": [
    "merged_df = pd.merge(merged_df, ud_df, on='Username')"
   ]
  },
  {
   "cell_type": "markdown",
   "id": "1a5a6822-776d-455e-8dce-09ae98269a66",
   "metadata": {},
   "source": [
    "Merged all the 3 datasets and named the final dataframe as final_df."
   ]
  },
  {
   "cell_type": "code",
   "execution_count": 24,
   "id": "894bbed7-a405-4005-bdfa-7d12374eba7d",
   "metadata": {},
   "outputs": [
    {
     "data": {
      "text/html": [
       "<div>\n",
       "<style scoped>\n",
       "    .dataframe tbody tr th:only-of-type {\n",
       "        vertical-align: middle;\n",
       "    }\n",
       "\n",
       "    .dataframe tbody tr th {\n",
       "        vertical-align: top;\n",
       "    }\n",
       "\n",
       "    .dataframe thead th {\n",
       "        text-align: right;\n",
       "    }\n",
       "</style>\n",
       "<table border=\"1\" class=\"dataframe\">\n",
       "  <thead>\n",
       "    <tr style=\"text-align: right;\">\n",
       "      <th></th>\n",
       "      <th>anime_id</th>\n",
       "      <th>Name</th>\n",
       "      <th>English name</th>\n",
       "      <th>Other name</th>\n",
       "      <th>Score</th>\n",
       "      <th>Genres</th>\n",
       "      <th>Synopsis</th>\n",
       "      <th>Type</th>\n",
       "      <th>Episodes</th>\n",
       "      <th>Aired</th>\n",
       "      <th>...</th>\n",
       "      <th>Days Watched</th>\n",
       "      <th>Mean Score</th>\n",
       "      <th>Watching</th>\n",
       "      <th>Completed</th>\n",
       "      <th>On Hold</th>\n",
       "      <th>Dropped</th>\n",
       "      <th>Plan to Watch</th>\n",
       "      <th>Total Entries</th>\n",
       "      <th>Rewatched</th>\n",
       "      <th>Episodes Watched</th>\n",
       "    </tr>\n",
       "  </thead>\n",
       "  <tbody>\n",
       "    <tr>\n",
       "      <th>0</th>\n",
       "      <td>1</td>\n",
       "      <td>Cowboy Bebop</td>\n",
       "      <td>Cowboy Bebop</td>\n",
       "      <td>カウボーイビバップ</td>\n",
       "      <td>8.75</td>\n",
       "      <td>Action, Award Winning, Sci-Fi</td>\n",
       "      <td>Crime is timeless. By the year 2071, humanity ...</td>\n",
       "      <td>TV</td>\n",
       "      <td>26.0</td>\n",
       "      <td>Apr 3, 1998 to Apr 24, 1999</td>\n",
       "      <td>...</td>\n",
       "      <td>142.3</td>\n",
       "      <td>7.37</td>\n",
       "      <td>1.0</td>\n",
       "      <td>233.0</td>\n",
       "      <td>8.0</td>\n",
       "      <td>93.0</td>\n",
       "      <td>64.0</td>\n",
       "      <td>399.0</td>\n",
       "      <td>60.0</td>\n",
       "      <td>8458.0</td>\n",
       "    </tr>\n",
       "    <tr>\n",
       "      <th>1</th>\n",
       "      <td>1</td>\n",
       "      <td>Cowboy Bebop</td>\n",
       "      <td>Cowboy Bebop</td>\n",
       "      <td>カウボーイビバップ</td>\n",
       "      <td>8.75</td>\n",
       "      <td>Action, Award Winning, Sci-Fi</td>\n",
       "      <td>Crime is timeless. By the year 2071, humanity ...</td>\n",
       "      <td>TV</td>\n",
       "      <td>26.0</td>\n",
       "      <td>Apr 3, 1998 to Apr 24, 1999</td>\n",
       "      <td>...</td>\n",
       "      <td>212.8</td>\n",
       "      <td>6.68</td>\n",
       "      <td>16.0</td>\n",
       "      <td>636.0</td>\n",
       "      <td>303.0</td>\n",
       "      <td>0.0</td>\n",
       "      <td>45.0</td>\n",
       "      <td>1000.0</td>\n",
       "      <td>10.0</td>\n",
       "      <td>12781.0</td>\n",
       "    </tr>\n",
       "    <tr>\n",
       "      <th>2</th>\n",
       "      <td>1</td>\n",
       "      <td>Cowboy Bebop</td>\n",
       "      <td>Cowboy Bebop</td>\n",
       "      <td>カウボーイビバップ</td>\n",
       "      <td>8.75</td>\n",
       "      <td>Action, Award Winning, Sci-Fi</td>\n",
       "      <td>Crime is timeless. By the year 2071, humanity ...</td>\n",
       "      <td>TV</td>\n",
       "      <td>26.0</td>\n",
       "      <td>Apr 3, 1998 to Apr 24, 1999</td>\n",
       "      <td>...</td>\n",
       "      <td>73.1</td>\n",
       "      <td>8.06</td>\n",
       "      <td>11.0</td>\n",
       "      <td>94.0</td>\n",
       "      <td>11.0</td>\n",
       "      <td>2.0</td>\n",
       "      <td>20.0</td>\n",
       "      <td>138.0</td>\n",
       "      <td>7.0</td>\n",
       "      <td>4374.0</td>\n",
       "    </tr>\n",
       "    <tr>\n",
       "      <th>3</th>\n",
       "      <td>1</td>\n",
       "      <td>Cowboy Bebop</td>\n",
       "      <td>Cowboy Bebop</td>\n",
       "      <td>カウボーイビバップ</td>\n",
       "      <td>8.75</td>\n",
       "      <td>Action, Award Winning, Sci-Fi</td>\n",
       "      <td>Crime is timeless. By the year 2071, humanity ...</td>\n",
       "      <td>TV</td>\n",
       "      <td>26.0</td>\n",
       "      <td>Apr 3, 1998 to Apr 24, 1999</td>\n",
       "      <td>...</td>\n",
       "      <td>142.5</td>\n",
       "      <td>7.41</td>\n",
       "      <td>20.0</td>\n",
       "      <td>298.0</td>\n",
       "      <td>5.0</td>\n",
       "      <td>19.0</td>\n",
       "      <td>50.0</td>\n",
       "      <td>392.0</td>\n",
       "      <td>0.0</td>\n",
       "      <td>8565.0</td>\n",
       "    </tr>\n",
       "    <tr>\n",
       "      <th>4</th>\n",
       "      <td>1</td>\n",
       "      <td>Cowboy Bebop</td>\n",
       "      <td>Cowboy Bebop</td>\n",
       "      <td>カウボーイビバップ</td>\n",
       "      <td>8.75</td>\n",
       "      <td>Action, Award Winning, Sci-Fi</td>\n",
       "      <td>Crime is timeless. By the year 2071, humanity ...</td>\n",
       "      <td>TV</td>\n",
       "      <td>26.0</td>\n",
       "      <td>Apr 3, 1998 to Apr 24, 1999</td>\n",
       "      <td>...</td>\n",
       "      <td>34.5</td>\n",
       "      <td>6.84</td>\n",
       "      <td>15.0</td>\n",
       "      <td>104.0</td>\n",
       "      <td>22.0</td>\n",
       "      <td>3.0</td>\n",
       "      <td>19.0</td>\n",
       "      <td>163.0</td>\n",
       "      <td>1.0</td>\n",
       "      <td>2054.0</td>\n",
       "    </tr>\n",
       "  </tbody>\n",
       "</table>\n",
       "<p>5 rows × 43 columns</p>\n",
       "</div>"
      ],
      "text/plain": [
       "   anime_id          Name  English name Other name Score  \\\n",
       "0         1  Cowboy Bebop  Cowboy Bebop  カウボーイビバップ  8.75   \n",
       "1         1  Cowboy Bebop  Cowboy Bebop  カウボーイビバップ  8.75   \n",
       "2         1  Cowboy Bebop  Cowboy Bebop  カウボーイビバップ  8.75   \n",
       "3         1  Cowboy Bebop  Cowboy Bebop  カウボーイビバップ  8.75   \n",
       "4         1  Cowboy Bebop  Cowboy Bebop  カウボーイビバップ  8.75   \n",
       "\n",
       "                          Genres  \\\n",
       "0  Action, Award Winning, Sci-Fi   \n",
       "1  Action, Award Winning, Sci-Fi   \n",
       "2  Action, Award Winning, Sci-Fi   \n",
       "3  Action, Award Winning, Sci-Fi   \n",
       "4  Action, Award Winning, Sci-Fi   \n",
       "\n",
       "                                            Synopsis Type Episodes  \\\n",
       "0  Crime is timeless. By the year 2071, humanity ...   TV     26.0   \n",
       "1  Crime is timeless. By the year 2071, humanity ...   TV     26.0   \n",
       "2  Crime is timeless. By the year 2071, humanity ...   TV     26.0   \n",
       "3  Crime is timeless. By the year 2071, humanity ...   TV     26.0   \n",
       "4  Crime is timeless. By the year 2071, humanity ...   TV     26.0   \n",
       "\n",
       "                         Aired  ... Days Watched Mean Score Watching  \\\n",
       "0  Apr 3, 1998 to Apr 24, 1999  ...        142.3       7.37      1.0   \n",
       "1  Apr 3, 1998 to Apr 24, 1999  ...        212.8       6.68     16.0   \n",
       "2  Apr 3, 1998 to Apr 24, 1999  ...         73.1       8.06     11.0   \n",
       "3  Apr 3, 1998 to Apr 24, 1999  ...        142.5       7.41     20.0   \n",
       "4  Apr 3, 1998 to Apr 24, 1999  ...         34.5       6.84     15.0   \n",
       "\n",
       "  Completed On Hold Dropped Plan to Watch Total Entries Rewatched  \\\n",
       "0     233.0     8.0    93.0          64.0         399.0      60.0   \n",
       "1     636.0   303.0     0.0          45.0        1000.0      10.0   \n",
       "2      94.0    11.0     2.0          20.0         138.0       7.0   \n",
       "3     298.0     5.0    19.0          50.0         392.0       0.0   \n",
       "4     104.0    22.0     3.0          19.0         163.0       1.0   \n",
       "\n",
       "   Episodes Watched  \n",
       "0            8458.0  \n",
       "1           12781.0  \n",
       "2            4374.0  \n",
       "3            8565.0  \n",
       "4            2054.0  \n",
       "\n",
       "[5 rows x 43 columns]"
      ]
     },
     "execution_count": 24,
     "metadata": {},
     "output_type": "execute_result"
    }
   ],
   "source": [
    "merged_df.head()"
   ]
  },
  {
   "cell_type": "code",
   "execution_count": 25,
   "id": "c1bd9e16-0af6-4aad-a117-6d881fe89ec5",
   "metadata": {},
   "outputs": [
    {
     "data": {
      "text/plain": [
       "Index(['anime_id', 'Name', 'English name', 'Other name', 'Score', 'Genres',\n",
       "       'Synopsis', 'Type', 'Episodes', 'Aired', 'Premiered', 'Status',\n",
       "       'Producers', 'Licensors', 'Studios', 'Source', 'Duration', 'Rating',\n",
       "       'Rank', 'Popularity', 'Favorites', 'Scored By', 'Members', 'Image URL',\n",
       "       'user_id', 'Username', 'Anime Title', 'rating', 'Mal ID', 'Gender',\n",
       "       'Birthday', 'Location', 'Joined', 'Days Watched', 'Mean Score',\n",
       "       'Watching', 'Completed', 'On Hold', 'Dropped', 'Plan to Watch',\n",
       "       'Total Entries', 'Rewatched', 'Episodes Watched'],\n",
       "      dtype='object')"
      ]
     },
     "execution_count": 25,
     "metadata": {},
     "output_type": "execute_result"
    }
   ],
   "source": [
    "merged_df.columns"
   ]
  },
  {
   "cell_type": "code",
   "execution_count": 26,
   "id": "f7fa7152-0fb6-4b4a-a313-27535c2ca08c",
   "metadata": {},
   "outputs": [
    {
     "name": "stdout",
     "output_type": "stream",
     "text": [
      "<class 'pandas.core.frame.DataFrame'>\n",
      "RangeIndex: 23803248 entries, 0 to 23803247\n",
      "Data columns (total 43 columns):\n",
      " #   Column            Dtype  \n",
      "---  ------            -----  \n",
      " 0   anime_id          int64  \n",
      " 1   Name              object \n",
      " 2   English name      object \n",
      " 3   Other name        object \n",
      " 4   Score             object \n",
      " 5   Genres            object \n",
      " 6   Synopsis          object \n",
      " 7   Type              object \n",
      " 8   Episodes          object \n",
      " 9   Aired             object \n",
      " 10  Premiered         object \n",
      " 11  Status            object \n",
      " 12  Producers         object \n",
      " 13  Licensors         object \n",
      " 14  Studios           object \n",
      " 15  Source            object \n",
      " 16  Duration          object \n",
      " 17  Rating            object \n",
      " 18  Rank              object \n",
      " 19  Popularity        int64  \n",
      " 20  Favorites         int64  \n",
      " 21  Scored By         object \n",
      " 22  Members           int64  \n",
      " 23  Image URL         object \n",
      " 24  user_id           int64  \n",
      " 25  Username          object \n",
      " 26  Anime Title       object \n",
      " 27  rating            int64  \n",
      " 28  Mal ID            int64  \n",
      " 29  Gender            object \n",
      " 30  Birthday          object \n",
      " 31  Location          object \n",
      " 32  Joined            object \n",
      " 33  Days Watched      float64\n",
      " 34  Mean Score        float64\n",
      " 35  Watching          float64\n",
      " 36  Completed         float64\n",
      " 37  On Hold           float64\n",
      " 38  Dropped           float64\n",
      " 39  Plan to Watch     float64\n",
      " 40  Total Entries     float64\n",
      " 41  Rewatched         float64\n",
      " 42  Episodes Watched  float64\n",
      "dtypes: float64(10), int64(7), object(26)\n",
      "memory usage: 7.6+ GB\n"
     ]
    }
   ],
   "source": [
    "merged_df.info()"
   ]
  },
  {
   "cell_type": "markdown",
   "id": "0b5c97f9",
   "metadata": {},
   "source": [
    "Dropped columns:\n",
    "\n",
    "1. English name: Redundant, since these two provide similar information.\n",
    " \n",
    "2. Other name: This proves to be of no considerable assistance in giving recommendations.\n",
    "\n",
    "3. Synopsis: These are textual data which are quite demanding and hence will be disregarded since there is no need to be complicated.\n",
    "\n",
    "4. Type: There might be need to specify the type, however this can also be omitted.\n",
    "\n",
    "5. Episodes, Aired, Premiered: These columns are not very useful in making recommendations.\n",
    "\n",
    "6. Status: This can be omitted unless there is need to distinguish finnished from ongoing.\n",
    "\n",
    "7. Producers, Licensors, Studios: Useful to the analysis only.\n",
    "\n",
    "8. Source: Unlikely to affect user preferences directly.\n",
    "\n",
    "9. Duration: This can be ignored unless doing analytics on time spent watching.\n",
    "\n",
    "10. Rating (Age rating like PG, R, etc.): Will not be necessary to use unless it is important.\n",
    "\n",
    "11. Rank, Popularity, Favorites, Scored By, Members: These can be omitted as Score overrules these in capturing the popularity dimension.\n",
    "\n",
    "12. Image URL: For all intent and purpose, not relevant for model training.\n",
    "\n",
    "13. Username: This is irrelevant; user_id is enough.\n",
    "\n",
    "14. Anime Title: Like Name, can also be dropped.\n",
    "\n",
    "15. Mal ID: This is most likely a duplicate (anime_id already exists).\n",
    "\n",
    "16. Gender, Birthday, Location, Joined: Demographic information of the users can be ignored unless one wants to build a recommendation system based on demographic information."
   ]
  },
  {
   "cell_type": "markdown",
   "id": "396f0c01-19a7-4db1-b847-6546a2829705",
   "metadata": {},
   "source": [
    "Using only useful columns"
   ]
  },
  {
   "cell_type": "markdown",
   "id": "1f53a7ff-fb5a-411b-ab2d-a9ed29e9ca98",
   "metadata": {},
   "source": [
    "1. anime_id: To identify the anime. \n",
    "2. Genres: For content based recommendation this genres are useful. \n",
    "3. Score: Thus feature can help in recommending high rated anime. \n",
    "4. user_id: Useful for collaborative filtering \n",
    "5. rating: This feature is useful for collaborative filtering. \n",
    "6. Days Watched: Useful for anlayzing the user beahviour \n",
    "7. Mean Score: Average scoe of the anime\n",
    "8. Watching, Completed, On Hold, Dropped, Plan to Watch, Episodes Watched: These features are useful to analyze user behaviour.\n",
    "9. Type: To recommend based on categories.\n",
    "rating (age rating): To filter the recommendation based on the rating.\n",
    "10. Birthday: To calculate the age of the user."
   ]
  },
  {
   "cell_type": "code",
   "execution_count": 27,
   "id": "1db8e6e9-4b69-44e6-981b-3f49433f3c6e",
   "metadata": {},
   "outputs": [],
   "source": [
    "useful_columns = ['anime_id', 'Genres', 'Score', 'user_id', 'Rating', 'Days Watched', 'Mean Score',\n",
    "                   'Watching', 'Completed', 'On Hold', 'Dropped', 'Plan to Watch', 'Episodes Watched', \n",
    "                   'Type', 'rating', 'Birthday']\n",
    "\n",
    "merged_df = merged_df[useful_columns]"
   ]
  },
  {
   "cell_type": "code",
   "execution_count": 28,
   "id": "cca622fb-2d1f-453d-9bb2-d20962d8a2df",
   "metadata": {},
   "outputs": [
    {
     "data": {
      "text/plain": [
       "Index(['anime_id', 'Genres', 'Score', 'user_id', 'Rating', 'Days Watched',\n",
       "       'Mean Score', 'Watching', 'Completed', 'On Hold', 'Dropped',\n",
       "       'Plan to Watch', 'Episodes Watched', 'Type', 'rating', 'Birthday'],\n",
       "      dtype='object')"
      ]
     },
     "execution_count": 28,
     "metadata": {},
     "output_type": "execute_result"
    }
   ],
   "source": [
    "merged_df.columns"
   ]
  },
  {
   "cell_type": "code",
   "execution_count": 29,
   "id": "771f548b-a6da-404c-ad99-f3627d23cac3",
   "metadata": {},
   "outputs": [
    {
     "data": {
      "text/plain": [
       "(23803248, 16)"
      ]
     },
     "execution_count": 29,
     "metadata": {},
     "output_type": "execute_result"
    }
   ],
   "source": [
    "merged_df.shape"
   ]
  },
  {
   "cell_type": "markdown",
   "id": "0af6169a-405b-40e2-b280-26af43830802",
   "metadata": {},
   "source": [
    "There are 23803248 rows and 16 columns in the final merged dataframe"
   ]
  },
  {
   "cell_type": "markdown",
   "id": "557ec8e6-7474-4766-b28f-e39dd86dbf1b",
   "metadata": {},
   "source": [
    "We don’t have an age column in the dataset, so we’ll calculate age from the birthday. Age trends can help the model make more accurate recommendations, as anime preferences often vary across age groups. We’ll also remove the time component from the birthday data."
   ]
  },
  {
   "cell_type": "code",
   "execution_count": 30,
   "id": "d6a2e4dc-081e-4074-ad51-14b2b878727e",
   "metadata": {},
   "outputs": [],
   "source": [
    "merged_df['Birthday'] = merged_df['Birthday'].str[:10]"
   ]
  },
  {
   "cell_type": "markdown",
   "id": "b01c8eef-d8c8-4e82-8e76-de2b2a58fb27",
   "metadata": {},
   "source": [
    "Converting the datatype of birthday column from object to datetime"
   ]
  },
  {
   "cell_type": "code",
   "execution_count": 31,
   "id": "7d9466ca-f71b-432e-aa0b-bd6345bb18a2",
   "metadata": {},
   "outputs": [
    {
     "data": {
      "text/html": [
       "<div>\n",
       "<style scoped>\n",
       "    .dataframe tbody tr th:only-of-type {\n",
       "        vertical-align: middle;\n",
       "    }\n",
       "\n",
       "    .dataframe tbody tr th {\n",
       "        vertical-align: top;\n",
       "    }\n",
       "\n",
       "    .dataframe thead th {\n",
       "        text-align: right;\n",
       "    }\n",
       "</style>\n",
       "<table border=\"1\" class=\"dataframe\">\n",
       "  <thead>\n",
       "    <tr style=\"text-align: right;\">\n",
       "      <th></th>\n",
       "      <th>anime_id</th>\n",
       "      <th>Genres</th>\n",
       "      <th>Score</th>\n",
       "      <th>user_id</th>\n",
       "      <th>Rating</th>\n",
       "      <th>Days Watched</th>\n",
       "      <th>Mean Score</th>\n",
       "      <th>Watching</th>\n",
       "      <th>Completed</th>\n",
       "      <th>On Hold</th>\n",
       "      <th>Dropped</th>\n",
       "      <th>Plan to Watch</th>\n",
       "      <th>Episodes Watched</th>\n",
       "      <th>Type</th>\n",
       "      <th>rating</th>\n",
       "      <th>Birthday</th>\n",
       "    </tr>\n",
       "  </thead>\n",
       "  <tbody>\n",
       "    <tr>\n",
       "      <th>0</th>\n",
       "      <td>1</td>\n",
       "      <td>Action, Award Winning, Sci-Fi</td>\n",
       "      <td>8.75</td>\n",
       "      <td>1</td>\n",
       "      <td>R - 17+ (violence &amp; profanity)</td>\n",
       "      <td>142.3</td>\n",
       "      <td>7.37</td>\n",
       "      <td>1.0</td>\n",
       "      <td>233.0</td>\n",
       "      <td>8.0</td>\n",
       "      <td>93.0</td>\n",
       "      <td>64.0</td>\n",
       "      <td>8458.0</td>\n",
       "      <td>TV</td>\n",
       "      <td>10</td>\n",
       "      <td>1985-03-04</td>\n",
       "    </tr>\n",
       "    <tr>\n",
       "      <th>1</th>\n",
       "      <td>1</td>\n",
       "      <td>Action, Award Winning, Sci-Fi</td>\n",
       "      <td>8.75</td>\n",
       "      <td>4</td>\n",
       "      <td>R - 17+ (violence &amp; profanity)</td>\n",
       "      <td>212.8</td>\n",
       "      <td>6.68</td>\n",
       "      <td>16.0</td>\n",
       "      <td>636.0</td>\n",
       "      <td>303.0</td>\n",
       "      <td>0.0</td>\n",
       "      <td>45.0</td>\n",
       "      <td>12781.0</td>\n",
       "      <td>TV</td>\n",
       "      <td>8</td>\n",
       "      <td>NaN</td>\n",
       "    </tr>\n",
       "    <tr>\n",
       "      <th>2</th>\n",
       "      <td>1</td>\n",
       "      <td>Action, Award Winning, Sci-Fi</td>\n",
       "      <td>8.75</td>\n",
       "      <td>20</td>\n",
       "      <td>R - 17+ (violence &amp; profanity)</td>\n",
       "      <td>73.1</td>\n",
       "      <td>8.06</td>\n",
       "      <td>11.0</td>\n",
       "      <td>94.0</td>\n",
       "      <td>11.0</td>\n",
       "      <td>2.0</td>\n",
       "      <td>20.0</td>\n",
       "      <td>4374.0</td>\n",
       "      <td>TV</td>\n",
       "      <td>9</td>\n",
       "      <td>1988-01-25</td>\n",
       "    </tr>\n",
       "    <tr>\n",
       "      <th>3</th>\n",
       "      <td>1</td>\n",
       "      <td>Action, Award Winning, Sci-Fi</td>\n",
       "      <td>8.75</td>\n",
       "      <td>23</td>\n",
       "      <td>R - 17+ (violence &amp; profanity)</td>\n",
       "      <td>142.5</td>\n",
       "      <td>7.41</td>\n",
       "      <td>20.0</td>\n",
       "      <td>298.0</td>\n",
       "      <td>5.0</td>\n",
       "      <td>19.0</td>\n",
       "      <td>50.0</td>\n",
       "      <td>8565.0</td>\n",
       "      <td>TV</td>\n",
       "      <td>9</td>\n",
       "      <td>1988-02-22</td>\n",
       "    </tr>\n",
       "    <tr>\n",
       "      <th>4</th>\n",
       "      <td>1</td>\n",
       "      <td>Action, Award Winning, Sci-Fi</td>\n",
       "      <td>8.75</td>\n",
       "      <td>47</td>\n",
       "      <td>R - 17+ (violence &amp; profanity)</td>\n",
       "      <td>34.5</td>\n",
       "      <td>6.84</td>\n",
       "      <td>15.0</td>\n",
       "      <td>104.0</td>\n",
       "      <td>22.0</td>\n",
       "      <td>3.0</td>\n",
       "      <td>19.0</td>\n",
       "      <td>2054.0</td>\n",
       "      <td>TV</td>\n",
       "      <td>7</td>\n",
       "      <td>NaN</td>\n",
       "    </tr>\n",
       "  </tbody>\n",
       "</table>\n",
       "</div>"
      ],
      "text/plain": [
       "   anime_id                         Genres Score  user_id  \\\n",
       "0         1  Action, Award Winning, Sci-Fi  8.75        1   \n",
       "1         1  Action, Award Winning, Sci-Fi  8.75        4   \n",
       "2         1  Action, Award Winning, Sci-Fi  8.75       20   \n",
       "3         1  Action, Award Winning, Sci-Fi  8.75       23   \n",
       "4         1  Action, Award Winning, Sci-Fi  8.75       47   \n",
       "\n",
       "                           Rating  Days Watched  Mean Score  Watching  \\\n",
       "0  R - 17+ (violence & profanity)         142.3        7.37       1.0   \n",
       "1  R - 17+ (violence & profanity)         212.8        6.68      16.0   \n",
       "2  R - 17+ (violence & profanity)          73.1        8.06      11.0   \n",
       "3  R - 17+ (violence & profanity)         142.5        7.41      20.0   \n",
       "4  R - 17+ (violence & profanity)          34.5        6.84      15.0   \n",
       "\n",
       "   Completed  On Hold  Dropped  Plan to Watch  Episodes Watched Type  rating  \\\n",
       "0      233.0      8.0     93.0           64.0            8458.0   TV      10   \n",
       "1      636.0    303.0      0.0           45.0           12781.0   TV       8   \n",
       "2       94.0     11.0      2.0           20.0            4374.0   TV       9   \n",
       "3      298.0      5.0     19.0           50.0            8565.0   TV       9   \n",
       "4      104.0     22.0      3.0           19.0            2054.0   TV       7   \n",
       "\n",
       "     Birthday  \n",
       "0  1985-03-04  \n",
       "1         NaN  \n",
       "2  1988-01-25  \n",
       "3  1988-02-22  \n",
       "4         NaN  "
      ]
     },
     "execution_count": 31,
     "metadata": {},
     "output_type": "execute_result"
    }
   ],
   "source": [
    "merged_df.head()"
   ]
  },
  {
   "cell_type": "markdown",
   "id": "7e60b1b8-7347-4fc7-a87b-aa1188995c3e",
   "metadata": {},
   "source": [
    "Now the birthday column does not contain time"
   ]
  },
  {
   "cell_type": "code",
   "execution_count": 32,
   "id": "1e817c0b-84c2-415a-aa1e-2f8d068ef9e3",
   "metadata": {},
   "outputs": [],
   "source": [
    "merged_df['Birthday'] = pd.to_datetime(merged_df['Birthday'], format='%Y-%m-%d',errors='coerce')"
   ]
  },
  {
   "cell_type": "markdown",
   "id": "b8527bd8-038c-4b4d-a331-2b8465bb3ed9",
   "metadata": {},
   "source": [
    "Converted the birthday column datatype from object to date time. And ignored all the NaN values."
   ]
  },
  {
   "cell_type": "code",
   "execution_count": 33,
   "id": "cab19676-8f0b-46c8-bd62-2c09e3e0e5b1",
   "metadata": {},
   "outputs": [],
   "source": [
    "Present_date = pd.to_datetime('today')"
   ]
  },
  {
   "cell_type": "markdown",
   "id": "6862750e-670f-4e7a-a9b0-f53687cd76e6",
   "metadata": {},
   "source": [
    "Inserting the new column age by substracting todays date with the date present in birthday column."
   ]
  },
  {
   "cell_type": "code",
   "execution_count": 34,
   "id": "21f0c127-35e0-48c2-a954-ad4f044aee46",
   "metadata": {},
   "outputs": [
    {
     "data": {
      "text/html": [
       "<div>\n",
       "<style scoped>\n",
       "    .dataframe tbody tr th:only-of-type {\n",
       "        vertical-align: middle;\n",
       "    }\n",
       "\n",
       "    .dataframe tbody tr th {\n",
       "        vertical-align: top;\n",
       "    }\n",
       "\n",
       "    .dataframe thead th {\n",
       "        text-align: right;\n",
       "    }\n",
       "</style>\n",
       "<table border=\"1\" class=\"dataframe\">\n",
       "  <thead>\n",
       "    <tr style=\"text-align: right;\">\n",
       "      <th></th>\n",
       "      <th>anime_id</th>\n",
       "      <th>Genres</th>\n",
       "      <th>Score</th>\n",
       "      <th>user_id</th>\n",
       "      <th>Rating</th>\n",
       "      <th>Days Watched</th>\n",
       "      <th>Mean Score</th>\n",
       "      <th>Watching</th>\n",
       "      <th>Completed</th>\n",
       "      <th>On Hold</th>\n",
       "      <th>Dropped</th>\n",
       "      <th>Plan to Watch</th>\n",
       "      <th>Episodes Watched</th>\n",
       "      <th>Type</th>\n",
       "      <th>rating</th>\n",
       "      <th>Birthday</th>\n",
       "      <th>Age</th>\n",
       "    </tr>\n",
       "  </thead>\n",
       "  <tbody>\n",
       "    <tr>\n",
       "      <th>0</th>\n",
       "      <td>1</td>\n",
       "      <td>Action, Award Winning, Sci-Fi</td>\n",
       "      <td>8.75</td>\n",
       "      <td>1</td>\n",
       "      <td>R - 17+ (violence &amp; profanity)</td>\n",
       "      <td>142.3</td>\n",
       "      <td>7.37</td>\n",
       "      <td>1.0</td>\n",
       "      <td>233.0</td>\n",
       "      <td>8.0</td>\n",
       "      <td>93.0</td>\n",
       "      <td>64.0</td>\n",
       "      <td>8458.0</td>\n",
       "      <td>TV</td>\n",
       "      <td>10</td>\n",
       "      <td>1985-03-04</td>\n",
       "      <td>39.0</td>\n",
       "    </tr>\n",
       "    <tr>\n",
       "      <th>1</th>\n",
       "      <td>1</td>\n",
       "      <td>Action, Award Winning, Sci-Fi</td>\n",
       "      <td>8.75</td>\n",
       "      <td>4</td>\n",
       "      <td>R - 17+ (violence &amp; profanity)</td>\n",
       "      <td>212.8</td>\n",
       "      <td>6.68</td>\n",
       "      <td>16.0</td>\n",
       "      <td>636.0</td>\n",
       "      <td>303.0</td>\n",
       "      <td>0.0</td>\n",
       "      <td>45.0</td>\n",
       "      <td>12781.0</td>\n",
       "      <td>TV</td>\n",
       "      <td>8</td>\n",
       "      <td>NaT</td>\n",
       "      <td>&lt;NA&gt;</td>\n",
       "    </tr>\n",
       "    <tr>\n",
       "      <th>2</th>\n",
       "      <td>1</td>\n",
       "      <td>Action, Award Winning, Sci-Fi</td>\n",
       "      <td>8.75</td>\n",
       "      <td>20</td>\n",
       "      <td>R - 17+ (violence &amp; profanity)</td>\n",
       "      <td>73.1</td>\n",
       "      <td>8.06</td>\n",
       "      <td>11.0</td>\n",
       "      <td>94.0</td>\n",
       "      <td>11.0</td>\n",
       "      <td>2.0</td>\n",
       "      <td>20.0</td>\n",
       "      <td>4374.0</td>\n",
       "      <td>TV</td>\n",
       "      <td>9</td>\n",
       "      <td>1988-01-25</td>\n",
       "      <td>36.0</td>\n",
       "    </tr>\n",
       "    <tr>\n",
       "      <th>3</th>\n",
       "      <td>1</td>\n",
       "      <td>Action, Award Winning, Sci-Fi</td>\n",
       "      <td>8.75</td>\n",
       "      <td>23</td>\n",
       "      <td>R - 17+ (violence &amp; profanity)</td>\n",
       "      <td>142.5</td>\n",
       "      <td>7.41</td>\n",
       "      <td>20.0</td>\n",
       "      <td>298.0</td>\n",
       "      <td>5.0</td>\n",
       "      <td>19.0</td>\n",
       "      <td>50.0</td>\n",
       "      <td>8565.0</td>\n",
       "      <td>TV</td>\n",
       "      <td>9</td>\n",
       "      <td>1988-02-22</td>\n",
       "      <td>36.0</td>\n",
       "    </tr>\n",
       "    <tr>\n",
       "      <th>4</th>\n",
       "      <td>1</td>\n",
       "      <td>Action, Award Winning, Sci-Fi</td>\n",
       "      <td>8.75</td>\n",
       "      <td>47</td>\n",
       "      <td>R - 17+ (violence &amp; profanity)</td>\n",
       "      <td>34.5</td>\n",
       "      <td>6.84</td>\n",
       "      <td>15.0</td>\n",
       "      <td>104.0</td>\n",
       "      <td>22.0</td>\n",
       "      <td>3.0</td>\n",
       "      <td>19.0</td>\n",
       "      <td>2054.0</td>\n",
       "      <td>TV</td>\n",
       "      <td>7</td>\n",
       "      <td>NaT</td>\n",
       "      <td>&lt;NA&gt;</td>\n",
       "    </tr>\n",
       "  </tbody>\n",
       "</table>\n",
       "</div>"
      ],
      "text/plain": [
       "   anime_id                         Genres Score  user_id  \\\n",
       "0         1  Action, Award Winning, Sci-Fi  8.75        1   \n",
       "1         1  Action, Award Winning, Sci-Fi  8.75        4   \n",
       "2         1  Action, Award Winning, Sci-Fi  8.75       20   \n",
       "3         1  Action, Award Winning, Sci-Fi  8.75       23   \n",
       "4         1  Action, Award Winning, Sci-Fi  8.75       47   \n",
       "\n",
       "                           Rating  Days Watched  Mean Score  Watching  \\\n",
       "0  R - 17+ (violence & profanity)         142.3        7.37       1.0   \n",
       "1  R - 17+ (violence & profanity)         212.8        6.68      16.0   \n",
       "2  R - 17+ (violence & profanity)          73.1        8.06      11.0   \n",
       "3  R - 17+ (violence & profanity)         142.5        7.41      20.0   \n",
       "4  R - 17+ (violence & profanity)          34.5        6.84      15.0   \n",
       "\n",
       "   Completed  On Hold  Dropped  Plan to Watch  Episodes Watched Type  rating  \\\n",
       "0      233.0      8.0     93.0           64.0            8458.0   TV      10   \n",
       "1      636.0    303.0      0.0           45.0           12781.0   TV       8   \n",
       "2       94.0     11.0      2.0           20.0            4374.0   TV       9   \n",
       "3      298.0      5.0     19.0           50.0            8565.0   TV       9   \n",
       "4      104.0     22.0      3.0           19.0            2054.0   TV       7   \n",
       "\n",
       "    Birthday   Age  \n",
       "0 1985-03-04  39.0  \n",
       "1        NaT  <NA>  \n",
       "2 1988-01-25  36.0  \n",
       "3 1988-02-22  36.0  \n",
       "4        NaT  <NA>  "
      ]
     },
     "execution_count": 34,
     "metadata": {},
     "output_type": "execute_result"
    }
   ],
   "source": [
    "def Agecalculation(birthday, Present_date):\n",
    "    if pd.isna(birthday):\n",
    "        return pd.NA\n",
    "    try:\n",
    "        return np.floor((Present_date - birthday).days / 365.25)\n",
    "    except (OverflowError, ValueError):  \n",
    "        return pd.NA\n",
    "merged_df['Age'] = merged_df['Birthday'].apply(lambda x: Agecalculation(x, Present_date))\n",
    "merged_df.head()"
   ]
  },
  {
   "cell_type": "code",
   "execution_count": 35,
   "id": "192500e1-314f-490d-9d5e-f2af92311b20",
   "metadata": {},
   "outputs": [
    {
     "name": "stdout",
     "output_type": "stream",
     "text": [
      "-76.0\n"
     ]
    },
    {
     "data": {
      "text/plain": [
       "138.0"
      ]
     },
     "execution_count": 35,
     "metadata": {},
     "output_type": "execute_result"
    }
   ],
   "source": [
    "print(merged_df['Age'].min())\n",
    "merged_df['Age'].max()\n"
   ]
  },
  {
   "cell_type": "markdown",
   "id": "5623f846-94db-4935-93a4-c75922e28446",
   "metadata": {},
   "source": [
    "There are unrealistic ages in the age column. so, filtering out the age which is less than and eqal to zero and greater than 85 and filling the column which has unrealistic age value with NA."
   ]
  },
  {
   "cell_type": "code",
   "execution_count": 36,
   "id": "8026bd1d-d054-416d-add4-d24f50ad979f",
   "metadata": {},
   "outputs": [
    {
     "data": {
      "text/plain": [
       "5.0"
      ]
     },
     "execution_count": 36,
     "metadata": {},
     "output_type": "execute_result"
    }
   ],
   "source": [
    "merged_df['Age'] = merged_df['Age'].apply(lambda x: x if pd.notna(x) and 5 <= x <= 85 else pd.NA)\n",
    "merged_df['Age'].min()"
   ]
  },
  {
   "cell_type": "markdown",
   "id": "9e46283a-9440-44d7-ab95-8d719a3c3235",
   "metadata": {},
   "source": [
    "Dropping the birthday column because this will become redundant because already created the Age column."
   ]
  },
  {
   "cell_type": "code",
   "execution_count": 37,
   "id": "ff8725fc-7dda-4104-b681-d9974a1b271e",
   "metadata": {},
   "outputs": [],
   "source": [
    "merged_df.drop('Birthday', axis=1, inplace=True)"
   ]
  },
  {
   "cell_type": "markdown",
   "id": "846ced58-ba66-47de-b284-944ecae7a71e",
   "metadata": {},
   "source": [
    "##### Pre processing and EDA"
   ]
  },
  {
   "cell_type": "code",
   "execution_count": 38,
   "id": "ed3bdf76-365c-4d14-aa53-fb8ad8bb8256",
   "metadata": {},
   "outputs": [
    {
     "name": "stdout",
     "output_type": "stream",
     "text": [
      "Collecting scikit-learn\n",
      "  Downloading scikit_learn-1.5.2-cp310-cp310-manylinux_2_17_x86_64.manylinux2014_x86_64.whl.metadata (13 kB)\n",
      "Requirement already satisfied: numpy>=1.19.5 in /opt/conda/lib/python3.10/site-packages (from scikit-learn) (1.26.2)\n",
      "Collecting scipy>=1.6.0 (from scikit-learn)\n",
      "  Downloading scipy-1.14.1-cp310-cp310-manylinux_2_17_x86_64.manylinux2014_x86_64.whl.metadata (60 kB)\n",
      "\u001b[2K     \u001b[90m━━━━━━━━━━━━━━━━━━━━━━━━━━━━━━━━━━━━━━━━\u001b[0m \u001b[32m60.8/60.8 kB\u001b[0m \u001b[31m4.1 MB/s\u001b[0m eta \u001b[36m0:00:00\u001b[0m\n",
      "\u001b[?25hCollecting joblib>=1.2.0 (from scikit-learn)\n",
      "  Downloading joblib-1.4.2-py3-none-any.whl.metadata (5.4 kB)\n",
      "Collecting threadpoolctl>=3.1.0 (from scikit-learn)\n",
      "  Downloading threadpoolctl-3.5.0-py3-none-any.whl.metadata (13 kB)\n",
      "Downloading scikit_learn-1.5.2-cp310-cp310-manylinux_2_17_x86_64.manylinux2014_x86_64.whl (13.3 MB)\n",
      "\u001b[2K   \u001b[90m━━━━━━━━━━━━━━━━━━━━━━━━━━━━━━━━━━━━━━━━\u001b[0m \u001b[32m13.3/13.3 MB\u001b[0m \u001b[31m53.7 MB/s\u001b[0m eta \u001b[36m0:00:00\u001b[0m00:01\u001b[0m00:01\u001b[0m\n",
      "\u001b[?25hDownloading joblib-1.4.2-py3-none-any.whl (301 kB)\n",
      "\u001b[2K   \u001b[90m━━━━━━━━━━━━━━━━━━━━━━━━━━━━━━━━━━━━━━━━\u001b[0m \u001b[32m301.8/301.8 kB\u001b[0m \u001b[31m28.7 MB/s\u001b[0m eta \u001b[36m0:00:00\u001b[0m\n",
      "\u001b[?25hDownloading scipy-1.14.1-cp310-cp310-manylinux_2_17_x86_64.manylinux2014_x86_64.whl (41.2 MB)\n",
      "\u001b[2K   \u001b[90m━━━━━━━━━━━━━━━━━━━━━━━━━━━━━━━━━━━━━━━━\u001b[0m \u001b[32m41.2/41.2 MB\u001b[0m \u001b[31m46.0 MB/s\u001b[0m eta \u001b[36m0:00:00\u001b[0m00:01\u001b[0m00:01\u001b[0m\n",
      "\u001b[?25hDownloading threadpoolctl-3.5.0-py3-none-any.whl (18 kB)\n",
      "Installing collected packages: threadpoolctl, scipy, joblib, scikit-learn\n",
      "Successfully installed joblib-1.4.2 scikit-learn-1.5.2 scipy-1.14.1 threadpoolctl-3.5.0\n",
      "\u001b[33mWARNING: Running pip as the 'root' user can result in broken permissions and conflicting behaviour with the system package manager. It is recommended to use a virtual environment instead: https://pip.pypa.io/warnings/venv\u001b[0m\u001b[33m\n",
      "\u001b[0m"
     ]
    }
   ],
   "source": [
    "!pip install scikit-learn\n",
    "from sklearn.preprocessing import LabelEncoder, StandardScaler"
   ]
  },
  {
   "cell_type": "markdown",
   "id": "e29ac08b-8957-4080-8cfb-3739fc64c2fb",
   "metadata": {},
   "source": [
    "Filling the missing values in the age,completed,on hold, dropped, plan to watch,episodes watched, days watched, mean score, watching column with median value "
   ]
  },
  {
   "cell_type": "code",
   "execution_count": 39,
   "id": "71ad38cd-5e8d-4f39-be33-c30c254e2ef4",
   "metadata": {},
   "outputs": [
    {
     "name": "stderr",
     "output_type": "stream",
     "text": [
      "/tmp/ipykernel_31/3786785621.py:2: FutureWarning: Downcasting object dtype arrays on .fillna, .ffill, .bfill is deprecated and will change in a future version. Call result.infer_objects(copy=False) instead. To opt-in to the future behavior, set `pd.set_option('future.no_silent_downcasting', True)`\n",
      "  merged_df[imputation] = merged_df[imputation].apply(lambda col: col.fillna(col.median()))\n"
     ]
    },
    {
     "name": "stdout",
     "output_type": "stream",
     "text": [
      "Age                 0\n",
      "Completed           0\n",
      "On Hold             0\n",
      "Dropped             0\n",
      "Plan to Watch       0\n",
      "Episodes Watched    0\n",
      "Days Watched        0\n",
      "Mean Score          0\n",
      "Watching            0\n",
      "dtype: int64\n"
     ]
    }
   ],
   "source": [
    "imputation = ['Age','Completed', 'On Hold', 'Dropped', 'Plan to Watch', 'Episodes Watched', 'Days Watched', 'Mean Score', 'Watching']\n",
    "merged_df[imputation] = merged_df[imputation].apply(lambda col: col.fillna(col.median()))\n",
    "print(merged_df[imputation].isnull().sum())"
   ]
  },
  {
   "cell_type": "code",
   "execution_count": 40,
   "id": "9259bab7-8564-4de3-917b-c312686fd2ee",
   "metadata": {},
   "outputs": [],
   "source": [
    "cat_encode = {}\n",
    "for i in ['Genres', 'Score', 'Rating', 'Type']:\n",
    "    encoder = LabelEncoder()\n",
    "    merged_df[i] = encoder.fit_transform(merged_df[i])\n",
    "    cat_encode[i] = encoder"
   ]
  },
  {
   "cell_type": "markdown",
   "id": "f7949a9a-690e-4e1d-bf0b-a9255d7608d9",
   "metadata": {},
   "source": [
    "Dictionary cat_encode to store label encoders for categorical columns and then iterates over the specified columns (Genres, Score, Rating, and Type) in merged_df. For each column, created a LabelEncoder instance, and transformed those values into numeric labels. This transformation was then saved in merged_df, and the encoder object for each column is stored in the cat_encode dictionary, can be used in the future."
   ]
  },
  {
   "cell_type": "code",
   "execution_count": 41,
   "id": "465189c6-6264-409a-8fc4-5b6d0a9a7a0c",
   "metadata": {},
   "outputs": [
    {
     "name": "stdout",
     "output_type": "stream",
     "text": [
      "   anime_id  Genres  Score  user_id  Rating  Days Watched  Mean Score  \\\n",
      "0         1     143    543        1       3      0.065268   -0.276680   \n",
      "1         1     143    543        4       3      0.246867   -1.094311   \n",
      "2         1     143    543       20       3     -0.112983    0.540951   \n",
      "3         1     143    543       23       3      0.065783   -0.229281   \n",
      "4         1     143    543       47       3     -0.212411   -0.904715   \n",
      "\n",
      "   Watching  Completed   On Hold   Dropped  Plan to Watch  Episodes Watched  \\\n",
      "0 -0.472104  -0.352322 -0.203666  0.943238      -0.085157          0.043224   \n",
      "1 -0.034895   0.613150  7.433762 -0.372451      -0.192079          0.215727   \n",
      "2 -0.180631  -0.685326 -0.125997 -0.344156      -0.332767         -0.119741   \n",
      "3  0.081694  -0.196601 -0.281334 -0.103654      -0.163942          0.047494   \n",
      "4 -0.064042  -0.661369  0.158789 -0.330009      -0.338394         -0.212317   \n",
      "\n",
      "   Type  rating       Age  \n",
      "0     5      10  1.749409  \n",
      "1     5       8 -0.041151  \n",
      "2     5       9  0.854129  \n",
      "3     5       9  0.854129  \n",
      "4     5       7 -0.041151  \n"
     ]
    }
   ],
   "source": [
    "std = ['Days Watched', 'Mean Score', 'Watching', 'Completed', \n",
    "                       'On Hold', 'Dropped', 'Plan to Watch', 'Episodes Watched', 'Age']\n",
    "scaler = StandardScaler()\n",
    "merged_df[std] = scaler.fit_transform(merged_df[std])\n",
    "print(merged_df.head())"
   ]
  },
  {
   "cell_type": "markdown",
   "id": "3584677b-c69e-4efb-96e6-a528b94d14d2",
   "metadata": {},
   "source": [
    "Normalized the columns so, that all the values on the same scale. "
   ]
  },
  {
   "cell_type": "code",
   "execution_count": 42,
   "id": "566eeea1-4ed9-4b88-bd38-262967582915",
   "metadata": {},
   "outputs": [
    {
     "data": {
      "text/html": [
       "<div>\n",
       "<style scoped>\n",
       "    .dataframe tbody tr th:only-of-type {\n",
       "        vertical-align: middle;\n",
       "    }\n",
       "\n",
       "    .dataframe tbody tr th {\n",
       "        vertical-align: top;\n",
       "    }\n",
       "\n",
       "    .dataframe thead th {\n",
       "        text-align: right;\n",
       "    }\n",
       "</style>\n",
       "<table border=\"1\" class=\"dataframe\">\n",
       "  <thead>\n",
       "    <tr style=\"text-align: right;\">\n",
       "      <th></th>\n",
       "      <th>anime_id</th>\n",
       "      <th>Genres</th>\n",
       "      <th>Score</th>\n",
       "      <th>user_id</th>\n",
       "      <th>Rating</th>\n",
       "      <th>Days Watched</th>\n",
       "      <th>Mean Score</th>\n",
       "      <th>Watching</th>\n",
       "      <th>Completed</th>\n",
       "      <th>On Hold</th>\n",
       "      <th>Dropped</th>\n",
       "      <th>Plan to Watch</th>\n",
       "      <th>Episodes Watched</th>\n",
       "      <th>Type</th>\n",
       "      <th>rating</th>\n",
       "      <th>Age</th>\n",
       "    </tr>\n",
       "  </thead>\n",
       "  <tbody>\n",
       "    <tr>\n",
       "      <th>0</th>\n",
       "      <td>1</td>\n",
       "      <td>143</td>\n",
       "      <td>543</td>\n",
       "      <td>1</td>\n",
       "      <td>3</td>\n",
       "      <td>0.065268</td>\n",
       "      <td>-0.276680</td>\n",
       "      <td>-0.472104</td>\n",
       "      <td>-0.352322</td>\n",
       "      <td>-0.203666</td>\n",
       "      <td>0.943238</td>\n",
       "      <td>-0.085157</td>\n",
       "      <td>0.043224</td>\n",
       "      <td>5</td>\n",
       "      <td>10</td>\n",
       "      <td>1.749409</td>\n",
       "    </tr>\n",
       "    <tr>\n",
       "      <th>1</th>\n",
       "      <td>1</td>\n",
       "      <td>143</td>\n",
       "      <td>543</td>\n",
       "      <td>4</td>\n",
       "      <td>3</td>\n",
       "      <td>0.246867</td>\n",
       "      <td>-1.094311</td>\n",
       "      <td>-0.034895</td>\n",
       "      <td>0.613150</td>\n",
       "      <td>7.433762</td>\n",
       "      <td>-0.372451</td>\n",
       "      <td>-0.192079</td>\n",
       "      <td>0.215727</td>\n",
       "      <td>5</td>\n",
       "      <td>8</td>\n",
       "      <td>-0.041151</td>\n",
       "    </tr>\n",
       "    <tr>\n",
       "      <th>2</th>\n",
       "      <td>1</td>\n",
       "      <td>143</td>\n",
       "      <td>543</td>\n",
       "      <td>20</td>\n",
       "      <td>3</td>\n",
       "      <td>-0.112983</td>\n",
       "      <td>0.540951</td>\n",
       "      <td>-0.180631</td>\n",
       "      <td>-0.685326</td>\n",
       "      <td>-0.125997</td>\n",
       "      <td>-0.344156</td>\n",
       "      <td>-0.332767</td>\n",
       "      <td>-0.119741</td>\n",
       "      <td>5</td>\n",
       "      <td>9</td>\n",
       "      <td>0.854129</td>\n",
       "    </tr>\n",
       "    <tr>\n",
       "      <th>3</th>\n",
       "      <td>1</td>\n",
       "      <td>143</td>\n",
       "      <td>543</td>\n",
       "      <td>23</td>\n",
       "      <td>3</td>\n",
       "      <td>0.065783</td>\n",
       "      <td>-0.229281</td>\n",
       "      <td>0.081694</td>\n",
       "      <td>-0.196601</td>\n",
       "      <td>-0.281334</td>\n",
       "      <td>-0.103654</td>\n",
       "      <td>-0.163942</td>\n",
       "      <td>0.047494</td>\n",
       "      <td>5</td>\n",
       "      <td>9</td>\n",
       "      <td>0.854129</td>\n",
       "    </tr>\n",
       "    <tr>\n",
       "      <th>4</th>\n",
       "      <td>1</td>\n",
       "      <td>143</td>\n",
       "      <td>543</td>\n",
       "      <td>47</td>\n",
       "      <td>3</td>\n",
       "      <td>-0.212411</td>\n",
       "      <td>-0.904715</td>\n",
       "      <td>-0.064042</td>\n",
       "      <td>-0.661369</td>\n",
       "      <td>0.158789</td>\n",
       "      <td>-0.330009</td>\n",
       "      <td>-0.338394</td>\n",
       "      <td>-0.212317</td>\n",
       "      <td>5</td>\n",
       "      <td>7</td>\n",
       "      <td>-0.041151</td>\n",
       "    </tr>\n",
       "  </tbody>\n",
       "</table>\n",
       "</div>"
      ],
      "text/plain": [
       "   anime_id  Genres  Score  user_id  Rating  Days Watched  Mean Score  \\\n",
       "0         1     143    543        1       3      0.065268   -0.276680   \n",
       "1         1     143    543        4       3      0.246867   -1.094311   \n",
       "2         1     143    543       20       3     -0.112983    0.540951   \n",
       "3         1     143    543       23       3      0.065783   -0.229281   \n",
       "4         1     143    543       47       3     -0.212411   -0.904715   \n",
       "\n",
       "   Watching  Completed   On Hold   Dropped  Plan to Watch  Episodes Watched  \\\n",
       "0 -0.472104  -0.352322 -0.203666  0.943238      -0.085157          0.043224   \n",
       "1 -0.034895   0.613150  7.433762 -0.372451      -0.192079          0.215727   \n",
       "2 -0.180631  -0.685326 -0.125997 -0.344156      -0.332767         -0.119741   \n",
       "3  0.081694  -0.196601 -0.281334 -0.103654      -0.163942          0.047494   \n",
       "4 -0.064042  -0.661369  0.158789 -0.330009      -0.338394         -0.212317   \n",
       "\n",
       "   Type  rating       Age  \n",
       "0     5      10  1.749409  \n",
       "1     5       8 -0.041151  \n",
       "2     5       9  0.854129  \n",
       "3     5       9  0.854129  \n",
       "4     5       7 -0.041151  "
      ]
     },
     "execution_count": 42,
     "metadata": {},
     "output_type": "execute_result"
    }
   ],
   "source": [
    "merged_df.head()"
   ]
  },
  {
   "cell_type": "code",
   "execution_count": 43,
   "id": "3a87a367-d5fe-46dc-ac51-598296b56621",
   "metadata": {},
   "outputs": [
    {
     "name": "stdout",
     "output_type": "stream",
     "text": [
      "<class 'pandas.core.frame.DataFrame'>\n",
      "RangeIndex: 23803248 entries, 0 to 23803247\n",
      "Data columns (total 16 columns):\n",
      " #   Column            Dtype  \n",
      "---  ------            -----  \n",
      " 0   anime_id          int64  \n",
      " 1   Genres            int64  \n",
      " 2   Score             int64  \n",
      " 3   user_id           int64  \n",
      " 4   Rating            int64  \n",
      " 5   Days Watched      float64\n",
      " 6   Mean Score        float64\n",
      " 7   Watching          float64\n",
      " 8   Completed         float64\n",
      " 9   On Hold           float64\n",
      " 10  Dropped           float64\n",
      " 11  Plan to Watch     float64\n",
      " 12  Episodes Watched  float64\n",
      " 13  Type              int64  \n",
      " 14  rating            int64  \n",
      " 15  Age               float64\n",
      "dtypes: float64(9), int64(7)\n",
      "memory usage: 2.8 GB\n"
     ]
    }
   ],
   "source": [
    "merged_df.info()"
   ]
  },
  {
   "cell_type": "code",
   "execution_count": 44,
   "id": "cb49a350-b49b-4a30-9c7a-1b5a94be5a1c",
   "metadata": {},
   "outputs": [
    {
     "data": {
      "text/plain": [
       "anime_id            0\n",
       "Genres              0\n",
       "Score               0\n",
       "user_id             0\n",
       "Rating              0\n",
       "Days Watched        0\n",
       "Mean Score          0\n",
       "Watching            0\n",
       "Completed           0\n",
       "On Hold             0\n",
       "Dropped             0\n",
       "Plan to Watch       0\n",
       "Episodes Watched    0\n",
       "Type                0\n",
       "rating              0\n",
       "Age                 0\n",
       "dtype: int64"
      ]
     },
     "execution_count": 44,
     "metadata": {},
     "output_type": "execute_result"
    }
   ],
   "source": [
    "merged_df.isnull().sum()"
   ]
  },
  {
   "cell_type": "code",
   "execution_count": 45,
   "id": "4c211dff-dfea-4a16-817a-c7f9685456aa",
   "metadata": {},
   "outputs": [],
   "source": [
    "from sklearn.model_selection import train_test_split\n",
    "merged_df, _ = train_test_split(merged_df, train_size=0.5, stratify=merged_df['rating'], random_state=42)"
   ]
  },
  {
   "cell_type": "markdown",
   "id": "c040de73-129c-4ac4-995d-186a22abd2ce",
   "metadata": {},
   "source": [
    "##### Distribution of Rating"
   ]
  },
  {
   "cell_type": "code",
   "execution_count": 46,
   "id": "010521f1-75bf-4402-a65e-651803d78117",
   "metadata": {},
   "outputs": [
    {
     "name": "stdout",
     "output_type": "stream",
     "text": [
      "Collecting seaborn\n",
      "  Downloading seaborn-0.13.2-py3-none-any.whl.metadata (5.4 kB)\n",
      "Requirement already satisfied: numpy!=1.24.0,>=1.20 in /opt/conda/lib/python3.10/site-packages (from seaborn) (1.26.2)\n",
      "Requirement already satisfied: pandas>=1.2 in /opt/conda/lib/python3.10/site-packages (from seaborn) (2.2.3)\n",
      "Requirement already satisfied: matplotlib!=3.6.1,>=3.4 in /opt/conda/lib/python3.10/site-packages (from seaborn) (3.9.2)\n",
      "Requirement already satisfied: contourpy>=1.0.1 in /opt/conda/lib/python3.10/site-packages (from matplotlib!=3.6.1,>=3.4->seaborn) (1.3.0)\n",
      "Requirement already satisfied: cycler>=0.10 in /opt/conda/lib/python3.10/site-packages (from matplotlib!=3.6.1,>=3.4->seaborn) (0.12.1)\n",
      "Requirement already satisfied: fonttools>=4.22.0 in /opt/conda/lib/python3.10/site-packages (from matplotlib!=3.6.1,>=3.4->seaborn) (4.54.1)\n",
      "Requirement already satisfied: kiwisolver>=1.3.1 in /opt/conda/lib/python3.10/site-packages (from matplotlib!=3.6.1,>=3.4->seaborn) (1.4.7)\n",
      "Requirement already satisfied: packaging>=20.0 in /opt/conda/lib/python3.10/site-packages (from matplotlib!=3.6.1,>=3.4->seaborn) (23.1)\n",
      "Requirement already satisfied: pillow>=8 in /opt/conda/lib/python3.10/site-packages (from matplotlib!=3.6.1,>=3.4->seaborn) (10.0.1)\n",
      "Requirement already satisfied: pyparsing>=2.3.1 in /opt/conda/lib/python3.10/site-packages (from matplotlib!=3.6.1,>=3.4->seaborn) (3.2.0)\n",
      "Requirement already satisfied: python-dateutil>=2.7 in /opt/conda/lib/python3.10/site-packages (from matplotlib!=3.6.1,>=3.4->seaborn) (2.8.2)\n",
      "Requirement already satisfied: pytz>=2020.1 in /opt/conda/lib/python3.10/site-packages (from pandas>=1.2->seaborn) (2023.3.post1)\n",
      "Requirement already satisfied: tzdata>=2022.7 in /opt/conda/lib/python3.10/site-packages (from pandas>=1.2->seaborn) (2024.2)\n",
      "Requirement already satisfied: six>=1.5 in /opt/conda/lib/python3.10/site-packages (from python-dateutil>=2.7->matplotlib!=3.6.1,>=3.4->seaborn) (1.16.0)\n",
      "Downloading seaborn-0.13.2-py3-none-any.whl (294 kB)\n",
      "\u001b[2K   \u001b[90m━━━━━━━━━━━━━━━━━━━━━━━━━━━━━━━━━━━━━━━━\u001b[0m \u001b[32m294.9/294.9 kB\u001b[0m \u001b[31m17.8 MB/s\u001b[0m eta \u001b[36m0:00:00\u001b[0m\n",
      "\u001b[?25hInstalling collected packages: seaborn\n",
      "Successfully installed seaborn-0.13.2\n",
      "\u001b[33mWARNING: Running pip as the 'root' user can result in broken permissions and conflicting behaviour with the system package manager. It is recommended to use a virtual environment instead: https://pip.pypa.io/warnings/venv\u001b[0m\u001b[33m\n",
      "\u001b[0mNote: you may need to restart the kernel to use updated packages.\n"
     ]
    }
   ],
   "source": [
    "pip install seaborn"
   ]
  },
  {
   "cell_type": "code",
   "execution_count": 47,
   "id": "669449e8-9a2c-4708-a58a-5dfc89059a04",
   "metadata": {},
   "outputs": [
    {
     "data": {
      "image/png": "[encoded data removed]",
      "text/plain": [
       "<Figure size 1000x600 with 1 Axes>"
      ]
     },
     "metadata": {},
     "output_type": "display_data"
    }
   ],
   "source": [
    "import matplotlib.pyplot as plt\n",
    "import seaborn as sns\n",
    "\n",
    "plt.figure(figsize=(10, 6))\n",
    "sns.countplot(data=merged_df, x='Rating')\n",
    "plt.title('Distribution of Rating')\n",
    "plt.xlabel('Rating')\n",
    "plt.ylabel('Count')\n",
    "plt.xticks(rotation=45)  \n",
    "plt.show()"
   ]
  },
  {
   "cell_type": "markdown",
   "id": "b704c417-bb3c-489a-86f3-29e0dbb2af0f",
   "metadata": {},
   "source": [
    "The count plot displayed above represents the distribution of Rating in the data set. It shows that the count of Rating value 2 is much higher than other ratings, which makes Rating value 2 as the most frequently used rating value, the second one is Rating value 3. The remaining ratings of 0, 1, 5, and 6 are less frequent; therefore, it is clear that the majority of the users are likely to rate in a certain range with preference to some middle ratings like 2 and 3. Such a shift in ratings might explain why the actual distribution of ratings might trend towards the average rating within the same dataset."
   ]
  },
  {
   "cell_type": "markdown",
   "id": "d02ab035-32df-4f5b-8ce1-139803988701",
   "metadata": {},
   "source": [
    "#####  Line Plot - Average Mean Score by Age"
   ]
  },
  {
   "cell_type": "code",
   "execution_count": 48,
   "id": "d4c9866e-8233-4ecf-9419-5628de5e1864",
   "metadata": {},
   "outputs": [
    {
     "data": {
      "image/png": "[encoded data removed]",
      "text/plain": [
       "<Figure size 1000x600 with 1 Axes>"
      ]
     },
     "metadata": {},
     "output_type": "display_data"
    }
   ],
   "source": [
    "avg_score_by_age = merged_df.groupby('Age')['Mean Score'].mean()\n",
    "plt.figure(figsize=(10, 6))\n",
    "plt.plot(avg_score_by_age.index, avg_score_by_age.values, marker='o', color='teal')\n",
    "plt.title('Average Mean Score by Age')\n",
    "plt.xlabel('Age')\n",
    "plt.ylabel('Average Mean Score')\n",
    "plt.show()"
   ]
  },
  {
   "cell_type": "markdown",
   "id": "33ee0976-0d77-4fea-90a8-e31967da8291",
   "metadata": {},
   "source": [
    "The line plot depicts Mean Score of anime in terms of Age groups of students. The variations suggest that anime is most preferred by some ages and disliked by others as the latter gives the average rating of anime. In the graph, higher points mean age groups that are likely to provide higher score while low point indicate lower scoring age groups. Nonetheless, negative or nonmeaningful values of age indicate data quality concerns, which might require resolution to promote better understanding."
   ]
  },
  {
   "cell_type": "markdown",
   "id": "efa3f5a6-6d57-4853-af3c-689189ee208e",
   "metadata": {},
   "source": [
    "##### Histogram - Distribution of Days Watched"
   ]
  },
  {
   "cell_type": "code",
   "execution_count": 49,
   "id": "dbb24b05-3c06-4841-aadc-9d4358d84a08",
   "metadata": {},
   "outputs": [
    {
     "data": {
      "image/png": "[encoded data removed]",
      "text/plain": [
       "<Figure size 800x800 with 1 Axes>"
      ]
     },
     "metadata": {},
     "output_type": "display_data"
    }
   ],
   "source": [
    "type_counts = merged_df['Type'].value_counts()\n",
    "plt.figure(figsize=(8, 8))\n",
    "plt.pie(type_counts, labels=type_counts.index, autopct='%1.1f%%', startangle=140)\n",
    "plt.title('Distribution of Anime Type')\n",
    "plt.show()"
   ]
  },
  {
   "cell_type": "markdown",
   "id": "d15434ae-00ca-4e57-afff-a46511ce99dd",
   "metadata": {},
   "source": [
    "Displays the proportion of different anime types (like TV, Movie, OVA). Plotted to findout which is the most used type in the dataset"
   ]
  },
  {
   "cell_type": "markdown",
   "id": "d87ab764-6c1c-41eb-a3c0-64b69f8dce07",
   "metadata": {},
   "source": [
    "##### Wide and Deep Model"
   ]
  },
  {
   "attachments": {
    "7d06424f-60a1-49d5-985f-34827862dba7.png": {
     "image/png": "[encoded data removed]"
    }
   },
   "cell_type": "markdown",
   "id": "49d03719-8d83-4423-9292-2559f013bf7d",
   "metadata": {},
   "source": [
    "![image.png](attachment:7d06424f-60a1-49d5-985f-34827862dba7.png)"
   ]
  },
  {
   "attachments": {
    "168eb961-012d-48b3-ab0a-61aa9fd9f857.png": {
     "image/png": "[encoded data removed]"
    }
   },
   "cell_type": "markdown",
   "id": "71136d3e-7a60-411b-8cb2-1e72b47266f4",
   "metadata": {},
   "source": [
    "![image.png](attachment:168eb961-012d-48b3-ab0a-61aa9fd9f857.png)"
   ]
  },
  {
   "cell_type": "markdown",
   "id": "18d376e6-3dfe-4f2a-a7b9-7f1861bb5ca9",
   "metadata": {},
   "source": [
    "##### Model Definition - AnimeWideAndDeepModel"
   ]
  },
  {
   "cell_type": "code",
   "execution_count": 50,
   "id": "981159e2-b814-4a84-b66a-b9988d695066",
   "metadata": {},
   "outputs": [],
   "source": [
    "import torch\n",
    "import torch.nn as nn\n",
    "import torch.nn.functional as F\n",
    "\n",
    "class AnimeWideAndDeepModel(nn.Module):\n",
    "    def __init__(self, num_users, num_anime_titles, num_genre_types, user_embedding_dim, anime_embedding_dim, genre_embedding_dim, num_continuous_features):\n",
    "        super(AnimeWideAndDeepModel, self).__init__()\n",
    "        # Linear layer for the wide part of the model\n",
    "        self.wide_layer = nn.Linear(num_continuous_features, 1)\n",
    "        # Embedding layers for users, anime titles, and genres\n",
    "        self.user_embedding = nn.Embedding(num_users, user_embedding_dim)\n",
    "        self.anime_embedding = nn.Embedding(num_anime_titles, anime_embedding_dim)\n",
    "        self.genre_embedding = nn.Embedding(num_genre_types, genre_embedding_dim)\n",
    "        # Calculate the input dimension for the deep part of the model\n",
    "        deep_input_dim = user_embedding_dim + anime_embedding_dim + genre_embedding_dim + num_continuous_features\n",
    "        # Fully connected layers for the deep part of the model\n",
    "        self.deep_fc1 = nn.Linear(deep_input_dim, 128)\n",
    "        self.deep_fc2 = nn.Linear(128, 64)\n",
    "        self.deep_fc3 = nn.Linear(64, 32)\n",
    "        # Output layer combining wide and deep parts\n",
    "        self.output_layer = nn.Linear(1 + 32, 1)\n",
    "    def forward(self, user_id, anime_id, genre_id, continuous_features):\n",
    "        # Wide part: Apply linear layer to continuous features\n",
    "        wide_output = self.wide_layer(continuous_features)\n",
    "        # Deep part: Embed user, anime, and genre IDs\n",
    "        user_embed = self.user_embedding(user_id).squeeze(1)\n",
    "        anime_embed = self.anime_embedding(anime_id).squeeze(1)\n",
    "        genre_embed = self.genre_embedding(genre_id).squeeze(1)\n",
    "        # Concatenate embeddings and continuous features for the deep input\n",
    "        deep_input = torch.cat([user_embed, anime_embed, genre_embed, continuous_features], dim=1)\n",
    "        # Pass through fully connected layers with ReLU activations\n",
    "        deep_output = F.relu(self.deep_fc1(deep_input))\n",
    "        deep_output = F.relu(self.deep_fc2(deep_output))\n",
    "        deep_output = F.relu(self.deep_fc3(deep_output))\n",
    "         # Combine wide and deep outputs\n",
    "        combined_output = torch.cat([wide_output, deep_output], dim=1)\n",
    "        # Final output layer\n",
    "        final_output = self.output_layer(combined_output)\n",
    "        return final_output"
   ]
  },
  {
   "cell_type": "markdown",
   "id": "81be0f16-1ea2-4a13-9707-ad01fd8e8157",
   "metadata": {},
   "source": [
    "Defined AnimeWideAndDeepModel, for predicting ratings using word embeddings of user, anime, and genre, as well as continuous covariates. It consists of a linear layer that deals with continuous feature and works in parallel with a feature embedding neural network that works with categorical features such as user IDs, anime titles, and genres. It then converts the category variables into vectors of the required dimensions, joins the numerical features and Feed-Forward neural network (deep learning component) to find non-linear association. The model then averages the wide and deep outputs and then passes it through a single linear layer to give a single prediction. "
   ]
  },
  {
   "cell_type": "markdown",
   "id": "5e14404b-7af8-424a-9698-3941c83ca364",
   "metadata": {},
   "source": [
    "##### Dataset Class: AnimeRatingsDataset"
   ]
  },
  {
   "cell_type": "code",
   "execution_count": 53,
   "id": "7140f189-457f-49ca-b8b3-2fdce6276f9c",
   "metadata": {},
   "outputs": [
    {
     "name": "stdout",
     "output_type": "stream",
     "text": [
      "Requirement already satisfied: scikit-learn in /opt/conda/lib/python3.10/site-packages (1.5.2)\n",
      "Requirement already satisfied: numpy>=1.19.5 in /opt/conda/lib/python3.10/site-packages (from scikit-learn) (1.26.2)\n",
      "Requirement already satisfied: scipy>=1.6.0 in /opt/conda/lib/python3.10/site-packages (from scikit-learn) (1.14.1)\n",
      "Requirement already satisfied: joblib>=1.2.0 in /opt/conda/lib/python3.10/site-packages (from scikit-learn) (1.4.2)\n",
      "Requirement already satisfied: threadpoolctl>=3.1.0 in /opt/conda/lib/python3.10/site-packages (from scikit-learn) (3.5.0)\n",
      "\u001b[33mWARNING: Running pip as the 'root' user can result in broken permissions and conflicting behaviour with the system package manager. It is recommended to use a virtual environment instead: https://pip.pypa.io/warnings/venv\u001b[0m\u001b[33m\n",
      "\u001b[0mNote: you may need to restart the kernel to use updated packages.\n"
     ]
    }
   ],
   "source": [
    "pip install scikit-learn"
   ]
  },
  {
   "cell_type": "code",
   "execution_count": 54,
   "id": "d69e3030-2a42-463a-8823-80c4b82c216e",
   "metadata": {},
   "outputs": [],
   "source": [
    "from torch.utils.data import Dataset\n",
    "import torch\n",
    "class AnimeRatingsDataset(Dataset):\n",
    "    def __init__(self, data_frame, scaler=None):\n",
    "         # Initialize with a DataFrame and an optional scaler for normalization\n",
    "        self.data_frame = data_frame\n",
    "        self.scaler = scaler\n",
    "        # If a scaler is provided, normalize specified columns\n",
    "        if scaler:\n",
    "            self.data_frame.loc[:, ['Days Watched', 'Mean Score', 'Watching', 'Completed', 'On Hold', 'Dropped', 'Plan to Watch', 'Episodes Watched', 'Age']] = scaler.transform(\n",
    "                self.data_frame[['Days Watched', 'Mean Score', 'Watching', 'Completed', 'On Hold', 'Dropped', 'Plan to Watch', 'Episodes Watched', 'Age']])\n",
    "    def __len__(self):\n",
    "        # Return the length of the dataset\n",
    "        return len(self.data_frame)\n",
    "    def __getitem__(self, idx):\n",
    "        # Retrieve a row at the given index\n",
    "        row = self.data_frame.iloc[idx]\n",
    "        # Extract user ID, anime ID, and genre ID as tensors of long integer type\n",
    "        user_id = torch.tensor(row['user_id'], dtype=torch.long)\n",
    "        anime_id = torch.tensor(row['anime_id'], dtype=torch.long)\n",
    "        genre_id = torch.tensor(row['Genres'], dtype=torch.long)\n",
    "        # Extract continuous features as a tensor of float type\n",
    "        continuous_features = torch.tensor([\n",
    "            row['Days Watched'], row['Mean Score'], row['Watching'], row['Completed'],\n",
    "            row['On Hold'], row['Dropped'], row['Plan to Watch'], row['Episodes Watched'], row['Age']\n",
    "        ], dtype=torch.float)\n",
    "         # Extract the rating as a tensor of float type\n",
    "        rating = torch.tensor(row['rating'], dtype=torch.float)\n",
    "        # Return all extracted values for use in model training or evaluation\n",
    "        return user_id, anime_id, genre_id, continuous_features, rating"
   ]
  },
  {
   "cell_type": "markdown",
   "id": "9283346b-5768-42af-a4c1-21d03d20e51c",
   "metadata": {},
   "source": [
    "class : AnimeRatingsDataset. The function uses pandas DataFrame with the following information: user, anime, genre, continuous features and rating. If a scaler is provided, the continuous features are scaled before they will be used in training so that features with large scales can be easily handled by the model. The len method provides the size of the dataset and the getitem method allows to get the records by their index: the user_id, anime_id and Genres are casted into the tensor suitable for embedding, the continuous features and the target rating are gathered into the tensors of the proper type. This structure also allows PyTorch’s DataLoader to work with it by batch and shuffle the data while training the model and calculating its performance."
   ]
  },
  {
   "cell_type": "markdown",
   "id": "c0f4fbed-e2b8-4915-95c9-fd7c401f8777",
   "metadata": {},
   "source": [
    "#### Data Splitting and Scaling"
   ]
  },
  {
   "cell_type": "code",
   "execution_count": 55,
   "id": "eaee41a1-9347-4952-83d2-97d14a8a4e5c",
   "metadata": {},
   "outputs": [],
   "source": [
    "from sklearn.model_selection import train_test_split\n",
    "from sklearn.preprocessing import StandardScaler\n",
    "from torch.utils.data import DataLoader, Subset\n",
    "def split_and_scale_data(anime_data_frame):\n",
    "    # Randomly sample 50% of the data, stratifying by the 'rating' column to maintain distribution\n",
    "    sampled_df, _ = train_test_split(merged_df, train_size=0.5, stratify=merged_df['rating'], random_state=42)\n",
    "    # Initialize a scaler and fit it to the continuous features in the sampled data\n",
    "    scaler = StandardScaler()\n",
    "    scaler.fit(sampled_df[['Days Watched', 'Mean Score', 'Watching', 'Completed', 'On Hold', 'Dropped', 'Plan to Watch', 'Episodes Watched', 'Age']])\n",
    "    # Split the sampled data into training and testing indices with an 80-20 split\n",
    "    train_indices, test_indices = train_test_split(np.arange(len(sampled_df)), test_size=0.2, random_state=42)\n",
    "    # Create dataset subsets for training and testing, passing the scaler for feature normalization\n",
    "    train_data = Subset(AnimeRatingsDataset(sampled_df, scaler=scaler), train_indices)\n",
    "    test_data = Subset(AnimeRatingsDataset(sampled_df, scaler=scaler), test_indices)\n",
    "    # Create DataLoader objects for each subset, with a batch size of 64 and shuffling for the training set\n",
    "    train_loader = DataLoader(train_data, batch_size=64, shuffle=True)\n",
    "    test_loader = DataLoader(test_data, batch_size=64, shuffle=False)\n",
    "    # Return the DataLoader objects for use in model training and evaluation\n",
    "    return train_loader, test_loader"
   ]
  },
  {
   "cell_type": "markdown",
   "id": "be85a9af-ce56-4a1a-9444-476e163ae01c",
   "metadata": {},
   "source": [
    "Defined split and scale data function to split anime data. It first selects 50 % of the data from datset in a way that the sample distribution of the rating values is proportional to that of the population (stratified sample). It then scales continuous features using StandardScaler so as to transform them, which boosts model performance. The last step involves partitioning of the sampled data into training indices and the testing indices in the ratio 8:2 respectively. The AnimeRatingsDataset class is used to create train and test subsets, after which the scaler is used to make continuous features more standard. Last, DataLoaders are built for both partitions with the defined batch sizes to load data and shuffle it in the training set during the model training and testing processes."
   ]
  },
  {
   "cell_type": "code",
   "execution_count": 56,
   "id": "d8bab42e-c353-426a-9dcc-fecc1d6109c2",
   "metadata": {},
   "outputs": [],
   "source": [
    "from sklearn.metrics import mean_squared_error\n",
    "import numpy as np\n",
    "\n",
    "def calculate_rmse(true_ratings, predicted_ratings):\n",
    "    return np.sqrt(mean_squared_error(true_ratings, predicted_ratings))"
   ]
  },
  {
   "cell_type": "markdown",
   "id": "37d2c868-81c3-46e2-bc30-a7a5003e4e96",
   "metadata": {},
   "source": [
    "##### Training Function"
   ]
  },
  {
   "cell_type": "code",
   "execution_count": 57,
   "id": "8b83dfd6-0236-4762-aaa3-5bc8e8adde63",
   "metadata": {},
   "outputs": [],
   "source": [
    "import torch.optim as optim\n",
    "from tqdm import tqdm\n",
    "def train_anime_model(anime_model, anime_train_loader, num_epochs, loss_criterion, model_optimizer, device):\n",
    "    \"\"\"\n",
    "    Trains the anime recommendation model over a specified number of epochs.\n",
    "\n",
    "    Parameters:\n",
    "    anime_model (nn.Module): The model to be trained.\n",
    "    anime_train_loader (DataLoader): DataLoader containing training data.\n",
    "    num_epochs (int): Number of epochs to train the model.\n",
    "    loss_criterion (nn.Module): Loss function used to calculate the training error.\n",
    "    model_optimizer (torch.optim): Optimizer for updating the model's parameters.\n",
    "    device (torch.device): Device on which to run the computations (e.g., 'cpu' or 'cuda').\n",
    "\n",
    "    Returns:\n",
    "    None\n",
    "    \"\"\"\n",
    "    for epoch in range(num_epochs): # Iterate through each epoch for model training\n",
    "        # Set the model to training mode\n",
    "        anime_model.train()\n",
    "        # Initialize total loss for the epoch\n",
    "        total_loss = 0.0\n",
    "        # Progress bar for tracking epoch progress\n",
    "        progress_bar = tqdm(anime_train_loader, desc=f\"Epoch {epoch+1}/{num_epochs}\", leave=False)\n",
    "        # Iterate through batches of data in the DataLoader\n",
    "        for user_id, anime_id, genre_id, continuous_features, rating_target in progress_bar:\n",
    "            # Transfer data to the specified device (e.g., GPU)\n",
    "            user_id, anime_id, genre_id, continuous_features, rating_target = user_id.to(device), anime_id.to(device), genre_id.to(device), continuous_features.to(device), rating_target.to(device)\n",
    "            # Forward pass: Predict ratings using the model\n",
    "            predicted_rating = anime_model(user_id, anime_id, genre_id, continuous_features)\n",
    "            # Calculate the loss between predicted and actual ratings\n",
    "            loss = loss_criterion(predicted_rating.squeeze(), rating_target)\n",
    "            # Zero the gradients to prevent accumulation from previous iterations\n",
    "            model_optimizer.zero_grad()\n",
    "            # Backward pass: Compute gradients for model parameters\n",
    "            loss.backward()\n",
    "            # Step the optimizer to update model parameters\n",
    "            model_optimizer.step()\n",
    "            # Accumulate loss for reporting\n",
    "            total_loss += loss.item()\n",
    "        # Calculate average loss for the epoch\n",
    "        average_loss = total_loss / len(anime_train_loader)\n",
    "        # Print the average loss for the current epoch\n",
    "        print(f\"Epoch [{epoch+1}/{num_epochs}], Loss: {average_loss:.4f}\")"
   ]
  },
  {
   "cell_type": "markdown",
   "id": "74477dc7-1545-4013-bc3c-f150a11e1745",
   "metadata": {},
   "source": [
    "train_anime_model function defined to train an anime recommendation model through multiple epochs with a training Data Loader. In each epoch the model goes into training mode and for each batch it samples from the anime_train_loader. For each batch, it transfers input tensors including user ID, anime ID, genre ID, continuous features and target ratings to the desired device either CPU or GPU. Predicted values are ratings in this case and then you get the difference between the predicted and actual values by using the defined loss function. The loss is then propagated back, and model_optimizer then updates the model’s weights after the gradients have been set to zero. It keeps and visualizes the average loss per epoch that can be used for training performance in terms of the epochs. "
   ]
  },
  {
   "cell_type": "markdown",
   "id": "1ae4261d-6370-43dc-80f9-bab99c90f83c",
   "metadata": {},
   "source": [
    "##### Evaluation Function with RMSE and Accuracy Calculation"
   ]
  },
  {
   "cell_type": "code",
   "execution_count": 58,
   "id": "cb8b7b06-498e-4b93-8a91-c3d7ab5d7bfa",
   "metadata": {},
   "outputs": [],
   "source": [
    "import torch\n",
    "import numpy as np\n",
    "from tqdm import tqdm\n",
    "# Evaluates the anime recommendation model on the test dataset and computes the RMSE and accuracy within a threshold.\n",
    "def evaluate_anime_model(anime_model, anime_test_loader, threshold=0.5, device='cpu'):\n",
    "    # Set model to evaluation mode\n",
    "    anime_model.eval()\n",
    "    # Initialize lists to store true and predicted ratings for RMSE calculation\n",
    "    all_true_ratings, all_predicted_ratings = [], []\n",
    "    # Variables to track correct predictions within the specified threshold\n",
    "    correct_within_threshold, total_predictions = 0, 0\n",
    "    # Disable gradient calculation for evaluation\n",
    "    with torch.no_grad():\n",
    "        # Iterate over the test dataset\n",
    "        for user_id, anime_id, genre_id, continuous_features, true_rating in tqdm(anime_test_loader, desc=\"Testing\"):\n",
    "             # Move data to the specified device (e.g., GPU or CPU)\n",
    "            user_id, anime_id, genre_id, continuous_features, true_rating = user_id.to(device), anime_id.to(device), genre_id.to(device), continuous_features.to(device), true_rating.to(device)       \n",
    "            # Predict ratings using the model\n",
    "            predicted_rating = anime_model(user_id, anime_id, genre_id, continuous_features).squeeze()    \n",
    "            # Collect predictions and true ratings for later RMSE calculation       \n",
    "            all_predicted_ratings.extend(predicted_rating.cpu().tolist())\n",
    "            all_true_ratings.extend(true_rating.cpu().tolist()) \n",
    "            # Count predictions within the threshold of the true rating for accuracy calculation\n",
    "            correct_within_threshold += torch.sum(torch.abs(predicted_rating - true_rating) <= threshold).item()\n",
    "            total_predictions += true_rating.size(0)\n",
    "    # Calculate Root Mean Square Error (RMSE) between true and predicted ratings\n",
    "    rmse_score = calculate_rmse(np.array(all_true_ratings), np.array(all_predicted_ratings))\n",
    "    # Calculate accuracy as the percentage of predictions within the threshold range\n",
    "    accuracy = (correct_within_threshold / total_predictions) * 100 \n",
    "    # Print evaluation metrics\n",
    "    print(f\"Test RMSE: {rmse_score:.4f}\")\n",
    "    print(f\"Test Accuracy (within ±{threshold} of true rating): {accuracy:.2f}%\")"
   ]
  },
  {
   "cell_type": "markdown",
   "id": "f7cec8e8-6d4b-4d3b-acb2-63585eefea99",
   "metadata": {},
   "source": [
    "The function evaluate_anime_model evaluates on a test set and the closeness of the prediction to the actual value using accuracy parameter. The model switches to evaluation mode to turn off the gradients and batches are fetched from test_loader. For each batch, the input (user ID, anime ID, genre ID and continuous features) and the true rating are transferred to the given device. The predicted ratings by the model are compared to the actual ones and the function identifies the number of predictions within the certain range (± 0.5 by default). It computes the root mean squared error (RMSE) with the help of the calculate_rmse helper function; it saves the predicted and true ratings for overall evaluation as well as for RMSE. The results show the accuracy of the model assessment within the threshold for the ratings and the general accuracy of the model for the test dataset."
   ]
  },
  {
   "cell_type": "markdown",
   "id": "769f9e50-8ad8-42eb-9f4d-94e7c0629038",
   "metadata": {},
   "source": [
    "##### Main Function to Run Training and Evaluation"
   ]
  },
  {
   "cell_type": "code",
   "execution_count": 60,
   "id": "57a1ebca-083d-4223-9b5b-201823ef0b45",
   "metadata": {},
   "outputs": [
    {
     "name": "stderr",
     "output_type": "stream",
     "text": [
      "                                                                  \r"
     ]
    },
    {
     "name": "stdout",
     "output_type": "stream",
     "text": [
      "Epoch [1/20], Loss: 1.7980\n"
     ]
    },
    {
     "name": "stderr",
     "output_type": "stream",
     "text": [
      "                                                                  \r"
     ]
    },
    {
     "name": "stdout",
     "output_type": "stream",
     "text": [
      "Epoch [2/20], Loss: 1.6655\n"
     ]
    },
    {
     "name": "stderr",
     "output_type": "stream",
     "text": [
      "                                                                  \r"
     ]
    },
    {
     "name": "stdout",
     "output_type": "stream",
     "text": [
      "Epoch [3/20], Loss: 1.6476\n"
     ]
    },
    {
     "name": "stderr",
     "output_type": "stream",
     "text": [
      "                                                                  \r"
     ]
    },
    {
     "name": "stdout",
     "output_type": "stream",
     "text": [
      "Epoch [4/20], Loss: 1.6284\n"
     ]
    },
    {
     "name": "stderr",
     "output_type": "stream",
     "text": [
      "                                                                  \r"
     ]
    },
    {
     "name": "stdout",
     "output_type": "stream",
     "text": [
      "Epoch [5/20], Loss: 1.6074\n"
     ]
    },
    {
     "name": "stderr",
     "output_type": "stream",
     "text": [
      "                                                                  \r"
     ]
    },
    {
     "name": "stdout",
     "output_type": "stream",
     "text": [
      "Epoch [6/20], Loss: 1.5870\n"
     ]
    },
    {
     "name": "stderr",
     "output_type": "stream",
     "text": [
      "                                                                  \r"
     ]
    },
    {
     "name": "stdout",
     "output_type": "stream",
     "text": [
      "Epoch [7/20], Loss: 1.5683\n"
     ]
    },
    {
     "name": "stderr",
     "output_type": "stream",
     "text": [
      "                                                                  \r"
     ]
    },
    {
     "name": "stdout",
     "output_type": "stream",
     "text": [
      "Epoch [8/20], Loss: 1.5509\n"
     ]
    },
    {
     "name": "stderr",
     "output_type": "stream",
     "text": [
      "                                                                  \r"
     ]
    },
    {
     "name": "stdout",
     "output_type": "stream",
     "text": [
      "Epoch [9/20], Loss: 1.5343\n"
     ]
    },
    {
     "name": "stderr",
     "output_type": "stream",
     "text": [
      "                                                                   \r"
     ]
    },
    {
     "name": "stdout",
     "output_type": "stream",
     "text": [
      "Epoch [10/20], Loss: 1.5190\n"
     ]
    },
    {
     "name": "stderr",
     "output_type": "stream",
     "text": [
      "                                                                   \r"
     ]
    },
    {
     "name": "stdout",
     "output_type": "stream",
     "text": [
      "Epoch [11/20], Loss: 1.5044\n"
     ]
    },
    {
     "name": "stderr",
     "output_type": "stream",
     "text": [
      "                                                                   \r"
     ]
    },
    {
     "name": "stdout",
     "output_type": "stream",
     "text": [
      "Epoch [12/20], Loss: 1.4900\n"
     ]
    },
    {
     "name": "stderr",
     "output_type": "stream",
     "text": [
      "                                                                   \r"
     ]
    },
    {
     "name": "stdout",
     "output_type": "stream",
     "text": [
      "Epoch [13/20], Loss: 1.4758\n"
     ]
    },
    {
     "name": "stderr",
     "output_type": "stream",
     "text": [
      "                                                                   \r"
     ]
    },
    {
     "name": "stdout",
     "output_type": "stream",
     "text": [
      "Epoch [14/20], Loss: 1.4615\n"
     ]
    },
    {
     "name": "stderr",
     "output_type": "stream",
     "text": [
      "                                                                   \r"
     ]
    },
    {
     "name": "stdout",
     "output_type": "stream",
     "text": [
      "Epoch [15/20], Loss: 1.4477\n"
     ]
    },
    {
     "name": "stderr",
     "output_type": "stream",
     "text": [
      "                                                                   \r"
     ]
    },
    {
     "name": "stdout",
     "output_type": "stream",
     "text": [
      "Epoch [16/20], Loss: 1.4339\n"
     ]
    },
    {
     "name": "stderr",
     "output_type": "stream",
     "text": [
      "                                                                   \r"
     ]
    },
    {
     "name": "stdout",
     "output_type": "stream",
     "text": [
      "Epoch [17/20], Loss: 1.4198\n"
     ]
    },
    {
     "name": "stderr",
     "output_type": "stream",
     "text": [
      "                                                                   \r"
     ]
    },
    {
     "name": "stdout",
     "output_type": "stream",
     "text": [
      "Epoch [18/20], Loss: 1.4060\n"
     ]
    },
    {
     "name": "stderr",
     "output_type": "stream",
     "text": [
      "                                                                   \r"
     ]
    },
    {
     "name": "stdout",
     "output_type": "stream",
     "text": [
      "Epoch [19/20], Loss: 1.3925\n"
     ]
    },
    {
     "name": "stderr",
     "output_type": "stream",
     "text": [
      "                                                                   \r"
     ]
    },
    {
     "name": "stdout",
     "output_type": "stream",
     "text": [
      "Epoch [20/20], Loss: 1.3792\n"
     ]
    },
    {
     "name": "stderr",
     "output_type": "stream",
     "text": [
      "Testing: 100%|██████████| 18597/18597 [05:37<00:00, 55.08it/s] \n"
     ]
    },
    {
     "name": "stdout",
     "output_type": "stream",
     "text": [
      "Test RMSE: 1.3105\n",
      "Test Accuracy (within ±0.5 of true rating): 33.70%\n"
     ]
    }
   ],
   "source": [
    "def main_training_evaluation(anime_data_frame):\n",
    "    # Define the dimensions of the embeddings for users, anime, and genres\n",
    "    embedding_dims = {'user_embedding_dim': 16, 'anime_embedding_dim': 16, 'genre_embedding_dim': 8}\n",
    "    # Calculate the maximum user, anime, and genre IDs to set embedding sizes\n",
    "    max_user_id = anime_data_frame['user_id'].max() + 1\n",
    "    max_anime_id = anime_data_frame['anime_id'].max() + 1\n",
    "    max_genre_id = anime_data_frame['Genres'].max() + 1\n",
    "    # Define the number of continuous features used in the model (e.g., ratings, scores)\n",
    "    num_continuous_features = 9\n",
    "    # Set the device to GPU if available, otherwise use CPU\n",
    "    device = torch.device(\"cuda\" if torch.cuda.is_available() else \"cpu\")\n",
    "    # Initialize the Wide and Deep Model for anime recommendations\n",
    "    anime_model = AnimeWideAndDeepModel(max_user_id, max_anime_id, max_genre_id, **embedding_dims, num_continuous_features=num_continuous_features).to(device)\n",
    "    # Define the Mean Squared Error (MSE) loss function for training\n",
    "    loss_criterion = nn.MSELoss()\n",
    "    # Initialize the Adam optimizer with a learning rate of 0.0005\n",
    "    model_optimizer = optim.Adam(anime_model.parameters(), lr=0.0005)\n",
    "    # Split the anime data frame into training and testing sets and scale them for the model\n",
    "    anime_train_loader, anime_test_loader = split_and_scale_data(anime_data_frame)\n",
    "    # Train the model on the training set for 20 epochs\n",
    "    train_anime_model(anime_model, \n",
    "                      anime_train_loader, \n",
    "                      num_epochs=20, \n",
    "                      loss_criterion=loss_criterion, \n",
    "                      model_optimizer=model_optimizer, \n",
    "                      device=device)\n",
    "    # Evaluate the trained model on the test set with a prediction threshold of 0.5\n",
    "    evaluate_anime_model(anime_model, \n",
    "                         anime_test_loader, \n",
    "                         threshold=0.5, \n",
    "                         device=device)\n",
    "    # Execute the training and evaluation process with the provided anime dataset\n",
    "main_training_evaluation(merged_df)"
   ]
  },
  {
   "cell_type": "code",
   "execution_count": 62,
   "id": "e659bf70-01a9-4a9a-9d3f-545d8ef3a304",
   "metadata": {},
   "outputs": [
    {
     "data": {
      "image/png": "[encoded data removed]",
      "text/plain": [
       "<Figure size 1000x600 with 1 Axes>"
      ]
     },
     "metadata": {},
     "output_type": "display_data"
    }
   ],
   "source": [
    "import matplotlib.pyplot as plt\n",
    "epochs = list(range(1, 21))\n",
    "losses = [1.7980, 1.6655, 1.6476, 1.6284, 1.6074, 1.5870, 1.5683, 1.5509, \n",
    "          1.5343, 1.5190, 1.5044, 1.4900, 1.4758, 1.4615, 1.4477, 1.4339, \n",
    "          1.4198, 1.4060, 1.3925, 1.3792]\n",
    "plt.figure(figsize=(10, 6))\n",
    "plt.plot(epochs, losses, marker='o', linestyle='-', color='b', label='Training Loss')\n",
    "plt.xlabel('Epoch')\n",
    "plt.ylabel('Loss')\n",
    "plt.title('Training Loss Over Epochs')\n",
    "plt.legend()\n",
    "plt.grid(True)\n",
    "plt.show()\n",
    "plt.show()\n"
   ]
  },
  {
   "cell_type": "markdown",
   "id": "9043fb3d-71a7-4203-a701-78f2c54b4179",
   "metadata": {},
   "source": [
    "As observed the loss begins from about 1.8 and descends gradually as the epochs increase, which shows the model is learning and reducing the loss from the data. This shown trend simply means that the model is learning progressively lower error rates as it fine tunes the weightage parameters in every epoch.\n",
    "The performance of the model for unseen data is indicated using the Test RMSE (Root Mean Square Error) of 1.3105. It is essential to know that the lower RMSE value represent the better model performance. Here, the model became reasonably accurate for the given task with the RMSE equaled to 1.3105, but it still can be improved."
   ]
  },
  {
   "cell_type": "markdown",
   "id": "5ad0bea1",
   "metadata": {},
   "source": [
    "It is evident through the steady decrease seen in the training loss that the area under the loss curve started improving and the convergence to training occurred with effective learning.\n",
    "\n",
    "Training Loss: The initial loss value of the gradient at the start is 1.7980 which then reduces to 1.3792 at the end of 20 epochs. This epitomizes a fairly consistent decrease over time where the model is gradually diminishing loss. There is little overfitting or underfitting evident from the epochs evaluated hence the model is functional as per its requirements.\n",
    "\n",
    "Test RMSE: Testing the set, the model fitted to the data had an RMSE of 1.3105 on the test set. Since RMSE is the average of the prediction errors, it is descriptive in nature and as such, lower levels of RMSE suggest improved accuracy for models. From scores of around 1.3105, levels of errors around 1.3105 are reasonable depending on the rating scales in use.\n",
    "\n",
    "Test Accuracy (within ±0.5 of true rating): From the true rating, the model was able to correctly rate within 33.70 percent of the true rating and with a margin of 0.5. This measure is especially useful for recommendation systems as it shows how near the model comes to the actual ratings. For accuracy levels this margin is approximately 33.70 for quite a substantial ratio of around 1/3 targets within the margin which is reasonable and good enough for first time readings.\n",
    "\n",
    "Observations and Potential Adjustments: \n",
    "\n",
    "With embedding dimensions of 16 for users and anime, and 8 for genres, these settings appear effective. It is possible to raise the user and anime embedding dimensions higher if one seeks even greater accuracy. \n",
    "\n",
    "The Adam optimizer that has a rate of 0.0005 allows for the model to converge in a stable manner. Other variables such as learning rate or optimizers, for example SGD with momentum, are varied from time to time. \n",
    "\n",
    "Training for 20 epochs shows effective convergence, with loss still decreasing. \n",
    "\n",
    "Performance may further improve with additional training, especially when overfitting is not a concern. \n",
    "\n",
    "Fine-tuning embedding dimensions across different features may enhance the model's representation capacity. \n",
    "\n",
    "Rearranging the wide and deep portions of the branch structure may optimize performance. \n",
    "\n",
    "Using dropout may mitigate this overfitting, should it occur. \n",
    "\n",
    "Extending the accuracy threshold margin might enable one to better evaluate how closely the model predictions actually correspond to the given ratings.\n",
    "\n"
   ]
  },
  {
   "cell_type": "markdown",
   "id": "5e106372",
   "metadata": {},
   "source": []
  }
 ],
 "metadata": {
  "kernelspec": {
   "display_name": "Python 3 (ipykernel)",
   "language": "python",
   "name": "python3"
  },
  "language_info": {
   "codemirror_mode": {
    "name": "ipython",
    "version": 3
   },
   "file_extension": ".py",
   "mimetype": "text/x-python",
   "name": "python",
   "nbconvert_exporter": "python",
   "pygments_lexer": "ipython3",
   "version": "3.10.13"
  }
 },
 "nbformat": 4,
 "nbformat_minor": 5
}
